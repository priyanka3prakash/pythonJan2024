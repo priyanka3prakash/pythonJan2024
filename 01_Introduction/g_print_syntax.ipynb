{
 "cells": [
  {
   "cell_type": "code",
   "execution_count": 1,
   "metadata": {},
   "outputs": [
    {
     "name": "stdout",
     "output_type": "stream",
     "text": [
      "Hello world\n"
     ]
    }
   ],
   "source": [
    "print(\"Hello world\")"
   ]
  },
  {
   "cell_type": "code",
   "execution_count": 2,
   "metadata": {},
   "outputs": [
    {
     "data": {
      "text/plain": [
       "'\\nPurpose: print() function syntax and usage\\n'"
      ]
     },
     "execution_count": 2,
     "metadata": {},
     "output_type": "execute_result"
    }
   ],
   "source": [
    "\"\"\"\n",
    "Purpose: print() function syntax and usage\n",
    "\"\"\"\n"
   ]
  },
  {
   "cell_type": "code",
   "execution_count": 3,
   "metadata": {},
   "outputs": [],
   "source": [
    "name = \"Almighty\"  # str"
   ]
  },
  {
   "cell_type": "code",
   "execution_count": 4,
   "metadata": {},
   "outputs": [
    {
     "data": {
      "text/plain": [
       "'Almighty'"
      ]
     },
     "execution_count": 4,
     "metadata": {},
     "output_type": "execute_result"
    }
   ],
   "source": [
    "name"
   ]
  },
  {
   "cell_type": "code",
   "execution_count": 5,
   "metadata": {},
   "outputs": [
    {
     "name": "stdout",
     "output_type": "stream",
     "text": [
      "Almighty\n"
     ]
    }
   ],
   "source": [
    "print(name)"
   ]
  },
  {
   "cell_type": "code",
   "execution_count": 6,
   "metadata": {},
   "outputs": [
    {
     "name": "stdout",
     "output_type": "stream",
     "text": [
      "name\n"
     ]
    }
   ],
   "source": [
    "print(\"name\")"
   ]
  },
  {
   "cell_type": "code",
   "execution_count": 7,
   "metadata": {},
   "outputs": [
    {
     "name": "stdout",
     "output_type": "stream",
     "text": [
      "name\n",
      "Almighty\n"
     ]
    }
   ],
   "source": [
    "print(\"name\")\n",
    "print(name)"
   ]
  },
  {
   "cell_type": "code",
   "execution_count": 8,
   "metadata": {},
   "outputs": [
    {
     "name": "stdout",
     "output_type": "stream",
     "text": [
      "name Almighty\n",
      "name: Almighty\n",
      "name= Almighty\n"
     ]
    }
   ],
   "source": [
    "print(\"name\", name)\n",
    "print(\"name:\", name)\n",
    "print(\"name=\", name)"
   ]
  },
  {
   "cell_type": "code",
   "execution_count": 10,
   "metadata": {},
   "outputs": [
    {
     "name": "stdout",
     "output_type": "stream",
     "text": [
      "Name of student is name\n",
      "Name of student is  Almighty\n"
     ]
    }
   ],
   "source": [
    "print(\"Name of student is name\")\n",
    "print(\"Name of student is \", name)"
   ]
  },
  {
   "cell_type": "code",
   "execution_count": 12,
   "metadata": {},
   "outputs": [
    {
     "name": "stdout",
     "output_type": "stream",
     "text": [
      "Name of student is  Almighty\n",
      "Name of student is Almighty\n",
      "Name of student isAlmighty\n"
     ]
    }
   ],
   "source": [
    "print(\"Name of student is \", name)\n",
    "print(\"Name of student is\", name)\n",
    "print(\"Name of student is\"+ name)"
   ]
  },
  {
   "cell_type": "code",
   "execution_count": 13,
   "metadata": {},
   "outputs": [
    {
     "name": "stdout",
     "output_type": "stream",
     "text": [
      "Name of student is Almighty\n",
      "Name of student is Almighty\n",
      "Name of student is-Almighty\n",
      "Name of student isAlmighty\n"
     ]
    }
   ],
   "source": [
    "print(\"Name of student is\", name)\n",
    "print(\"Name of student is\", name, sep=\" \")\n",
    "print(\"Name of student is\", name, sep=\"-\")\n",
    "print(\"Name of student is\", name, sep=\"\")"
   ]
  },
  {
   "cell_type": "code",
   "execution_count": 14,
   "metadata": {},
   "outputs": [
    {
     "name": "stdout",
     "output_type": "stream",
     "text": [
      "1 2 3 4 5 6\n",
      "1 2 3 4 5 6\n"
     ]
    }
   ],
   "source": [
    "print(1, 2, 3, 4, 5, 6)  # default sep=' '\n",
    "print(1, 2, 3, 4, 5, 6, sep=\" \")"
   ]
  },
  {
   "cell_type": "code",
   "execution_count": 15,
   "metadata": {},
   "outputs": [
    {
     "name": "stdout",
     "output_type": "stream",
     "text": [
      "1~2~3~4~5~6\n",
      "1_2_3_4_5_6\n",
      "1:2:3:4:5:6\n"
     ]
    }
   ],
   "source": [
    "print(1, 2, 3, 4, 5, 6, sep=\"~\")\n",
    "print(1, 2, 3, 4, 5, 6, sep=\"_\")\n",
    "print(1, 2, 3, 4, 5, 6, sep=\":\")"
   ]
  },
  {
   "cell_type": "code",
   "execution_count": 16,
   "metadata": {},
   "outputs": [
    {
     "name": "stdout",
     "output_type": "stream",
     "text": [
      "Name of Student is 1232\n"
     ]
    }
   ],
   "source": [
    "# NOTE: Python is dynamic typed language\n",
    "name = 1232\n",
    "print(\"Name of Student is\", name)"
   ]
  },
  {
   "cell_type": "code",
   "execution_count": 17,
   "metadata": {},
   "outputs": [
    {
     "ename": "TypeError",
     "evalue": "can only concatenate str (not \"int\") to str",
     "output_type": "error",
     "traceback": [
      "\u001b[0;31m---------------------------------------------------------------------------\u001b[0m",
      "\u001b[0;31mTypeError\u001b[0m                                 Traceback (most recent call last)",
      "Cell \u001b[0;32mIn[17], line 2\u001b[0m\n\u001b[1;32m      1\u001b[0m \u001b[38;5;66;03m#           str              int\u001b[39;00m\n\u001b[0;32m----> 2\u001b[0m \u001b[38;5;28mprint\u001b[39m(\u001b[38;5;124;43m'\u001b[39;49m\u001b[38;5;124;43mName of Student is\u001b[39;49m\u001b[38;5;124;43m'\u001b[39;49m\u001b[38;5;241;43m+\u001b[39;49m\u001b[43m \u001b[49m\u001b[43mname\u001b[49m)\n",
      "\u001b[0;31mTypeError\u001b[0m: can only concatenate str (not \"int\") to str"
     ]
    }
   ],
   "source": [
    "#           str              int\n",
    "print('Name of Student is'+ name)"
   ]
  },
  {
   "cell_type": "code",
   "execution_count": 18,
   "metadata": {},
   "outputs": [
    {
     "name": "stdout",
     "output_type": "stream",
     "text": [
      "1 + 2        = 3\n",
      "'1' + '2'    = 12\n"
     ]
    }
   ],
   "source": [
    "# NOTE: Python is a strictly typed language\n",
    "print(\"1 + 2        =\", 1 + 2)      # addition\n",
    "print(\"'1' + '2'    =\", \"1\" + \"2\")  # string concatenation"
   ]
  },
  {
   "cell_type": "code",
   "execution_count": 19,
   "metadata": {},
   "outputs": [
    {
     "name": "stdout",
     "output_type": "stream",
     "text": [
      "1 + int('2') = 3\n",
      "str(1) + '2' = 12\n"
     ]
    }
   ],
   "source": [
    "# 1 + '2' # TypeError: unsupported operand type(s) for +: 'int' and 'str'\n",
    "# type converters - str(), int(), float()\n",
    "print(\"1 + int('2') =\", 1 + int(\"2\"))\n",
    "print(\"str(1) + '2' =\", str(1) + \"2\")"
   ]
  },
  {
   "cell_type": "code",
   "execution_count": 20,
   "metadata": {},
   "outputs": [
    {
     "name": "stdout",
     "output_type": "stream",
     "text": [
      "int('234')   = 234\n"
     ]
    }
   ],
   "source": [
    "print(\"int('234')   =\", int(\"234\"))"
   ]
  },
  {
   "cell_type": "code",
   "execution_count": 21,
   "metadata": {},
   "outputs": [
    {
     "ename": "ValueError",
     "evalue": "invalid literal for int() with base 10: '23.4'",
     "output_type": "error",
     "traceback": [
      "\u001b[0;31m---------------------------------------------------------------------------\u001b[0m",
      "\u001b[0;31mValueError\u001b[0m                                Traceback (most recent call last)",
      "Cell \u001b[0;32mIn[21], line 1\u001b[0m\n\u001b[0;32m----> 1\u001b[0m \u001b[38;5;28mprint\u001b[39m(\u001b[38;5;124m\"\u001b[39m\u001b[38;5;124mint(\u001b[39m\u001b[38;5;124m'\u001b[39m\u001b[38;5;124m23.4\u001b[39m\u001b[38;5;124m'\u001b[39m\u001b[38;5;124m)  =\u001b[39m\u001b[38;5;124m\"\u001b[39m, \u001b[38;5;28;43mint\u001b[39;49m\u001b[43m(\u001b[49m\u001b[38;5;124;43m'\u001b[39;49m\u001b[38;5;124;43m23.4\u001b[39;49m\u001b[38;5;124;43m'\u001b[39;49m\u001b[43m)\u001b[49m)\n",
      "\u001b[0;31mValueError\u001b[0m: invalid literal for int() with base 10: '23.4'"
     ]
    }
   ],
   "source": [
    "print(\"int('23.4')  =\", int('23.4'))"
   ]
  },
  {
   "cell_type": "code",
   "execution_count": 23,
   "metadata": {},
   "outputs": [],
   "source": [
    "# print(\"int('23.4')  =\", int('23.4')) # ValueError: invalid literal for int() with base 10: '23.4'\n",
    "# print(\"int('two')  =\", int('two')) # ValueError: invalid literal for int() with base 10: 'two'\n"
   ]
  },
  {
   "cell_type": "code",
   "execution_count": 24,
   "metadata": {},
   "outputs": [
    {
     "name": "stdout",
     "output_type": "stream",
     "text": [
      "Name of Student is1232\n",
      "Name of Student is 1232\n"
     ]
    }
   ],
   "source": [
    "print(\"Name of Student is\" + str(name))\n",
    "print(\"Name of Student is\" + \" \" + str(name))"
   ]
  },
  {
   "cell_type": "markdown",
   "metadata": {},
   "source": [
    "Escapes Sequences\n",
    "\n",
    "    - characters whose presence is felt, but they were not printed\n",
    "        \\t - tab space\n",
    "        \\n - new line\n",
    "        \\b - overwrites previous character\n",
    "\n",
    "    r'' - raw string"
   ]
  },
  {
   "cell_type": "code",
   "execution_count": 26,
   "metadata": {},
   "outputs": [
    {
     "name": "stdout",
     "output_type": "stream",
     "text": [
      "hello world python\n"
     ]
    }
   ],
   "source": [
    "print(\"hello world python\")"
   ]
  },
  {
   "cell_type": "code",
   "execution_count": 27,
   "metadata": {},
   "outputs": [
    {
     "name": "stdout",
     "output_type": "stream",
     "text": [
      "hello \tworld \tpython\n"
     ]
    }
   ],
   "source": [
    "print(\"hello \\tworld \\tpython\")"
   ]
  },
  {
   "cell_type": "code",
   "execution_count": 28,
   "metadata": {},
   "outputs": [
    {
     "name": "stdout",
     "output_type": "stream",
     "text": [
      "hello \tworld \n",
      "python\n"
     ]
    }
   ],
   "source": [
    "print(\"hello \\tworld \\npython\")"
   ]
  },
  {
   "cell_type": "code",
   "execution_count": 29,
   "metadata": {},
   "outputs": [
    {
     "name": "stdout",
     "output_type": "stream",
     "text": [
      "hello \tworld \\npython\n"
     ]
    }
   ],
   "source": [
    "# To ignore the escape sequences\n",
    "print(\"hello \\tworld \\\\npython\")\n"
   ]
  },
  {
   "cell_type": "code",
   "execution_count": 30,
   "metadata": {},
   "outputs": [
    {
     "name": "stdout",
     "output_type": "stream",
     "text": [
      "hello \\tworld \\npython\n"
     ]
    }
   ],
   "source": [
    "print(r\"hello \\tworld \\npython\")"
   ]
  },
  {
   "cell_type": "code",
   "execution_count": 33,
   "metadata": {},
   "outputs": [
    {
     "name": "stdout",
     "output_type": "stream",
     "text": [
      "C:\\my\n",
      "ewfolder\n"
     ]
    }
   ],
   "source": [
    "print(\"C:\\my\\newfolder\")"
   ]
  },
  {
   "cell_type": "code",
   "execution_count": 34,
   "metadata": {},
   "outputs": [
    {
     "name": "stdout",
     "output_type": "stream",
     "text": [
      "C:\\my\\newfolder\n"
     ]
    }
   ],
   "source": [
    "print(\"C:\\\\my\\\\newfolder\")"
   ]
  },
  {
   "cell_type": "code",
   "execution_count": 35,
   "metadata": {},
   "outputs": [
    {
     "name": "stdout",
     "output_type": "stream",
     "text": [
      "C:\\my\\newfolder\n"
     ]
    }
   ],
   "source": [
    "print(r\"C:\\my\\newfolder\")"
   ]
  },
  {
   "cell_type": "markdown",
   "metadata": {},
   "source": [
    "print(data, sep=' ', end = '\\n')"
   ]
  },
  {
   "cell_type": "code",
   "execution_count": 36,
   "metadata": {},
   "outputs": [
    {
     "name": "stdout",
     "output_type": "stream",
     "text": [
      "hello\n",
      "world\n"
     ]
    }
   ],
   "source": [
    "print(\"hello\")  # default end='\\n'\n",
    "print(\"world\")"
   ]
  },
  {
   "cell_type": "code",
   "execution_count": 37,
   "metadata": {},
   "outputs": [
    {
     "name": "stdout",
     "output_type": "stream",
     "text": [
      "hello\n",
      "world\n"
     ]
    }
   ],
   "source": [
    "print(\"hello\", end=\"\\n\")\n",
    "print(\"world\", end=\"\\n\")"
   ]
  },
  {
   "cell_type": "code",
   "execution_count": 38,
   "metadata": {},
   "outputs": [
    {
     "name": "stdout",
     "output_type": "stream",
     "text": [
      "hello___world\n"
     ]
    }
   ],
   "source": [
    "print(\"hello\", end=\"___\")\n",
    "print(\"world\")  # default end='\\n'"
   ]
  },
  {
   "cell_type": "code",
   "execution_count": 39,
   "metadata": {},
   "outputs": [
    {
     "name": "stdout",
     "output_type": "stream",
     "text": [
      "hello\tworld\n"
     ]
    }
   ],
   "source": [
    "print(\"hello\", end=\"\\t\")\n",
    "print(\"world\")  # default end='\\n'"
   ]
  },
  {
   "cell_type": "code",
   "execution_count": 40,
   "metadata": {},
   "outputs": [
    {
     "name": "stdout",
     "output_type": "stream",
     "text": [
      "hello python 12132\tworld\n"
     ]
    }
   ],
   "source": [
    "print(\"hello\", \"python\", 12132, end=\"\\t\")  # default sep= ' '\n",
    "print(\"world\")  # default end='\\n'"
   ]
  },
  {
   "cell_type": "code",
   "execution_count": 41,
   "metadata": {},
   "outputs": [
    {
     "name": "stdout",
     "output_type": "stream",
     "text": [
      "hello;python;12132\tworld\n"
     ]
    }
   ],
   "source": [
    "print(\"hello\", \"python\", 12132, end=\"\\t\", sep=\";\")\n",
    "print(\"world\")  # default end='\\n'"
   ]
  },
  {
   "cell_type": "code",
   "execution_count": 42,
   "metadata": {},
   "outputs": [
    {
     "name": "stdout",
     "output_type": "stream",
     "text": [
      "1;2;3;4;5\ta-b-c-d\n"
     ]
    }
   ],
   "source": [
    "print(1, 2, 3, 4, 5, sep=\";\", end=\"\\t\")\n",
    "print(\"a\", \"b\", \"c\", \"d\", sep=\"-\")  # default end='\\n'"
   ]
  },
  {
   "cell_type": "code",
   "execution_count": 45,
   "metadata": {},
   "outputs": [
    {
     "name": "stdout",
     "output_type": "stream",
     "text": [
      "Hei\n",
      "Hi\n",
      "H\n"
     ]
    }
   ],
   "source": [
    "# \\b - overwrites previous character\n",
    "print(\"Hei\")\n",
    "print(\"He\\bi\")\n",
    "print(\"He\\b\")"
   ]
  },
  {
   "cell_type": "code",
   "execution_count": 46,
   "metadata": {},
   "outputs": [
    {
     "name": "stdout",
     "output_type": "stream",
     "text": [
      "134\n",
      "firssecond\n",
      "\bsecond\n",
      "secon\n"
     ]
    }
   ],
   "source": [
    "print(\"12\\b34\")\n",
    "print(\"first\\bsecond\")\n",
    "print(\"\\bsecond\")\n",
    "print(\"second\\b\")"
   ]
  },
  {
   "cell_type": "code",
   "execution_count": 47,
   "metadata": {},
   "outputs": [
    {
     "name": "stdout",
     "output_type": "stream",
     "text": [
      "ie\n",
      "34\n",
      "second\n",
      "1234ef\n",
      "DOG4567\n"
     ]
    }
   ],
   "source": [
    "# \\r - overwrites complete existing line\n",
    "print(\"He\\ri\")\n",
    "print(\"12\\r34\")\n",
    "print(\"first\\rsecond\")\n",
    "print(\"abcdef\\r1234\")\n",
    "print(\"1234567\\rDOG\")"
   ]
  },
  {
   "cell_type": "code",
   "execution_count": 48,
   "metadata": {},
   "outputs": [
    {
     "name": "stdout",
     "output_type": "stream",
     "text": [
      "₹\n",
      "Ǝ\n",
      "&\n"
     ]
    }
   ],
   "source": [
    "# Unicode characters \\uXXX - unicode character\n",
    "print(\"\\u20B9\")  # ₹\n",
    "print(\"\\u018e\")  # Ǝ\n",
    "\n",
    "print(\"\\046\")  # &"
   ]
  },
  {
   "cell_type": "code",
   "execution_count": 49,
   "metadata": {},
   "outputs": [
    {
     "name": "stdout",
     "output_type": "stream",
     "text": [
      "$\n",
      "ñ\n"
     ]
    }
   ],
   "source": [
    "# \\x... - hexadecimal number  - 0 to 9 and Ato F\n",
    "print(\"\\x24\")\n",
    "print(\"\\xf1\")"
   ]
  },
  {
   "cell_type": "code",
   "execution_count": 50,
   "metadata": {},
   "outputs": [
    {
     "name": "stdout",
     "output_type": "stream",
     "text": [
      "\\o24\n",
      "\u0011\n"
     ]
    }
   ],
   "source": [
    "# \\o... - octal number  - 0 to 8\n",
    "print(\"\\o24\")\n",
    "print(\"\\021\")"
   ]
  },
  {
   "cell_type": "code",
   "execution_count": 51,
   "metadata": {},
   "outputs": [
    {
     "name": "stdout",
     "output_type": "stream",
     "text": [
      "#$%*&^(*;\n"
     ]
    }
   ],
   "source": [
    "print(\"#$%*&^(*;\")"
   ]
  },
  {
   "cell_type": "code",
   "execution_count": null,
   "metadata": {},
   "outputs": [],
   "source": []
  }
 ],
 "metadata": {
  "kernelspec": {
   "display_name": "Python 3",
   "language": "python",
   "name": "python3"
  },
  "language_info": {
   "codemirror_mode": {
    "name": "ipython",
    "version": 3
   },
   "file_extension": ".py",
   "mimetype": "text/x-python",
   "name": "python",
   "nbconvert_exporter": "python",
   "pygments_lexer": "ipython3",
   "version": "3.10.13"
  }
 },
 "nbformat": 4,
 "nbformat_minor": 2
}
