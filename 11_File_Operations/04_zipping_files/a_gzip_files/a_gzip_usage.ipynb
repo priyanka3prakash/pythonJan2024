{
 "cells": [
  {
   "attachments": {},
   "cell_type": "markdown",
   "metadata": {},
   "source": [
    "## GZip File operations\n",
    "\n",
    "    - GZip application is used for compression and decompression of files.\n",
    "    - The gzip data compression algorithm itself is based on zlib module.\n",
    "    - Modes of file operation\n",
    "        binary mode: 'r', 'rb', 'a', 'ab', 'w', 'wb', 'x', 'xb'\n",
    "        text mode : 'rt', 'at', 'wt', or 'xt'"
   ]
  },
  {
   "cell_type": "code",
   "execution_count": 18,
   "metadata": {},
   "outputs": [
    {
     "name": "stdout",
     "output_type": "stream",
     "text": [
      "Functions that read and write gzipped files.\n",
      "\n",
      "The user of the file doesn't have to worry about the compression,\n",
      "but random access is not allowed.\n"
     ]
    }
   ],
   "source": [
    "import gzip\n",
    "\n",
    "print(gzip.__doc__)"
   ]
  },
  {
   "cell_type": "code",
   "execution_count": 4,
   "metadata": {},
   "outputs": [],
   "source": [
    "import os\n",
    "\n",
    "os.makedirs(\"files\", exist_ok=True)\n",
    "os.chdir(\"files\")"
   ]
  },
  {
   "attachments": {},
   "cell_type": "markdown",
   "metadata": {},
   "source": [
    "### Creating a Gzip File"
   ]
  },
  {
   "cell_type": "code",
   "execution_count": 6,
   "metadata": {},
   "outputs": [],
   "source": [
    "# Open the output file in write-binary mode and compress it with gzip\n",
    "with gzip.open(\"compressed_file.gz\", \"wb\") as f:\n",
    "    f.write(b\"This is the content of the file.\")"
   ]
  },
  {
   "attachments": {},
   "cell_type": "markdown",
   "metadata": {},
   "source": [
    "### Extracting (Unzipping/Decompression) a Gzip File"
   ]
  },
  {
   "cell_type": "code",
   "execution_count": 7,
   "metadata": {},
   "outputs": [
    {
     "name": "stdout",
     "output_type": "stream",
     "text": [
      "b'This is the content of the file.'\n"
     ]
    }
   ],
   "source": [
    "# Open the gzip file in read-binary mode and extract its contents\n",
    "with gzip.open(\"compressed_file.gz\", \"rb\") as f:\n",
    "    extracted_content = f.read()\n",
    "    print(extracted_content)"
   ]
  },
  {
   "attachments": {},
   "cell_type": "markdown",
   "metadata": {},
   "source": [
    "### Compressing a String and Writing to Gzip File"
   ]
  },
  {
   "cell_type": "code",
   "execution_count": 8,
   "metadata": {},
   "outputs": [],
   "source": [
    "string_data = \"This is the content of the string.\"\n",
    "\n",
    "# Open the output file in write-binary mode and compress the string\n",
    "with gzip.open(\"compressed_file.gz\", \"wb\") as f:\n",
    "    f.write(string_data.encode())"
   ]
  },
  {
   "attachments": {},
   "cell_type": "markdown",
   "metadata": {},
   "source": [
    "### Reading and Printing the Contents of a Gzip File Line by Line"
   ]
  },
  {
   "cell_type": "code",
   "execution_count": 9,
   "metadata": {},
   "outputs": [
    {
     "name": "stdout",
     "output_type": "stream",
     "text": [
      "This is the content of the string.\n"
     ]
    }
   ],
   "source": [
    "# Open the gzip file in read-binary mode and print its contents line by line\n",
    "with gzip.open(\"compressed_file.gz\", \"rb\") as f:\n",
    "    for line in f:\n",
    "        print(line.decode())"
   ]
  },
  {
   "attachments": {},
   "cell_type": "markdown",
   "metadata": {},
   "source": [
    "### Appending to an Existing Gzip File"
   ]
  },
  {
   "cell_type": "code",
   "execution_count": 10,
   "metadata": {},
   "outputs": [],
   "source": [
    "# Open the gzip file in append mode and write additional content to it\n",
    "with gzip.open(\"compressed_file.gz\", \"ab\") as f:\n",
    "    f.write(b\"This is additional content.\")"
   ]
  },
  {
   "cell_type": "markdown",
   "metadata": {},
   "source": [
    "### Handling FileNotFoundError When Extracting a Non-existent Gzip File"
   ]
  },
  {
   "cell_type": "code",
   "execution_count": 11,
   "metadata": {},
   "outputs": [
    {
     "name": "stdout",
     "output_type": "stream",
     "text": [
      "File not found.\n"
     ]
    }
   ],
   "source": [
    "try:\n",
    "    with gzip.open(\"nonexistent_file.gz\", \"rb\") as f:\n",
    "        extracted_content = f.read()\n",
    "        print(extracted_content)\n",
    "except FileNotFoundError:\n",
    "    print(\"File not found.\")"
   ]
  },
  {
   "cell_type": "markdown",
   "metadata": {},
   "source": [
    "### Handling GzipFileChecksumError When Reading a Corrupted Gzip File"
   ]
  },
  {
   "cell_type": "code",
   "execution_count": 13,
   "metadata": {},
   "outputs": [
    {
     "name": "stdout",
     "output_type": "stream",
     "text": [
      "file not found.\n"
     ]
    }
   ],
   "source": [
    "import gzip\n",
    "import zlib\n",
    "\n",
    "try:\n",
    "    with gzip.open(\"corrupted_file.gz\", \"rb\") as f:\n",
    "        extracted_content = f.read()\n",
    "        print(extracted_content)\n",
    "except zlib.error:\n",
    "    print(\"Gzip file is corrupted or has an incorrect checksum.\")\n",
    "except FileNotFoundError:\n",
    "    print(\"file not found.\")"
   ]
  },
  {
   "cell_type": "markdown",
   "metadata": {},
   "source": [
    "### Handling OSError When Writing to a Directory with Insufficient Permissions"
   ]
  },
  {
   "cell_type": "code",
   "execution_count": 14,
   "metadata": {},
   "outputs": [
    {
     "name": "stdout",
     "output_type": "stream",
     "text": [
      "Unable to write to the directory. Check permissions.\n"
     ]
    }
   ],
   "source": [
    "try:\n",
    "    with gzip.open(\"/path/to/unwritable_directory/compressed_file.gz\", \"wb\") as f:\n",
    "        f.write(b\"This is the content of the file.\")\n",
    "except OSError:\n",
    "    print(\"Unable to write to the directory. Check permissions.\")"
   ]
  },
  {
   "attachments": {},
   "cell_type": "markdown",
   "metadata": {},
   "source": [
    "### Specifying the Compression Level When Creating a Gzip File"
   ]
  },
  {
   "cell_type": "code",
   "execution_count": 15,
   "metadata": {},
   "outputs": [],
   "source": [
    "# Open the output file in write-binary mode and specify the compression level (0-9)\n",
    "with gzip.open(\"compressed_file.gz\", \"wb\", compresslevel=9) as f:\n",
    "    f.write(b\"This is the content of the file.\")"
   ]
  },
  {
   "attachments": {},
   "cell_type": "markdown",
   "metadata": {},
   "source": [
    "### Reading and Writing Large Files in Chunks"
   ]
  },
  {
   "cell_type": "code",
   "execution_count": 17,
   "metadata": {},
   "outputs": [],
   "source": [
    "chunk_size = 1024  # Chunk size in bytes\n",
    "\n",
    "# Read the input file in chunks and write to the output gzip file\n",
    "with open(\"large_file.txt\", \"rb\") as input_file, gzip.open(\n",
    "    \"compressed_file.gz\", \"wb\"\n",
    ") as output_file:\n",
    "    while True:\n",
    "        chunk = input_file.read(chunk_size)\n",
    "        if not chunk:\n",
    "            break\n",
    "        output_file.write(chunk)"
   ]
  }
 ],
 "metadata": {
  "kernelspec": {
   "display_name": "pythonmaterial-4Fyt9FjG-py3.11",
   "language": "python",
   "name": "python3"
  },
  "language_info": {
   "codemirror_mode": {
    "name": "ipython",
    "version": 3
   },
   "file_extension": ".py",
   "mimetype": "text/x-python",
   "name": "python",
   "nbconvert_exporter": "python",
   "pygments_lexer": "ipython3",
   "version": "3.11.3"
  },
  "orig_nbformat": 4
 },
 "nbformat": 4,
 "nbformat_minor": 2
}
