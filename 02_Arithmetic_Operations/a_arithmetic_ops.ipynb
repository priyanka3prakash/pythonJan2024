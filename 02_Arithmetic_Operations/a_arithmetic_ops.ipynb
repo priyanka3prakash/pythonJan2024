{
 "cells": [
  {
   "cell_type": "markdown",
   "metadata": {},
   "source": [
    "# Arithmetic Operations\n",
    "\n",
    "\n",
    "    Integer Family\n",
    "        - int\n",
    "        - long -> only in python 2.x\n",
    "        - float\n",
    "\n",
    "        - complex\n",
    "        - bool"
   ]
  },
  {
   "cell_type": "code",
   "execution_count": 1,
   "metadata": {},
   "outputs": [],
   "source": [
    "# = assignment operator\n",
    "\n",
    "num1 = 100\n",
    "num2 = 200"
   ]
  },
  {
   "cell_type": "code",
   "execution_count": 2,
   "metadata": {},
   "outputs": [],
   "source": [
    "num3 = num2"
   ]
  },
  {
   "cell_type": "code",
   "execution_count": 3,
   "metadata": {},
   "outputs": [
    {
     "name": "stdout",
     "output_type": "stream",
     "text": [
      "num1 = 100 <class 'int'>\n",
      "num2 = 200 <class 'int'>\n",
      "num3 = 200 <class 'int'>\n"
     ]
    }
   ],
   "source": [
    "print(\"num1 =\", num1, type(num1))\n",
    "print(\"num2 =\", num2, type(num2))\n",
    "print(\"num3 =\", num3, type(num3))"
   ]
  },
  {
   "cell_type": "code",
   "execution_count": 4,
   "metadata": {},
   "outputs": [],
   "source": [
    "# + - * / // %\n",
    "# NOTE: PEP 8 recommends to place one space around the operator"
   ]
  },
  {
   "cell_type": "code",
   "execution_count": 5,
   "metadata": {},
   "outputs": [],
   "source": [
    "# 1. Addition\n",
    "num3 = num1 + num2  # int + int = int"
   ]
  },
  {
   "cell_type": "code",
   "execution_count": 6,
   "metadata": {},
   "outputs": [
    {
     "data": {
      "text/plain": [
       "300"
      ]
     },
     "execution_count": 6,
     "metadata": {},
     "output_type": "execute_result"
    }
   ],
   "source": [
    "num3"
   ]
  },
  {
   "cell_type": "code",
   "execution_count": 7,
   "metadata": {},
   "outputs": [
    {
     "name": "stdout",
     "output_type": "stream",
     "text": [
      " num3= 300\n"
     ]
    }
   ],
   "source": [
    "print(\" num3=\", num3)"
   ]
  },
  {
   "cell_type": "code",
   "execution_count": 8,
   "metadata": {},
   "outputs": [
    {
     "name": "stdout",
     "output_type": "stream",
     "text": [
      "num4= 1.0 <class 'float'>\n"
     ]
    }
   ],
   "source": [
    "num4 = 1.0  # float\n",
    "print(\"num4=\", num4, type(num4))"
   ]
  },
  {
   "cell_type": "code",
   "execution_count": 9,
   "metadata": {},
   "outputs": [
    {
     "name": "stdout",
     "output_type": "stream",
     "text": [
      "num4= -1.2342342342 <class 'float'>\n"
     ]
    }
   ],
   "source": [
    "num4 = -1.2342342342  # float\n",
    "print(\"num4=\", num4, type(num4))"
   ]
  },
  {
   "cell_type": "code",
   "execution_count": 10,
   "metadata": {},
   "outputs": [
    {
     "name": "stdout",
     "output_type": "stream",
     "text": [
      "num5= 98.7657657658 <class 'float'>\n"
     ]
    }
   ],
   "source": [
    "num5 = num1 + num4  # int + float = float\n",
    "print(\"num5=\", num5, type(num5))"
   ]
  },
  {
   "cell_type": "code",
   "execution_count": 11,
   "metadata": {},
   "outputs": [
    {
     "name": "stdout",
     "output_type": "stream",
     "text": [
      "num6= 9999999956456434344343242343232423423423423423423432432423434123232323 <class 'int'>\n"
     ]
    }
   ],
   "source": [
    "# Question 1: what is the largest number that can be processed in python\n",
    "num6 = 9999999956456434344343242343232423423423423423423432432423434123232323\n",
    "print(\"num6=\", num6, type(num6))"
   ]
  },
  {
   "cell_type": "code",
   "execution_count": 12,
   "metadata": {},
   "outputs": [
    {
     "name": "stdout",
     "output_type": "stream",
     "text": [
      "num6= 2.130213869388792e-05 <class 'float'>\n"
     ]
    }
   ],
   "source": [
    "# Question 2: what is the smallest number that can be processed in python\n",
    "num6 = 0.00002130213869388792183798798321989812739\n",
    "print(\"num6=\", num6, type(num6))"
   ]
  },
  {
   "cell_type": "code",
   "execution_count": 14,
   "metadata": {},
   "outputs": [
    {
     "data": {
      "text/plain": [
       "(1e-12, Decimal('1E-12'))"
      ]
     },
     "execution_count": 14,
     "metadata": {},
     "output_type": "execute_result"
    }
   ],
   "source": [
    "from decimal import Decimal\n",
    "\n",
    "0.000000000001, Decimal(\"0.000000000001\")"
   ]
  },
  {
   "cell_type": "code",
   "execution_count": 15,
   "metadata": {},
   "outputs": [
    {
     "data": {
      "text/plain": [
       "(0.2343242349, Decimal('0.2343242349000'))"
      ]
     },
     "execution_count": 15,
     "metadata": {},
     "output_type": "execute_result"
    }
   ],
   "source": [
    "0.2343242349000, Decimal(\"0.2343242349000\")"
   ]
  },
  {
   "cell_type": "code",
   "execution_count": 16,
   "metadata": {},
   "outputs": [
    {
     "data": {
      "text/plain": [
       "(0.3333333333333333, Fraction(1, 3))"
      ]
     },
     "execution_count": 16,
     "metadata": {},
     "output_type": "execute_result"
    }
   ],
   "source": [
    "from fractions import Fraction\n",
    "\n",
    "1/3, Fraction('1/3')"
   ]
  },
  {
   "cell_type": "code",
   "execution_count": 17,
   "metadata": {},
   "outputs": [
    {
     "name": "stdout",
     "output_type": "stream",
     "text": [
      "123 + 100 =  223\n",
      "123 - 100 =  23\n",
      "123 * 100 =  12300\n",
      "123 / 100 =  1.23\n"
     ]
    }
   ],
   "source": [
    "# Arithmetic Operations\n",
    "print(\"123 + 100 = \", 123 + 100)\n",
    "print(\"123 - 100 = \", 123 - 100)\n",
    "print(\"123 * 100 = \", 123 * 100)\n",
    "print(\"123 / 100 = \", 123 / 100)"
   ]
  },
  {
   "cell_type": "code",
   "execution_count": 18,
   "metadata": {},
   "outputs": [
    {
     "name": "stdout",
     "output_type": "stream",
     "text": [
      "10/2 =  5.0\n",
      "10/5 =  2.0\n",
      "10/3 =  3.3333333333333335\n"
     ]
    }
   ],
   "source": [
    "print(\"10/2 = \", 10 / 2)\n",
    "print(\"10/5 = \", 10 / 5)\n",
    "print(\"10/3 = \", 10 / 3)\n",
    "# NOTE: division result will be floating point every time\n"
   ]
  },
  {
   "cell_type": "markdown",
   "metadata": {},
   "source": [
    "```\n",
    "3 )10 (3.3\n",
    "    9\n",
    "   ---\n",
    "    10\n",
    "     9\n",
    "--------\n",
    "     10\n",
    "\n",
    "\n",
    "3) 10(3  <-- Quotient  //\n",
    "    9\n",
    "   --\n",
    "    1  <-- Remainder  %\n",
    "\n",
    "```"
   ]
  },
  {
   "cell_type": "code",
   "execution_count": 19,
   "metadata": {},
   "outputs": [
    {
     "name": "stdout",
     "output_type": "stream",
     "text": [
      "10 / 3 =  3.3333333333333335\n",
      "10 // 3 =  3\n",
      "10 % 3  =  1\n"
     ]
    }
   ],
   "source": [
    "print(\"10 / 3 = \", 10 / 3)    # true division\n",
    "print(\"10 // 3 = \", 10 // 3)  # quotient - floor division\n",
    "print(\"10 % 3  = \", 10 % 3)   # remainder - modulo division"
   ]
  },
  {
   "cell_type": "code",
   "execution_count": 20,
   "metadata": {},
   "outputs": [
    {
     "name": "stdout",
     "output_type": "stream",
     "text": [
      "divmod(10, 3)= (3, 1)\n"
     ]
    }
   ],
   "source": [
    "print(\"divmod(10, 3)=\", divmod(10, 3))  # //, %"
   ]
  },
  {
   "cell_type": "code",
   "execution_count": 21,
   "metadata": {},
   "outputs": [
    {
     "name": "stdout",
     "output_type": "stream",
     "text": [
      "\n",
      "10 // 2      = 5\n",
      "10 % 2       = 0\n",
      "divmod(10, 2)= (5, 0)\n"
     ]
    }
   ],
   "source": [
    "\"\"\"\n",
    "10/2\n",
    "\n",
    "    2 ) 10 ( 5  <-- Quotient\n",
    "        10\n",
    "        ---\n",
    "         0  <--- remainder\n",
    "\n",
    "\"\"\"\n",
    "print()\n",
    "print(\"10 // 2      =\", 10 // 2)\n",
    "print(\"10 % 2       =\", 10 % 2)\n",
    "print(\"divmod(10, 2)=\", divmod(10, 2))  # //, %"
   ]
  },
  {
   "cell_type": "code",
   "execution_count": 22,
   "metadata": {},
   "outputs": [
    {
     "name": "stdout",
     "output_type": "stream",
     "text": [
      "10 / 3   =  3.3333333333333335\n",
      "-10 / 3  =  -3.3333333333333335\n",
      "10 / -3  =  -3.3333333333333335\n",
      "-10 / -3 =  3.3333333333333335\n"
     ]
    }
   ],
   "source": [
    "# IMPORTANCE OF SIGNS\n",
    "print(\"10 / 3   = \", 10 / 3)  # 3.3333333333333335\n",
    "print(\"-10 / 3  = \", -10 / 3)  # -3.3333333333333335\n",
    "print(\"10 / -3  = \", 10 / -3)  # -3.3333333333333335\n",
    "print(\"-10 / -3 = \", -10 / -3)  # 3.3333333333333335\n"
   ]
  },
  {
   "cell_type": "code",
   "execution_count": 23,
   "metadata": {},
   "outputs": [
    {
     "name": "stdout",
     "output_type": "stream",
     "text": [
      "10 // 3   =  3\n",
      "-10 // 3  =  -4\n",
      "10 // -3  =  -4\n",
      "-10 // -3 =  3\n"
     ]
    }
   ],
   "source": [
    "# The result is always rounded towards minus infinity\n",
    "print(\"10 // 3   = \", 10 // 3)    # 3     3 <  3.333 < 4\n",
    "print(\"-10 // 3  = \", -10 // 3)   # -4    -4 < -3.333 < 3\n",
    "print(\"10 // -3  = \", 10 // -3)   # -4    -4 < -3.333 < 3\n",
    "print(\"-10 // -3 = \", -10 // -3)  # 3     3 <  3.333 < 4"
   ]
  },
  {
   "cell_type": "code",
   "execution_count": 24,
   "metadata": {},
   "outputs": [
    {
     "name": "stdout",
     "output_type": "stream",
     "text": [
      "10 % 3   =  1\n",
      "-10 % 3  =  2\n",
      "10 % -3  =  -2\n",
      "-10 % -3 =  -1\n"
     ]
    }
   ],
   "source": [
    "print(\"10 % 3   = \", 10 % 3)    # 1\n",
    "print(\"-10 % 3  = \", -10 % 3)   # 2\n",
    "print(\"10 % -3  = \", 10 % -3)   # -2\n",
    "print(\"-10 % -3 = \", -10 % -3)  # -1"
   ]
  },
  {
   "cell_type": "markdown",
   "metadata": {},
   "source": [
    "## Compound operations"
   ]
  },
  {
   "cell_type": "code",
   "execution_count": 25,
   "metadata": {},
   "outputs": [
    {
     "data": {
      "text/plain": [
       "223"
      ]
     },
     "execution_count": 25,
     "metadata": {},
     "output_type": "execute_result"
    }
   ],
   "source": [
    "100 + 123"
   ]
  },
  {
   "cell_type": "code",
   "execution_count": 26,
   "metadata": {},
   "outputs": [
    {
     "data": {
      "text/plain": [
       "223"
      ]
     },
     "execution_count": 26,
     "metadata": {},
     "output_type": "execute_result"
    }
   ],
   "source": [
    "num1 = 100 + 123\n",
    "num1"
   ]
  },
  {
   "cell_type": "code",
   "execution_count": 27,
   "metadata": {},
   "outputs": [
    {
     "data": {
      "text/plain": [
       "233"
      ]
     },
     "execution_count": 27,
     "metadata": {},
     "output_type": "execute_result"
    }
   ],
   "source": [
    "num1 + 10"
   ]
  },
  {
   "cell_type": "code",
   "execution_count": 28,
   "metadata": {},
   "outputs": [
    {
     "data": {
      "text/plain": [
       "223"
      ]
     },
     "execution_count": 28,
     "metadata": {},
     "output_type": "execute_result"
    }
   ],
   "source": [
    "num1"
   ]
  },
  {
   "cell_type": "code",
   "execution_count": 29,
   "metadata": {},
   "outputs": [],
   "source": [
    "num1 = num1 + 10"
   ]
  },
  {
   "cell_type": "code",
   "execution_count": 30,
   "metadata": {},
   "outputs": [
    {
     "data": {
      "text/plain": [
       "233"
      ]
     },
     "execution_count": 30,
     "metadata": {},
     "output_type": "execute_result"
    }
   ],
   "source": [
    "num1"
   ]
  },
  {
   "cell_type": "code",
   "execution_count": 31,
   "metadata": {},
   "outputs": [
    {
     "data": {
      "text/plain": [
       "243"
      ]
     },
     "execution_count": 31,
     "metadata": {},
     "output_type": "execute_result"
    }
   ],
   "source": [
    "# NOTE: In cases, where the same variable is present both the sides,\n",
    "# then compound operations are valid\n",
    "num1 += 10 # num1 = num1 + 10\n",
    "num1"
   ]
  },
  {
   "cell_type": "code",
   "execution_count": 32,
   "metadata": {},
   "outputs": [
    {
     "data": {
      "text/plain": [
       "237"
      ]
     },
     "execution_count": 32,
     "metadata": {},
     "output_type": "execute_result"
    }
   ],
   "source": [
    "num1 -= 6 # num1 = num1 - 6\n",
    "\n",
    "num1"
   ]
  },
  {
   "cell_type": "code",
   "execution_count": 33,
   "metadata": {},
   "outputs": [
    {
     "data": {
      "text/plain": [
       "2370"
      ]
     },
     "execution_count": 33,
     "metadata": {},
     "output_type": "execute_result"
    }
   ],
   "source": [
    "num1 *= 10 # num1 = num1 * 10\n",
    "num1"
   ]
  },
  {
   "cell_type": "code",
   "execution_count": 34,
   "metadata": {},
   "outputs": [
    {
     "name": "stdout",
     "output_type": "stream",
     "text": [
      "num1 = 49059.0\n"
     ]
    }
   ],
   "source": [
    "num1 *= (1.5 + 20 - 4 / 5)  # num1 = num1 *(1.5 + 20 - 4/5)\n",
    "print(\"num1 =\", num1)  #"
   ]
  },
  {
   "cell_type": "code",
   "execution_count": 35,
   "metadata": {},
   "outputs": [
    {
     "data": {
      "text/plain": [
       "981.18"
      ]
     },
     "execution_count": 35,
     "metadata": {},
     "output_type": "execute_result"
    }
   ],
   "source": [
    "other_num = 50\n",
    "num1 /= other_num  # num1 = num1 / other_num#\n",
    "num1"
   ]
  },
  {
   "cell_type": "code",
   "execution_count": 36,
   "metadata": {},
   "outputs": [
    {
     "name": "stdout",
     "output_type": "stream",
     "text": [
      "num1 = 1.17999999999995\n"
     ]
    }
   ],
   "source": [
    "num1 %= 10  # num1 = num1 % 10\n",
    "print(\"num1 =\", num1)"
   ]
  },
  {
   "cell_type": "code",
   "execution_count": 37,
   "metadata": {},
   "outputs": [
    {
     "name": "stdout",
     "output_type": "stream",
     "text": [
      "num1 = 5.233835553796349\n"
     ]
    }
   ],
   "source": [
    "num1 **= 10  # num1 = num1 ** 10\n",
    "print(\"num1 =\", num1)"
   ]
  },
  {
   "cell_type": "code",
   "execution_count": 38,
   "metadata": {},
   "outputs": [],
   "source": [
    "# NOTE: python doesn't support unary operations ;\n",
    "# ++i, i++, --i, i--\n",
    "# it should used as i += 1, i -=1"
   ]
  },
  {
   "cell_type": "code",
   "execution_count": 39,
   "metadata": {},
   "outputs": [],
   "source": [
    "# *  multiplication operator\n",
    "# ** power operator"
   ]
  },
  {
   "cell_type": "code",
   "execution_count": 40,
   "metadata": {},
   "outputs": [
    {
     "name": "stdout",
     "output_type": "stream",
     "text": [
      "power operation **\n",
      "4 ** 2           =  16\n",
      "64 ** (1/2)      =  8.0\n",
      "64 ** (1/2.0)    =  8.0\n",
      "64 ** 0.5        =  8.0\n"
     ]
    }
   ],
   "source": [
    "print(\"power operation **\")\n",
    "print(\"4 ** 2           = \", 4**2)\n",
    "print(\"64 ** (1/2)      = \", 64 ** (1 / 2))  # square root\n",
    "print(\"64 ** (1/2.0)    = \", 64 ** (1 / 2.0))  # square root\n",
    "print(\"64 ** 0.5        = \", 64**0.5)  # square root"
   ]
  },
  {
   "cell_type": "code",
   "execution_count": 41,
   "metadata": {},
   "outputs": [
    {
     "name": "stdout",
     "output_type": "stream",
     "text": [
      "64 ** 1/2        =  32.0\n",
      "(64 ** 1)/2      =  32.0\n",
      "64 ** (1/2)      =  8.0\n"
     ]
    }
   ],
   "source": [
    "# Operator precedence - PEMDAS\n",
    "print(\"64 ** 1/2        = \", 64**1 / 2)  # 32\n",
    "print(\"(64 ** 1)/2      = \", (64**1) / 2)  # 32\n",
    "print(\"64 ** (1/2)      = \", 64 ** (1 / 2))  # 8.0\n"
   ]
  },
  {
   "cell_type": "code",
   "execution_count": 1,
   "metadata": {},
   "outputs": [
    {
     "name": "stdout",
     "output_type": "stream",
     "text": [
      "pow(4,2)         = 16\n",
      "pow(64,1/2)      = 8.0\n",
      "pow(64,1/2.0)    = 8.0\n",
      "pow(64,0.5)      = 8.0\n"
     ]
    }
   ],
   "source": [
    "print(\"pow(4,2)         =\", pow(4, 2))\n",
    "print(\"pow(64,1/2)      =\", pow(64, 1 / 2))\n",
    "print(\"pow(64,1/2.0)    =\", pow(64, 1 / 2.0))\n",
    "print(\"pow(64,0.5)      =\", pow(64, 0.5))"
   ]
  },
  {
   "cell_type": "code",
   "execution_count": 2,
   "metadata": {},
   "outputs": [
    {
     "data": {
      "text/plain": [
       "7"
      ]
     },
     "execution_count": 2,
     "metadata": {},
     "output_type": "execute_result"
    }
   ],
   "source": [
    "pow(4, 2, 9) # (4 ** 2) % 9"
   ]
  },
  {
   "cell_type": "code",
   "execution_count": 3,
   "metadata": {},
   "outputs": [
    {
     "data": {
      "text/plain": [
       "7"
      ]
     },
     "execution_count": 3,
     "metadata": {},
     "output_type": "execute_result"
    }
   ],
   "source": [
    "(4 ** 2) % 9"
   ]
  },
  {
   "cell_type": "code",
   "execution_count": 4,
   "metadata": {},
   "outputs": [
    {
     "data": {
      "text/plain": [
       "True"
      ]
     },
     "execution_count": 4,
     "metadata": {},
     "output_type": "execute_result"
    }
   ],
   "source": [
    "# == value level equivalence check - check LHS & RHS\n",
    "2 == 2"
   ]
  },
  {
   "cell_type": "code",
   "execution_count": 5,
   "metadata": {},
   "outputs": [
    {
     "data": {
      "text/plain": [
       "True"
      ]
     },
     "execution_count": 5,
     "metadata": {},
     "output_type": "execute_result"
    }
   ],
   "source": [
    "num1 = 200\n",
    "num2 = 200\n",
    "\n",
    "num1 == num2"
   ]
  },
  {
   "cell_type": "code",
   "execution_count": 6,
   "metadata": {},
   "outputs": [
    {
     "data": {
      "text/plain": [
       "True"
      ]
     },
     "execution_count": 6,
     "metadata": {},
     "output_type": "execute_result"
    }
   ],
   "source": [
    "pow(4, 2, 9) == (4 ** 2) % 9"
   ]
  },
  {
   "cell_type": "code",
   "execution_count": 7,
   "metadata": {},
   "outputs": [
    {
     "name": "stdout",
     "output_type": "stream",
     "text": [
      "Exponent Notation/Representation\n",
      "1e1           =  10.0\n",
      "1 * 10.0 ** 1 =  10.0\n"
     ]
    }
   ],
   "source": [
    "print(\"Exponent Notation/Representation\")\n",
    "print(\"1e1           = \", 1e1)\n",
    "print(\"1 * 10.0 ** 1 = \", 1 * 10.0**1)"
   ]
  },
  {
   "cell_type": "code",
   "execution_count": 8,
   "metadata": {},
   "outputs": [
    {
     "ename": "NameError",
     "evalue": "name 'e' is not defined",
     "output_type": "error",
     "traceback": [
      "\u001b[0;31m---------------------------------------------------------------------------\u001b[0m",
      "\u001b[0;31mNameError\u001b[0m                                 Traceback (most recent call last)",
      "Cell \u001b[0;32mIn[8], line 1\u001b[0m\n\u001b[0;32m----> 1\u001b[0m \u001b[43me\u001b[49m\n",
      "\u001b[0;31mNameError\u001b[0m: name 'e' is not defined"
     ]
    }
   ],
   "source": [
    "e"
   ]
  },
  {
   "cell_type": "code",
   "execution_count": 10,
   "metadata": {},
   "outputs": [
    {
     "data": {
      "text/plain": [
       "10.0"
      ]
     },
     "execution_count": 10,
     "metadata": {},
     "output_type": "execute_result"
    }
   ],
   "source": [
    "1e1"
   ]
  },
  {
   "cell_type": "code",
   "execution_count": 11,
   "metadata": {},
   "outputs": [
    {
     "name": "stdout",
     "output_type": "stream",
     "text": [
      "velocity of light 300000000.0\n"
     ]
    }
   ],
   "source": [
    "print(\"velocity of light\", 3e8)  # 3 * 10.0 ** 8"
   ]
  },
  {
   "cell_type": "code",
   "execution_count": 12,
   "metadata": {},
   "outputs": [
    {
     "data": {
      "text/plain": [
       "300.0"
      ]
     },
     "execution_count": 12,
     "metadata": {},
     "output_type": "execute_result"
    }
   ],
   "source": [
    "3e2"
   ]
  },
  {
   "cell_type": "code",
   "execution_count": 13,
   "metadata": {},
   "outputs": [
    {
     "data": {
      "text/plain": [
       "3000000000000.0"
      ]
     },
     "execution_count": 13,
     "metadata": {},
     "output_type": "execute_result"
    }
   ],
   "source": [
    "3e12"
   ]
  },
  {
   "cell_type": "code",
   "execution_count": 14,
   "metadata": {},
   "outputs": [
    {
     "data": {
      "text/plain": [
       "-23000.0"
      ]
     },
     "execution_count": 14,
     "metadata": {},
     "output_type": "execute_result"
    }
   ],
   "source": [
    "-2.3e4"
   ]
  },
  {
   "cell_type": "markdown",
   "metadata": {},
   "source": [
    "### number formatting\n",
    "\n",
    "    Representing big(large and small) numbers\n",
    "\n",
    "    Numeric literal allow optional underscores to help\n",
    "    improve the readability"
   ]
  },
  {
   "cell_type": "code",
   "execution_count": 15,
   "metadata": {},
   "outputs": [
    {
     "name": "stdout",
     "output_type": "stream",
     "text": [
      "num = 100\n"
     ]
    }
   ],
   "source": [
    "num = 100\n",
    "print(\"num =\", num)"
   ]
  },
  {
   "cell_type": "code",
   "execution_count": 16,
   "metadata": {},
   "outputs": [
    {
     "data": {
      "text/plain": [
       "765765765785878686876876868"
      ]
     },
     "execution_count": 16,
     "metadata": {},
     "output_type": "execute_result"
    }
   ],
   "source": [
    "765765765785878686876876868"
   ]
  },
  {
   "cell_type": "code",
   "execution_count": 17,
   "metadata": {},
   "outputs": [
    {
     "data": {
      "text/plain": [
       "(76576576578587868687, 68, 76, 868)"
      ]
     },
     "execution_count": 17,
     "metadata": {},
     "output_type": "execute_result"
    }
   ],
   "source": [
    "76576576578587868687,68,76,868  # tuple"
   ]
  },
  {
   "cell_type": "code",
   "execution_count": 18,
   "metadata": {},
   "outputs": [
    {
     "data": {
      "text/plain": [
       "765765765785878686876876868"
      ]
     },
     "execution_count": 18,
     "metadata": {},
     "output_type": "execute_result"
    }
   ],
   "source": [
    "76576576578587868687_68_76_868"
   ]
  },
  {
   "cell_type": "code",
   "execution_count": 19,
   "metadata": {},
   "outputs": [
    {
     "data": {
      "text/plain": [
       "765765765785878.6"
      ]
     },
     "execution_count": 19,
     "metadata": {},
     "output_type": "execute_result"
    }
   ],
   "source": [
    "76576576_5785_878.68687_68_76_868"
   ]
  },
  {
   "cell_type": "code",
   "execution_count": 20,
   "metadata": {},
   "outputs": [
    {
     "name": "stdout",
     "output_type": "stream",
     "text": [
      "<class 'int'> 299792458\n",
      "<class 'tuple'> (299, 792, 458)\n",
      "<class 'int'> 299792458\n"
     ]
    }
   ],
   "source": [
    "# Larger numbers\n",
    "speed_of_light = 299792458\n",
    "print(type(speed_of_light), speed_of_light)\n",
    "\n",
    "speed_of_light = 299,792,458\n",
    "print(type(speed_of_light), speed_of_light)\n",
    "\n",
    "speed_of_light = 299_792_458\n",
    "print(type(speed_of_light), speed_of_light)"
   ]
  },
  {
   "cell_type": "code",
   "execution_count": 21,
   "metadata": {},
   "outputs": [
    {
     "name": "stdout",
     "output_type": "stream",
     "text": [
      "<class 'str'> 299_792_458\n"
     ]
    }
   ],
   "source": [
    "speed_of_light = \"299_792_458\"\n",
    "print(type(speed_of_light), speed_of_light)"
   ]
  },
  {
   "cell_type": "code",
   "execution_count": 22,
   "metadata": {},
   "outputs": [
    {
     "name": "stdout",
     "output_type": "stream",
     "text": [
      "<class 'float'> 3.1415923223213453\n"
     ]
    }
   ],
   "source": [
    "# smaller numbers\n",
    "pi_value = 3.1415_9232_2321_3453\n",
    "print(type(pi_value), pi_value)"
   ]
  },
  {
   "cell_type": "code",
   "execution_count": 23,
   "metadata": {},
   "outputs": [
    {
     "name": "stdout",
     "output_type": "stream",
     "text": [
      "<class 'float'> 6.022140857e+23\n"
     ]
    }
   ],
   "source": [
    "avogadro_number = 6.022_140_857e23\n",
    "print(type(avogadro_number), avogadro_number)"
   ]
  },
  {
   "cell_type": "code",
   "execution_count": 24,
   "metadata": {},
   "outputs": [
    {
     "name": "stdout",
     "output_type": "stream",
     "text": [
      "123453213213\n"
     ]
    }
   ],
   "source": [
    "print(1_2_3_4_53_213_213)  # 123453213213"
   ]
  },
  {
   "cell_type": "code",
   "execution_count": 25,
   "metadata": {},
   "outputs": [
    {
     "ename": "SyntaxError",
     "evalue": "invalid decimal literal (2094855992.py, line 1)",
     "output_type": "error",
     "traceback": [
      "\u001b[0;36m  Cell \u001b[0;32mIn[25], line 1\u001b[0;36m\u001b[0m\n\u001b[0;31m    1_2_3_4_53_213__213\u001b[0m\n\u001b[0m                  ^\u001b[0m\n\u001b[0;31mSyntaxError\u001b[0m\u001b[0;31m:\u001b[0m invalid decimal literal\n"
     ]
    }
   ],
   "source": [
    "1_2_3_4_53_213__213"
   ]
  },
  {
   "cell_type": "markdown",
   "metadata": {},
   "source": [
    "NOTE:  NO MORE THAN ONE CONTINOUS UNDERSCORES SyntaxError: invalid decimal literal"
   ]
  }
 ],
 "metadata": {
  "kernelspec": {
   "display_name": "Python 3",
   "language": "python",
   "name": "python3"
  },
  "language_info": {
   "codemirror_mode": {
    "name": "ipython",
    "version": 3
   },
   "file_extension": ".py",
   "mimetype": "text/x-python",
   "name": "python",
   "nbconvert_exporter": "python",
   "pygments_lexer": "ipython3",
   "version": "3.10.13"
  }
 },
 "nbformat": 4,
 "nbformat_minor": 2
}
