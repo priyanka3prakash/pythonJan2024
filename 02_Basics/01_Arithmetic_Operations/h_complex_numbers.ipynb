{
 "cells": [
  {
   "cell_type": "markdown",
   "metadata": {},
   "source": [
    "# Complex Numbers\n",
    "\n",
    "    Complex Number = Real Number +/- Imaginary Number\n",
    "\n",
    "    In python, 'j' is used to represent the imaginary number."
   ]
  },
  {
   "cell_type": "code",
   "execution_count": 1,
   "metadata": {},
   "outputs": [
    {
     "name": "stdout",
     "output_type": "stream",
     "text": [
      "num1= 2 <class 'int'>\n"
     ]
    }
   ],
   "source": [
    "num1 = 2\n",
    "print(\"num1=\", num1, type(num1))"
   ]
  },
  {
   "cell_type": "code",
   "execution_count": 2,
   "metadata": {},
   "outputs": [
    {
     "name": "stdout",
     "output_type": "stream",
     "text": [
      "num1= 5 <class 'int'>\n"
     ]
    }
   ],
   "source": [
    "num1 = 2 + 3\n",
    "print(\"num1=\", num1, type(num1))"
   ]
  },
  {
   "cell_type": "code",
   "execution_count": 3,
   "metadata": {},
   "outputs": [
    {
     "name": "stdout",
     "output_type": "stream",
     "text": [
      "num1= (2+3j) <class 'complex'>\n"
     ]
    }
   ],
   "source": [
    "num1 = 2 + 3j\n",
    "print(\"num1=\", num1, type(num1))"
   ]
  },
  {
   "cell_type": "code",
   "execution_count": 4,
   "metadata": {},
   "outputs": [
    {
     "name": "stdout",
     "output_type": "stream",
     "text": [
      "num1= (-0.02+3.234j) <class 'complex'>\n"
     ]
    }
   ],
   "source": [
    "num1 = -0.02 + 3.234j\n",
    "print(\"num1=\", num1, type(num1))"
   ]
  },
  {
   "cell_type": "code",
   "execution_count": 5,
   "metadata": {},
   "outputs": [
    {
     "name": "stdout",
     "output_type": "stream",
     "text": [
      "num1= (-0.02+0j) <class 'complex'>\n"
     ]
    }
   ],
   "source": [
    "num1 = -0.02 + 0j\n",
    "print(\"num1=\", num1, type(num1))"
   ]
  },
  {
   "cell_type": "code",
   "execution_count": 8,
   "metadata": {},
   "outputs": [
    {
     "data": {
      "text/plain": [
       "False"
      ]
     },
     "execution_count": 8,
     "metadata": {},
     "output_type": "execute_result"
    }
   ],
   "source": [
    "0 != 0j"
   ]
  },
  {
   "cell_type": "code",
   "execution_count": 9,
   "metadata": {},
   "outputs": [
    {
     "data": {
      "text/plain": [
       "4j"
      ]
     },
     "execution_count": 9,
     "metadata": {},
     "output_type": "execute_result"
    }
   ],
   "source": [
    "4j"
   ]
  },
  {
   "cell_type": "code",
   "execution_count": 10,
   "metadata": {},
   "outputs": [
    {
     "ename": "NameError",
     "evalue": "name 'j4' is not defined",
     "output_type": "error",
     "traceback": [
      "\u001b[0;31m---------------------------------------------------------------------------\u001b[0m",
      "\u001b[0;31mNameError\u001b[0m                                 Traceback (most recent call last)",
      "Cell \u001b[0;32mIn[10], line 1\u001b[0m\n\u001b[0;32m----> 1\u001b[0m \u001b[43mj4\u001b[49m\n",
      "\u001b[0;31mNameError\u001b[0m: name 'j4' is not defined"
     ]
    }
   ],
   "source": [
    "j4"
   ]
  },
  {
   "cell_type": "code",
   "execution_count": 11,
   "metadata": {},
   "outputs": [
    {
     "name": "stdout",
     "output_type": "stream",
     "text": [
      "j4 = 200\n"
     ]
    }
   ],
   "source": [
    "j4 = 200\n",
    "print(\"j4 =\", j4)"
   ]
  },
  {
   "cell_type": "code",
   "execution_count": 12,
   "metadata": {},
   "outputs": [
    {
     "ename": "NameError",
     "evalue": "name 'j' is not defined",
     "output_type": "error",
     "traceback": [
      "\u001b[0;31m---------------------------------------------------------------------------\u001b[0m",
      "\u001b[0;31mNameError\u001b[0m                                 Traceback (most recent call last)",
      "Cell \u001b[0;32mIn[12], line 1\u001b[0m\n\u001b[0;32m----> 1\u001b[0m \u001b[38;5;241m4\u001b[39m \u001b[38;5;241m*\u001b[39m \u001b[43mj\u001b[49m\n",
      "\u001b[0;31mNameError\u001b[0m: name 'j' is not defined"
     ]
    }
   ],
   "source": [
    "4 * j"
   ]
  },
  {
   "cell_type": "code",
   "execution_count": 13,
   "metadata": {},
   "outputs": [
    {
     "data": {
      "text/plain": [
       "4j"
      ]
     },
     "execution_count": 13,
     "metadata": {},
     "output_type": "execute_result"
    }
   ],
   "source": [
    "4 * 1j"
   ]
  },
  {
   "cell_type": "code",
   "execution_count": 14,
   "metadata": {},
   "outputs": [
    {
     "name": "stdout",
     "output_type": "stream",
     "text": [
      "4 * j = 400\n"
     ]
    }
   ],
   "source": [
    "j = 100\n",
    "print(\"4 * j =\", 4 * j)"
   ]
  },
  {
   "cell_type": "code",
   "execution_count": 15,
   "metadata": {},
   "outputs": [],
   "source": [
    "# NOTE: 4*j, j4, j*4 are not possible.\n",
    "# In these cases, interpreter treats 'j' as a variable."
   ]
  },
  {
   "cell_type": "code",
   "execution_count": 16,
   "metadata": {},
   "outputs": [
    {
     "name": "stdout",
     "output_type": "stream",
     "text": [
      "complex(2,-3.456) (2-3.456j)\n",
      "complex(2,0)      (2+0j)\n"
     ]
    }
   ],
   "source": [
    "# complex()  - Builtin function\n",
    "print(\"complex(2,-3.456)\", complex(2, -3.456))\n",
    "print(\"complex(2,0)     \", complex(2, 0))"
   ]
  },
  {
   "cell_type": "code",
   "execution_count": 17,
   "metadata": {},
   "outputs": [
    {
     "name": "stdout",
     "output_type": "stream",
     "text": [
      "4 == 4  : True\n",
      "4 == 4.3: False\n",
      "4 == 4j : False\n"
     ]
    }
   ],
   "source": [
    "# == checks value equivalence\n",
    "print(\"4 == 4  :\", 4 == 4)  # True\n",
    "print(\"4 == 4.3:\", 4 == 4.3)  # False\n",
    "print(\"4 == 4j :\", 4 == 4j)  # False\n"
   ]
  },
  {
   "cell_type": "code",
   "execution_count": 18,
   "metadata": {},
   "outputs": [
    {
     "name": "stdout",
     "output_type": "stream",
     "text": [
      "(3 + 4j) == (4j + 3)=  True\n",
      "(3 + 4j) == (4 + 3j)=  False\n"
     ]
    }
   ],
   "source": [
    "print(\"(3 + 4j) == (4j + 3)= \", (3 + 4j) == (4j + 3))  # True\n",
    "print(\"(3 + 4j) == (4 + 3j)= \", (3 + 4j) == (4 + 3j))  # False"
   ]
  },
  {
   "cell_type": "code",
   "execution_count": null,
   "metadata": {},
   "outputs": [],
   "source": []
  }
 ],
 "metadata": {
  "kernelspec": {
   "display_name": "Python 3",
   "language": "python",
   "name": "python3"
  },
  "language_info": {
   "codemirror_mode": {
    "name": "ipython",
    "version": 3
   },
   "file_extension": ".py",
   "mimetype": "text/x-python",
   "name": "python",
   "nbconvert_exporter": "python",
   "pygments_lexer": "ipython3",
   "version": "3.10.13"
  }
 },
 "nbformat": 4,
 "nbformat_minor": 2
}
