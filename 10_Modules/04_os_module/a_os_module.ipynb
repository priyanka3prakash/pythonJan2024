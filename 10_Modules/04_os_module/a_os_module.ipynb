{
 "cells": [
  {
   "cell_type": "code",
   "execution_count": 1,
   "metadata": {},
   "outputs": [],
   "source": [
    "import os"
   ]
  },
  {
   "cell_type": "code",
   "execution_count": 2,
   "metadata": {},
   "outputs": [
    {
     "data": {
      "text/plain": [
       "<module 'os' (frozen)>"
      ]
     },
     "execution_count": 2,
     "metadata": {},
     "output_type": "execute_result"
    }
   ],
   "source": [
    "os"
   ]
  },
  {
   "cell_type": "code",
   "execution_count": 3,
   "metadata": {},
   "outputs": [
    {
     "name": "stdout",
     "output_type": "stream",
     "text": [
      "OS routines for NT or Posix depending on what system we're on.\n",
      "\n",
      "This exports:\n",
      "  - all functions from posix or nt, e.g. unlink, stat, etc.\n",
      "  - os.path is either posixpath or ntpath\n",
      "  - os.name is either 'posix' or 'nt'\n",
      "  - os.curdir is a string representing the current directory (always '.')\n",
      "  - os.pardir is a string representing the parent directory (always '..')\n",
      "  - os.sep is the (or a most common) pathname separator ('/' or '\\\\')\n",
      "  - os.extsep is the extension separator (always '.')\n",
      "  - os.altsep is the alternate pathname separator (None or '/')\n",
      "  - os.pathsep is the component separator used in $PATH etc\n",
      "  - os.linesep is the line separator in text files ('\\r' or '\\n' or '\\r\\n')\n",
      "  - os.defpath is the default search path for executables\n",
      "  - os.devnull is the file path of the null device ('/dev/null', etc.)\n",
      "\n",
      "Programs that import and use 'os' stand a better chance of being\n",
      "portable between different platforms.  Of course, they must then\n",
      "only use functions that are defined by all platforms (e.g., unlink\n",
      "and opendir), and leave all pathname manipulation to os.path\n",
      "(e.g., split and join).\n",
      "\n"
     ]
    }
   ],
   "source": [
    "print(os.__doc__)"
   ]
  },
  {
   "cell_type": "code",
   "execution_count": 4,
   "metadata": {},
   "outputs": [
    {
     "name": "stdout",
     "output_type": "stream",
     "text": [
      "['DirEntry', 'EX_OK', 'F_OK', 'GenericAlias', 'Mapping', 'MutableMapping', 'O_APPEND', 'O_BINARY', 'O_CREAT', 'O_EXCL', 'O_NOINHERIT', 'O_RANDOM', 'O_RDONLY', 'O_RDWR', 'O_SEQUENTIAL', 'O_SHORT_LIVED', 'O_TEMPORARY', 'O_TEXT', 'O_TRUNC', 'O_WRONLY', 'P_DETACH', 'P_NOWAIT', 'P_NOWAITO', 'P_OVERLAY', 'P_WAIT', 'PathLike', 'R_OK', 'SEEK_CUR', 'SEEK_END', 'SEEK_SET', 'TMP_MAX', 'W_OK', 'X_OK', '_AddedDllDirectory', '_Environ', '__all__', '__builtins__', '__doc__', '__file__', '__loader__', '__name__', '__package__', '__spec__', '_check_methods', '_execvpe', '_exists', '_exit', '_fspath', '_get_exports_list', '_walk', '_wrap_close', 'abc', 'abort', 'access', 'add_dll_directory', 'altsep', 'chdir', 'chmod', 'close', 'closerange', 'cpu_count', 'curdir', 'defpath', 'device_encoding', 'devnull', 'dup', 'dup2', 'environ', 'error', 'execl', 'execle', 'execlp', 'execlpe', 'execv', 'execve', 'execvp', 'execvpe', 'extsep', 'fdopen', 'fsdecode', 'fsencode', 'fspath', 'fstat', 'fsync', 'ftruncate', 'get_exec_path', 'get_handle_inheritable', 'get_inheritable', 'get_terminal_size', 'getcwd', 'getcwdb', 'getenv', 'getlogin', 'getpid', 'getppid', 'isatty', 'kill', 'linesep', 'link', 'listdir', 'lseek', 'lstat', 'makedirs', 'mkdir', 'name', 'open', 'pardir', 'path', 'pathsep', 'pipe', 'popen', 'putenv', 'read', 'readlink', 'remove', 'removedirs', 'rename', 'renames', 'replace', 'rmdir', 'scandir', 'sep', 'set_handle_inheritable', 'set_inheritable', 'spawnl', 'spawnle', 'spawnv', 'spawnve', 'st', 'startfile', 'stat', 'stat_result', 'statvfs_result', 'strerror', 'supports_bytes_environ', 'supports_dir_fd', 'supports_effective_ids', 'supports_fd', 'supports_follow_symlinks', 'symlink', 'sys', 'system', 'terminal_size', 'times', 'times_result', 'truncate', 'umask', 'uname_result', 'unlink', 'unsetenv', 'urandom', 'utime', 'waitpid', 'waitstatus_to_exitcode', 'walk', 'write']\n"
     ]
    }
   ],
   "source": [
    "print(dir(os))"
   ]
  },
  {
   "cell_type": "code",
   "execution_count": 5,
   "metadata": {},
   "outputs": [
    {
     "name": "stdout",
     "output_type": "stream",
     "text": [
      "There are 8 CPU's in this system.\n"
     ]
    }
   ],
   "source": [
    "print(f\"There are {os.cpu_count()} CPU's in this system.\")"
   ]
  },
  {
   "cell_type": "code",
   "execution_count": 6,
   "metadata": {},
   "outputs": [
    {
     "data": {
      "text/plain": [
       "'logged_in_user_name is Amma'"
      ]
     },
     "execution_count": 6,
     "metadata": {},
     "output_type": "execute_result"
    }
   ],
   "source": [
    "f\"logged_in_user_name is {os.getlogin()}\""
   ]
  },
  {
   "cell_type": "code",
   "execution_count": 7,
   "metadata": {},
   "outputs": [
    {
     "name": "stdout",
     "output_type": "stream",
     "text": [
      "Here is a proper 10-byte random number: b'\\x08\\xb3\\x8d\\xce\\xaa\\x04\\xa9\\x10\\xe0\\xc1'.\n"
     ]
    }
   ],
   "source": [
    "print(f\"Here is a proper 10-byte random number: {str(os.urandom(10))}.\")"
   ]
  },
  {
   "cell_type": "code",
   "execution_count": 8,
   "metadata": {},
   "outputs": [
    {
     "name": "stdout",
     "output_type": "stream",
     "text": [
      "Here is a proper 10-byte random number: b'\\x80I\\xd3\\xde\\x05\\xde\\x9a\\xd7\\xe5\\x08'.\n"
     ]
    }
   ],
   "source": [
    "print(f\"Here is a proper 10-byte random number: {str(os.urandom(10))}.\")"
   ]
  },
  {
   "cell_type": "code",
   "execution_count": 9,
   "metadata": {},
   "outputs": [
    {
     "name": "stdout",
     "output_type": "stream",
     "text": [
      "Here is a proper 10-byte random number: b'k\\x95X\\x02\\x81\\xa7\\x17\\xfdpQ'.\n"
     ]
    }
   ],
   "source": [
    "print(f\"Here is a proper 10-byte random number: {str(os.urandom(10))}.\")"
   ]
  },
  {
   "cell_type": "code",
   "execution_count": 10,
   "metadata": {},
   "outputs": [
    {
     "name": "stdout",
     "output_type": "stream",
     "text": [
      " \n",
      "os.altsep ='/'\n",
      "os.curdir ='.'\n",
      "os.extsep ='.'\n",
      "os.linesep='\\r\\n'\n",
      "os.name   ='nt'\n",
      "os.pardir ='..'\n",
      "os.pathsep=';'\n",
      "os.sep    ='\\\\'\n",
      "\n"
     ]
    }
   ],
   "source": [
    "print(\n",
    "    f\"\"\" \n",
    "{os.altsep =}\n",
    "{os.curdir =}\n",
    "{os.extsep =}\n",
    "{os.linesep=}\n",
    "{os.name   =}\n",
    "{os.pardir =}\n",
    "{os.pathsep=}\n",
    "{os.sep    =}\n",
    "\"\"\"\n",
    ")"
   ]
  },
  {
   "cell_type": "code",
   "execution_count": 11,
   "metadata": {},
   "outputs": [
    {
     "data": {
      "text/plain": [
       "'nt'"
      ]
     },
     "execution_count": 11,
     "metadata": {},
     "output_type": "execute_result"
    }
   ],
   "source": [
    "os.name\n",
    "# The name of the operating system dependent module imported.\n",
    "# The following names have currently been registered: 'posix', 'nt', 'java'."
   ]
  },
  {
   "cell_type": "code",
   "execution_count": 12,
   "metadata": {},
   "outputs": [
    {
     "data": {
      "text/plain": [
       "'nul'"
      ]
     },
     "execution_count": 12,
     "metadata": {},
     "output_type": "execute_result"
    }
   ],
   "source": [
    "os.devnull  # The file path of the null device. For example: '/dev/null' for POSIX, 'nul' for Windows"
   ]
  },
  {
   "cell_type": "code",
   "execution_count": 13,
   "metadata": {},
   "outputs": [
    {
     "data": {
      "text/plain": [
       "'.;C:\\\\bin'"
      ]
     },
     "execution_count": 13,
     "metadata": {},
     "output_type": "execute_result"
    }
   ],
   "source": [
    "os.defpath"
   ]
  },
  {
   "cell_type": "markdown",
   "metadata": {},
   "source": [
    "os.times\n",
    "\n",
    "    user            - user time\n",
    "    system          - system time\n",
    "    children_user   - user time of all child processes\n",
    "    children_system - system time of all child processes\n",
    "    elapsed         - elapsed real time since a fixed point in the past"
   ]
  },
  {
   "cell_type": "code",
   "execution_count": 14,
   "metadata": {},
   "outputs": [
    {
     "data": {
      "text/plain": [
       "nt.times_result(user=0.453125, system=0.65625, children_user=0.0, children_system=0.0, elapsed=0.0)"
      ]
     },
     "execution_count": 14,
     "metadata": {},
     "output_type": "execute_result"
    }
   ],
   "source": [
    "os.times()"
   ]
  },
  {
   "cell_type": "code",
   "execution_count": 15,
   "metadata": {},
   "outputs": [
    {
     "data": {
      "text/plain": [
       "b'\\xdc_\\xa0\\xce@\\x91\\xb2G|\\x18'"
      ]
     },
     "execution_count": 15,
     "metadata": {},
     "output_type": "execute_result"
    }
   ],
   "source": [
    "os.urandom(10)"
   ]
  },
  {
   "cell_type": "code",
   "execution_count": 16,
   "metadata": {},
   "outputs": [
    {
     "name": "stdout",
     "output_type": "stream",
     "text": [
      "0 b''\n",
      "1 b'$'\n",
      "2 b'\\xc9I'\n",
      "3 b'\\xf6;\\xa1'\n",
      "4 b'\\x18x\\x1c;'\n",
      "5 b'\\xd9*\\x0chE'\n",
      "6 b'\\xa4\\xde8[\\xb9D'\n",
      "7 b'gT\\xfa\\xc7\\x17\\x80\\xca'\n",
      "8 b'\\xbc\\x14\\xfam1\\xdel@'\n"
     ]
    }
   ],
   "source": [
    "for i in range(0, 9):\n",
    "    print(i, os.urandom(i))"
   ]
  },
  {
   "cell_type": "code",
   "execution_count": 17,
   "metadata": {},
   "outputs": [
    {
     "name": "stdout",
     "output_type": "stream",
     "text": [
      "\n",
      "os.environ['OS']                    : Windows_NT\n",
      "os.environ['PROCESSOR_ARCHITECTURE']: AMD64\n",
      "os.environ['PROCESSOR_IDENTIFIER']  : Intel64 Family 6 Model 142 Stepping 12, GenuineIntel\n",
      "os.environ['PROCESSOR_LEVEL']       : 6\n",
      "\n",
      "os.environ['TEMP']                  : C:\\Users\\Amma\\AppData\\Local\\Temp\n",
      "os.environ['TMP']                   : C:\\Users\\Amma\\AppData\\Local\\Temp\n",
      "\n",
      "os.environ['COMPUTERNAME']          : LAPTOP-5GJT9887\n",
      "os.environ['HOMEDRIVE']             : C:\n",
      "os.environ['USERNAME']              : Amma\n",
      "os.environ['USERDOMAIN']            : LAPTOP-5GJT9887\n",
      "\n"
     ]
    }
   ],
   "source": [
    "print(\n",
    "    f\"\"\"\n",
    "os.environ['OS']                    : {os.environ['OS']}\n",
    "os.environ['PROCESSOR_ARCHITECTURE']: {os.environ['PROCESSOR_ARCHITECTURE']}\n",
    "os.environ['PROCESSOR_IDENTIFIER']  : {os.environ['PROCESSOR_IDENTIFIER']}\n",
    "os.environ['PROCESSOR_LEVEL']       : {os.environ['PROCESSOR_LEVEL']}\n",
    "\n",
    "os.environ['TEMP']                  : {os.environ['TEMP']}\n",
    "os.environ['TMP']                   : {os.environ['TMP']}\n",
    "\n",
    "os.environ['COMPUTERNAME']          : {os.environ['COMPUTERNAME']}\n",
    "os.environ['HOMEDRIVE']             : {os.environ['HOMEDRIVE']}\n",
    "os.environ['USERNAME']              : {os.environ['USERNAME']}\n",
    "os.environ['USERDOMAIN']            : {os.environ['USERDOMAIN']}\n",
    "\"\"\"\n",
    ")"
   ]
  },
  {
   "cell_type": "code",
   "execution_count": 18,
   "metadata": {},
   "outputs": [
    {
     "data": {
      "text/plain": [
       "'No Set Yet'"
      ]
     },
     "execution_count": 18,
     "metadata": {},
     "output_type": "execute_result"
    }
   ],
   "source": [
    "os.getenv(\"PYTHON_PATH\", \"No Set Yet\")"
   ]
  },
  {
   "cell_type": "code",
   "execution_count": 19,
   "metadata": {},
   "outputs": [
    {
     "data": {
      "text/plain": [
       "'Not Set Yet'"
      ]
     },
     "execution_count": 19,
     "metadata": {},
     "output_type": "execute_result"
    }
   ],
   "source": [
    "# export PYTHONSTARTUP=/path/to/your/script.py\n",
    "# set PYTHONSTARTUP=C:\\path\\to\\your\\script.py\n",
    "\n",
    "# If set, that script will execute, everytime a new interactive mode of Python is started\n",
    "\n",
    "os.getenv(\"PYTHONSTARTUP\", \"Not Set Yet\")"
   ]
  },
  {
   "cell_type": "code",
   "execution_count": 20,
   "metadata": {},
   "outputs": [
    {
     "data": {
      "text/plain": [
       "'C:\\\\Users\\\\Amma\\\\AppData\\\\Local\\\\Temp'"
      ]
     },
     "execution_count": 20,
     "metadata": {},
     "output_type": "execute_result"
    }
   ],
   "source": [
    "os.getenv(\"TEMP\")"
   ]
  },
  {
   "cell_type": "markdown",
   "metadata": {},
   "source": [
    "Adding new environment variable"
   ]
  },
  {
   "cell_type": "code",
   "execution_count": 21,
   "metadata": {},
   "outputs": [],
   "source": [
    "os.putenv(\"A\", \"Apple\")  # wont change the"
   ]
  },
  {
   "cell_type": "code",
   "execution_count": 22,
   "metadata": {},
   "outputs": [
    {
     "data": {
      "text/plain": [
       "'No such key'"
      ]
     },
     "execution_count": 22,
     "metadata": {},
     "output_type": "execute_result"
    }
   ],
   "source": [
    "os.getenv(\"A\", \"No such key\")"
   ]
  },
  {
   "cell_type": "code",
   "execution_count": 23,
   "metadata": {},
   "outputs": [],
   "source": [
    "os.environ[\"A\"] = \"Apple\"  # modifies environment variables"
   ]
  },
  {
   "cell_type": "code",
   "execution_count": 24,
   "metadata": {},
   "outputs": [
    {
     "data": {
      "text/plain": [
       "'Apple'"
      ]
     },
     "execution_count": 24,
     "metadata": {},
     "output_type": "execute_result"
    }
   ],
   "source": [
    "os.getenv(\"A\", \"No such key\")"
   ]
  },
  {
   "cell_type": "code",
   "execution_count": 25,
   "metadata": {},
   "outputs": [
    {
     "name": "stdout",
     "output_type": "stream",
     "text": [
      "\n",
      "C:\\Program Files (x86)\\Gow\\bin\n",
      "C:\\Program Files (x86)\\Microsoft SQL Server\\160\\DTS\\Binn\\\n",
      "C:\\Program Files (x86)\\Microsoft SQL Server\\160\\Tools\\Binn\\\n",
      "C:\\Program Files\\Amazon\\AWSCLIV2\\\n",
      "C:\\Program Files\\Azure Data Studio\\bin\n",
      "C:\\Program Files\\Azure Data Studio\\bin\n",
      "C:\\Program Files\\Git\\cmd\n",
      "C:\\Program Files\\MiKTeX\\miktex\\bin\\x64\\\n",
      "C:\\Program Files\\Microsoft SQL Server\\160\\DTS\\Binn\\\n",
      "C:\\Program Files\\Microsoft SQL Server\\160\\Tools\\Binn\\\n",
      "C:\\Program Files\\Microsoft SQL Server\\Client SDK\\ODBC\\170\\Tools\\Binn\\\n",
      "C:\\Program Files\\Microsoft VS Code\\bin\n",
      "C:\\Program Files\\OpenJDK\\jdk-20.0.1\\bin\n",
      "C:\\Program Files\\SqlCmd\\\n",
      "C:\\Program Files\\dotnet\\\n",
      "C:\\ProgramData\\chocolatey\\bin\n",
      "C:\\Python311\\\n",
      "C:\\Python311\\Scripts\\\n",
      "C:\\Users\\Amma\\AppData\\Local\\Microsoft\\WindowsApps\n",
      "C:\\Users\\Amma\\AppData\\Local\\Pandoc\\\n",
      "C:\\Users\\Amma\\AppData\\Local\\Programs\\Microsoft VS Code\\bin\n",
      "C:\\Users\\Amma\\AppData\\Local\\pypoetry\\Cache\\virtualenvs\\pythonmaterial-4Fyt9FjG-py3.11\\Scripts\n",
      "C:\\Users\\Amma\\AppData\\Roaming\\Python\\Python311\\Scripts\\\n",
      "C:\\WINDOWS\n",
      "C:\\WINDOWS\\System32\\OpenSSH\\\n",
      "C:\\WINDOWS\\System32\\Wbem\n",
      "C:\\WINDOWS\\System32\\WindowsPowerShell\\v1.0\\\n",
      "C:\\WINDOWS\\system32\n",
      "C:\\tools\\mysql\\current\\bin\n",
      "c:\\Users\\Amma\\AppData\\Local\\pypoetry\\Cache\\virtualenvs\\pythonmaterial-4Fyt9FjG-py3.11\\Scripts\n"
     ]
    }
   ],
   "source": [
    "for each_path in sorted(os.get_exec_path()):\n",
    "    print(each_path)\n",
    "# Returns the list of directories that will be searched for a named executable, when launching a process."
   ]
  },
  {
   "cell_type": "code",
   "execution_count": 26,
   "metadata": {},
   "outputs": [
    {
     "data": {
      "text/plain": [
       "'Amma'"
      ]
     },
     "execution_count": 26,
     "metadata": {},
     "output_type": "execute_result"
    }
   ],
   "source": [
    "os.getlogin()  # Return the name of the user logged in on the controlling terminal of the process."
   ]
  },
  {
   "cell_type": "code",
   "execution_count": 27,
   "metadata": {},
   "outputs": [],
   "source": [
    "import getpass\n",
    "\n",
    "assert (\n",
    "    getpass.getuser()\n",
    "    == os.getlogin()\n",
    "    == os.environ[\"USERNAME\"]\n",
    "    == os.getenv(\"USERNAME\")\n",
    ")"
   ]
  },
  {
   "cell_type": "code",
   "execution_count": 28,
   "metadata": {},
   "outputs": [
    {
     "data": {
      "text/plain": [
       "9976"
      ]
     },
     "execution_count": 28,
     "metadata": {},
     "output_type": "execute_result"
    }
   ],
   "source": [
    "os.getpid()  # Return the parent’s process id."
   ]
  },
  {
   "cell_type": "code",
   "execution_count": 29,
   "metadata": {},
   "outputs": [
    {
     "data": {
      "text/plain": [
       "'d:\\\\MEGAsync\\\\Python-related\\\\PythonMaterial\\\\python3\\\\10_Modules\\\\04_os_module'"
      ]
     },
     "execution_count": 29,
     "metadata": {},
     "output_type": "execute_result"
    }
   ],
   "source": [
    "os.getcwd()"
   ]
  },
  {
   "cell_type": "code",
   "execution_count": 30,
   "metadata": {},
   "outputs": [
    {
     "name": "stdout",
     "output_type": "stream",
     "text": [
      "my\n",
      "ewfolder\n"
     ]
    }
   ],
   "source": [
    "print(\"my\\newfolder\")"
   ]
  },
  {
   "cell_type": "code",
   "execution_count": 31,
   "metadata": {},
   "outputs": [
    {
     "name": "stdout",
     "output_type": "stream",
     "text": [
      "my\\newfolder\n"
     ]
    }
   ],
   "source": [
    "print(\"my\\\\newfolder\")"
   ]
  },
  {
   "cell_type": "code",
   "execution_count": 32,
   "metadata": {},
   "outputs": [
    {
     "name": "stdout",
     "output_type": "stream",
     "text": [
      "my\\newfolde\\sdas\\asd\\asd\\asd\\asdasd\\asd\\asd\n"
     ]
    }
   ],
   "source": [
    "print(r\"my\\newfolde\\sdas\\asd\\asd\\asd\\asdasd\\asd\\asd\")"
   ]
  },
  {
   "cell_type": "code",
   "execution_count": 33,
   "metadata": {},
   "outputs": [
    {
     "name": "stdout",
     "output_type": "stream",
     "text": [
      "my/newfol/der\n"
     ]
    }
   ],
   "source": [
    "print(\"my/newfol/der\")  # POSIX paths works in NT also"
   ]
  },
  {
   "cell_type": "code",
   "execution_count": 34,
   "metadata": {},
   "outputs": [
    {
     "name": "stdout",
     "output_type": "stream",
     "text": [
      "my\n",
      "ewfolder\n"
     ]
    }
   ],
   "source": [
    "print(\"my\\newfolder\")"
   ]
  },
  {
   "cell_type": "code",
   "execution_count": 35,
   "metadata": {},
   "outputs": [
    {
     "name": "stdout",
     "output_type": "stream",
     "text": [
      "my\\newfolder\n"
     ]
    }
   ],
   "source": [
    "print(\"my\\\\newfolder\")"
   ]
  },
  {
   "cell_type": "code",
   "execution_count": 36,
   "metadata": {},
   "outputs": [
    {
     "name": "stdout",
     "output_type": "stream",
     "text": [
      "my/newfolder\n"
     ]
    }
   ],
   "source": [
    "print(\"my/newfolder\")"
   ]
  },
  {
   "cell_type": "code",
   "execution_count": 37,
   "metadata": {},
   "outputs": [
    {
     "name": "stdout",
     "output_type": "stream",
     "text": [
      "my\\newfolder\n"
     ]
    }
   ],
   "source": [
    "print(r\"my\\newfolder\")"
   ]
  },
  {
   "cell_type": "code",
   "execution_count": 38,
   "metadata": {},
   "outputs": [
    {
     "data": {
      "text/plain": [
       "['00_Demo',\n",
       " '01_Introduction',\n",
       " '02_Basics',\n",
       " '03_Language_Components',\n",
       " '04_Exceptions',\n",
       " '05_Debugging',\n",
       " '06_Collections',\n",
       " '07_Functions',\n",
       " '08_Decorators',\n",
       " '09_Iterators_generators_coroutines',\n",
       " '10_Modules',\n",
       " '11_File_Operations',\n",
       " '12_Logging',\n",
       " '13_OOP',\n",
       " '14_Code_Quality',\n",
       " '15_Regular_Expressions',\n",
       " '16_Web_Services',\n",
       " '17_Packaging',\n",
       " '18_aws_cloud',\n",
       " '19_Concurrency_and_Parallel_Programming',\n",
       " 'CELERY_WORK',\n",
       " 'css',\n",
       " 'interview_questions.txt',\n",
       " 'jinja_templating',\n",
       " 'Projects',\n",
       " 'Python Assessment Tests',\n",
       " 'Python-Internals',\n",
       " 'python_assessment_test.docx',\n",
       " 'Python_MCQ_interview_questions.docx',\n",
       " 'Python_Open Queries.docx',\n",
       " 'Python_Recommended_Material.txt',\n",
       " 'Serializers',\n",
       " 'SOLID-design-principles',\n",
       " 'sqlalchemyORM',\n",
       " 'TODO.txt']"
      ]
     },
     "execution_count": 38,
     "metadata": {},
     "output_type": "execute_result"
    }
   ],
   "source": [
    "os.listdir(r\"D:\\MEGAsync\\Python-related\\PythonMaterial\\python3\")"
   ]
  },
  {
   "cell_type": "code",
   "execution_count": 39,
   "metadata": {},
   "outputs": [
    {
     "data": {
      "text/plain": [
       "['.ipynb_checkpoints',\n",
       " '01_os_module.py',\n",
       " '02_file_ops.py',\n",
       " '03_clear_screen.py',\n",
       " '03_StopAppsShutdown.py',\n",
       " '04_scan_files.py',\n",
       " '04_scan_python_files.py',\n",
       " '05_glob_module.ipynb',\n",
       " '06_text_size.py',\n",
       " 'delete_pyc_files.py',\n",
       " 'display_tree_of_dirs.py',\n",
       " 'get_text_files.py',\n",
       " 'os_module_discussion.ipynb',\n",
       " 'psutil_module_usage.ipynb',\n",
       " 'scan_pdf.py',\n",
       " 'sysandos.py',\n",
       " 'txtmd5.py',\n",
       " 'workingWithFilesAndFolders.py']"
      ]
     },
     "execution_count": 39,
     "metadata": {},
     "output_type": "execute_result"
    }
   ],
   "source": [
    "os.listdir(os.getcwd())"
   ]
  },
  {
   "cell_type": "code",
   "execution_count": 40,
   "metadata": {},
   "outputs": [
    {
     "data": {
      "text/plain": [
       "<nt.ScandirIterator at 0x16e8dbc25a0>"
      ]
     },
     "execution_count": 40,
     "metadata": {},
     "output_type": "execute_result"
    }
   ],
   "source": [
    "os.s)candir(os.getcwd()\n",
    "# os.listdir returns a list, whereas os.scandir will return iterator object\n",
    "# Also, os.scandir is faster and provides info about files like file size, creation time, etc"
   ]
  },
  {
   "cell_type": "code",
   "execution_count": 41,
   "metadata": {},
   "outputs": [
    {
     "name": "stdout",
     "output_type": "stream",
     "text": [
      "Directory: .ipynb_checkpoints\n",
      "File: 01_os_module.py\n",
      "File: 02_file_ops.py\n",
      "File: 03_clear_screen.py\n",
      "File: 03_StopAppsShutdown.py\n",
      "File: 04_scan_files.py\n",
      "File: 04_scan_python_files.py\n",
      "File: 05_glob_module.ipynb\n",
      "File: 06_text_size.py\n",
      "File: delete_pyc_files.py\n",
      "File: display_tree_of_dirs.py\n",
      "File: get_text_files.py\n",
      "File: os_module_discussion.ipynb\n",
      "File: psutil_module_usage.ipynb\n",
      "File: scan_pdf.py\n",
      "File: sysandos.py\n",
      "File: txtmd5.py\n",
      "File: workingWithFilesAndFolders.py\n"
     ]
    }
   ],
   "source": [
    "for entry in os.scandir(os.getcwd()):\n",
    "    if entry.is_file():\n",
    "        print(f\"File: {entry.name}\")\n",
    "    elif entry.is_dir():\n",
    "        print(f\"Directory: {entry.name}\")"
   ]
  },
  {
   "cell_type": "code",
   "execution_count": 42,
   "metadata": {},
   "outputs": [
    {
     "data": {
      "text/plain": [
       "os.stat_result(st_mode=16895, st_ino=844424930378868, st_dev=2631168316, st_nlink=1, st_uid=0, st_gid=0, st_size=8192, st_atime=1683278631, st_mtime=1683278610, st_ctime=1622916123)"
      ]
     },
     "execution_count": 42,
     "metadata": {},
     "output_type": "execute_result"
    }
   ],
   "source": [
    "os.lstat(\".\")"
   ]
  },
  {
   "cell_type": "code",
   "execution_count": 43,
   "metadata": {},
   "outputs": [
    {
     "name": "stdout",
     "output_type": "stream",
     "text": [
      "2023-05-05 09:23:30.525249\n"
     ]
    }
   ],
   "source": [
    "from datetime import datetime\n",
    "\n",
    "time_stamp = os.lstat(\".\").st_mtime\n",
    "\n",
    "print(datetime.utcfromtimestamp(time_stamp))"
   ]
  },
  {
   "cell_type": "code",
   "execution_count": 44,
   "metadata": {},
   "outputs": [
    {
     "data": {
      "text/plain": [
       "os.stat_result(st_mode=16895, st_ino=844424930378868, st_dev=2631168316, st_nlink=1, st_uid=0, st_gid=0, st_size=8192, st_atime=1683278631, st_mtime=1683278610, st_ctime=1622916123)"
      ]
     },
     "execution_count": 44,
     "metadata": {},
     "output_type": "execute_result"
    }
   ],
   "source": [
    "os.stat(\".\")"
   ]
  },
  {
   "cell_type": "markdown",
   "metadata": {},
   "source": [
    "### working with paths"
   ]
  },
  {
   "cell_type": "code",
   "execution_count": 45,
   "metadata": {},
   "outputs": [
    {
     "name": "stdout",
     "output_type": "stream",
     "text": [
      "\n",
      "    os.curdir : .\n",
      "    os.pardir : ..\n",
      "    os.sep    : \\\n",
      "    os.altsep : /\n",
      "    os.extsep : .\n",
      "    os.pathsep: ;  # ':' for POSIX or ';' for Windows\n",
      "\n"
     ]
    }
   ],
   "source": [
    "print(\n",
    "    f\"\"\"\n",
    "    os.curdir : {os.curdir}\n",
    "    os.pardir : {os.pardir}\n",
    "    os.sep    : {os.sep}\n",
    "    os.altsep : {os.altsep}\n",
    "    os.extsep : {os.extsep}\n",
    "    os.pathsep: {os.pathsep}  # ':' for POSIX or ';' for Windows\n",
    "\"\"\"\n",
    ")"
   ]
  },
  {
   "cell_type": "code",
   "execution_count": 46,
   "metadata": {},
   "outputs": [
    {
     "data": {
      "text/plain": [
       "'\\r\\n'"
      ]
     },
     "execution_count": 46,
     "metadata": {},
     "output_type": "execute_result"
    }
   ],
   "source": [
    "os.linesep  # '\\n' for POSIX, '\\r\\n' for Windows"
   ]
  },
  {
   "cell_type": "code",
   "execution_count": 47,
   "metadata": {},
   "outputs": [
    {
     "data": {
      "text/plain": [
       "['.ipynb_checkpoints',\n",
       " '01_os_module.py',\n",
       " '02_file_ops.py',\n",
       " '03_clear_screen.py',\n",
       " '03_StopAppsShutdown.py',\n",
       " '04_scan_files.py',\n",
       " '04_scan_python_files.py',\n",
       " '05_glob_module.ipynb',\n",
       " '06_text_size.py',\n",
       " 'delete_pyc_files.py',\n",
       " 'display_tree_of_dirs.py',\n",
       " 'get_text_files.py',\n",
       " 'os_module_discussion.ipynb',\n",
       " 'psutil_module_usage.ipynb',\n",
       " 'scan_pdf.py',\n",
       " 'sysandos.py',\n",
       " 'txtmd5.py',\n",
       " 'workingWithFilesAndFolders.py']"
      ]
     },
     "execution_count": 47,
     "metadata": {},
     "output_type": "execute_result"
    }
   ],
   "source": [
    "os.listdir(os.getcwd())"
   ]
  },
  {
   "cell_type": "code",
   "execution_count": 48,
   "metadata": {},
   "outputs": [
    {
     "data": {
      "text/plain": [
       "['.ipynb_checkpoints',\n",
       " '01_os_module.py',\n",
       " '02_file_ops.py',\n",
       " '03_clear_screen.py',\n",
       " '03_StopAppsShutdown.py',\n",
       " '04_scan_files.py',\n",
       " '04_scan_python_files.py',\n",
       " '05_glob_module.ipynb',\n",
       " '06_text_size.py',\n",
       " 'delete_pyc_files.py',\n",
       " 'display_tree_of_dirs.py',\n",
       " 'get_text_files.py',\n",
       " 'os_module_discussion.ipynb',\n",
       " 'psutil_module_usage.ipynb',\n",
       " 'scan_pdf.py',\n",
       " 'sysandos.py',\n",
       " 'txtmd5.py',\n",
       " 'workingWithFilesAndFolders.py']"
      ]
     },
     "execution_count": 48,
     "metadata": {},
     "output_type": "execute_result"
    }
   ],
   "source": [
    "os.listdir(os.curdir)"
   ]
  },
  {
   "cell_type": "code",
   "execution_count": 49,
   "metadata": {},
   "outputs": [
    {
     "data": {
      "text/plain": [
       "['.ipynb_checkpoints',\n",
       " '01_os_module.py',\n",
       " '02_file_ops.py',\n",
       " '03_clear_screen.py',\n",
       " '03_StopAppsShutdown.py',\n",
       " '04_scan_files.py',\n",
       " '04_scan_python_files.py',\n",
       " '05_glob_module.ipynb',\n",
       " '06_text_size.py',\n",
       " 'delete_pyc_files.py',\n",
       " 'display_tree_of_dirs.py',\n",
       " 'get_text_files.py',\n",
       " 'os_module_discussion.ipynb',\n",
       " 'psutil_module_usage.ipynb',\n",
       " 'scan_pdf.py',\n",
       " 'sysandos.py',\n",
       " 'txtmd5.py',\n",
       " 'workingWithFilesAndFolders.py']"
      ]
     },
     "execution_count": 49,
     "metadata": {},
     "output_type": "execute_result"
    }
   ],
   "source": [
    "os.listdir(\".\")"
   ]
  },
  {
   "cell_type": "code",
   "execution_count": 50,
   "metadata": {},
   "outputs": [
    {
     "data": {
      "text/plain": [
       "['01_math',\n",
       " '02_sys',\n",
       " '03_argparse',\n",
       " '04a_pathlib_module',\n",
       " '04_os_module',\n",
       " '05_shutil',\n",
       " '06_subprocess',\n",
       " '07_getpass',\n",
       " '08_time_related',\n",
       " '09_random',\n",
       " '10_collections_module',\n",
       " '11_atexit_module',\n",
       " '12_contextlib_module',\n",
       " '13_console_coloring',\n",
       " '13_pydotenv_module',\n",
       " '14_base64_module',\n",
       " '15_turtle_module',\n",
       " '16_reportlab',\n",
       " '17_pyttsx3',\n",
       " '18_signal_module',\n",
       " '20_qr_code_generation',\n",
       " '21_click',\n",
       " '22_ctypes',\n",
       " '23_faker',\n",
       " '24_Tkinter',\n",
       " '25_signal',\n",
       " '26_bisect_module',\n",
       " '27_socket_programming',\n",
       " '28_MiscellaneousModules',\n",
       " 'user_defined_modules']"
      ]
     },
     "execution_count": 50,
     "metadata": {},
     "output_type": "execute_result"
    }
   ],
   "source": [
    "os.listdir(os.pardir)"
   ]
  },
  {
   "cell_type": "code",
   "execution_count": 51,
   "metadata": {},
   "outputs": [
    {
     "data": {
      "text/plain": [
       "['01_math',\n",
       " '02_sys',\n",
       " '03_argparse',\n",
       " '04a_pathlib_module',\n",
       " '04_os_module',\n",
       " '05_shutil',\n",
       " '06_subprocess',\n",
       " '07_getpass',\n",
       " '08_time_related',\n",
       " '09_random',\n",
       " '10_collections_module',\n",
       " '11_atexit_module',\n",
       " '12_contextlib_module',\n",
       " '13_console_coloring',\n",
       " '13_pydotenv_module',\n",
       " '14_base64_module',\n",
       " '15_turtle_module',\n",
       " '16_reportlab',\n",
       " '17_pyttsx3',\n",
       " '18_signal_module',\n",
       " '20_qr_code_generation',\n",
       " '21_click',\n",
       " '22_ctypes',\n",
       " '23_faker',\n",
       " '24_Tkinter',\n",
       " '25_signal',\n",
       " '26_bisect_module',\n",
       " '27_socket_programming',\n",
       " '28_MiscellaneousModules',\n",
       " 'user_defined_modules']"
      ]
     },
     "execution_count": 51,
     "metadata": {},
     "output_type": "execute_result"
    }
   ],
   "source": [
    "os.listdir(\"..\")"
   ]
  },
  {
   "cell_type": "code",
   "execution_count": 52,
   "metadata": {},
   "outputs": [
    {
     "data": {
      "text/plain": [
       "['00_Demo',\n",
       " '01_Introduction',\n",
       " '02_Basics',\n",
       " '03_Language_Components',\n",
       " '04_Exceptions',\n",
       " '05_Debugging',\n",
       " '06_Collections',\n",
       " '07_Functions',\n",
       " '08_Decorators',\n",
       " '09_Iterators_generators_coroutines',\n",
       " '10_Modules',\n",
       " '11_File_Operations',\n",
       " '12_Logging',\n",
       " '13_OOP',\n",
       " '14_Code_Quality',\n",
       " '15_Regular_Expressions',\n",
       " '16_Web_Services',\n",
       " '17_Packaging',\n",
       " '18_aws_cloud',\n",
       " '19_Concurrency_and_Parallel_Programming',\n",
       " 'CELERY_WORK',\n",
       " 'css',\n",
       " 'interview_questions.txt',\n",
       " 'jinja_templating',\n",
       " 'Projects',\n",
       " 'Python Assessment Tests',\n",
       " 'Python-Internals',\n",
       " 'python_assessment_test.docx',\n",
       " 'Python_MCQ_interview_questions.docx',\n",
       " 'Python_Open Queries.docx',\n",
       " 'Python_Recommended_Material.txt',\n",
       " 'Serializers',\n",
       " 'SOLID-design-principles',\n",
       " 'sqlalchemyORM',\n",
       " 'TODO.txt']"
      ]
     },
     "execution_count": 52,
     "metadata": {},
     "output_type": "execute_result"
    }
   ],
   "source": [
    "os.listdir(\"../..\")  # parent's parent directory"
   ]
  },
  {
   "cell_type": "code",
   "execution_count": 53,
   "metadata": {},
   "outputs": [
    {
     "data": {
      "text/plain": [
       "'d:\\\\MEGAsync\\\\Python-related\\\\PythonMaterial\\\\python3\\\\10_Modules\\\\04_os_module'"
      ]
     },
     "execution_count": 53,
     "metadata": {},
     "output_type": "execute_result"
    }
   ],
   "source": [
    "os.getcwd()"
   ]
  },
  {
   "cell_type": "code",
   "execution_count": 54,
   "metadata": {},
   "outputs": [],
   "source": [
    "os.chdir(\".\")"
   ]
  },
  {
   "cell_type": "code",
   "execution_count": 55,
   "metadata": {},
   "outputs": [
    {
     "data": {
      "text/plain": [
       "'d:\\\\MEGAsync\\\\Python-related\\\\PythonMaterial\\\\python3\\\\10_Modules\\\\04_os_module'"
      ]
     },
     "execution_count": 55,
     "metadata": {},
     "output_type": "execute_result"
    }
   ],
   "source": [
    "os.getcwd()"
   ]
  },
  {
   "cell_type": "code",
   "execution_count": 56,
   "metadata": {},
   "outputs": [],
   "source": [
    "os.chdir(\"..\")"
   ]
  },
  {
   "cell_type": "code",
   "execution_count": 57,
   "metadata": {},
   "outputs": [
    {
     "data": {
      "text/plain": [
       "'d:\\\\MEGAsync\\\\Python-related\\\\PythonMaterial\\\\python3\\\\10_Modules'"
      ]
     },
     "execution_count": 57,
     "metadata": {},
     "output_type": "execute_result"
    }
   ],
   "source": [
    "os.getcwd()"
   ]
  },
  {
   "cell_type": "code",
   "execution_count": 58,
   "metadata": {},
   "outputs": [],
   "source": [
    "os.chdir(\"..\\..\\..\")  # 3 levels up"
   ]
  },
  {
   "cell_type": "code",
   "execution_count": 59,
   "metadata": {},
   "outputs": [
    {
     "data": {
      "text/plain": [
       "'d:\\\\MEGAsync\\\\Python-related'"
      ]
     },
     "execution_count": 59,
     "metadata": {},
     "output_type": "execute_result"
    }
   ],
   "source": [
    "os.getcwd()"
   ]
  },
  {
   "cell_type": "code",
   "execution_count": 60,
   "metadata": {},
   "outputs": [],
   "source": [
    "os.chdir(os.pardir)"
   ]
  },
  {
   "cell_type": "code",
   "execution_count": 61,
   "metadata": {},
   "outputs": [
    {
     "data": {
      "text/plain": [
       "'d:\\\\MEGAsync'"
      ]
     },
     "execution_count": 61,
     "metadata": {},
     "output_type": "execute_result"
    }
   ],
   "source": [
    "os.getcwd()"
   ]
  },
  {
   "cell_type": "code",
   "execution_count": 62,
   "metadata": {},
   "outputs": [],
   "source": [
    "os.chdir(\n",
    "    \"D:\\\\MEGAsync\\\\Python-related\\\\PythonMaterial\\\\python3\\\\10_Modules\\\\04_os_module\"\n",
    ")"
   ]
  },
  {
   "cell_type": "code",
   "execution_count": 63,
   "metadata": {},
   "outputs": [
    {
     "data": {
      "text/plain": [
       "'D:\\\\MEGAsync\\\\Python-related\\\\PythonMaterial\\\\python3\\\\10_Modules\\\\04_os_module'"
      ]
     },
     "execution_count": 63,
     "metadata": {},
     "output_type": "execute_result"
    }
   ],
   "source": [
    "os.getcwd()"
   ]
  },
  {
   "cell_type": "markdown",
   "metadata": {},
   "source": [
    "### working with directories/folder"
   ]
  },
  {
   "cell_type": "code",
   "execution_count": 64,
   "metadata": {},
   "outputs": [],
   "source": [
    "os.mkdir(\"myFolder\")"
   ]
  },
  {
   "cell_type": "code",
   "execution_count": 65,
   "metadata": {},
   "outputs": [
    {
     "data": {
      "text/plain": [
       "['.ipynb_checkpoints',\n",
       " '01_os_module.py',\n",
       " '02_file_ops.py',\n",
       " '03_clear_screen.py',\n",
       " '03_StopAppsShutdown.py',\n",
       " '04_scan_files.py',\n",
       " '04_scan_python_files.py',\n",
       " '05_glob_module.ipynb',\n",
       " '06_text_size.py',\n",
       " 'delete_pyc_files.py',\n",
       " 'display_tree_of_dirs.py',\n",
       " 'get_text_files.py',\n",
       " 'myFolder',\n",
       " 'os_module_discussion.ipynb',\n",
       " 'psutil_module_usage.ipynb',\n",
       " 'scan_pdf.py',\n",
       " 'sysandos.py',\n",
       " 'txtmd5.py',\n",
       " 'workingWithFilesAndFolders.py']"
      ]
     },
     "execution_count": 65,
     "metadata": {},
     "output_type": "execute_result"
    }
   ],
   "source": [
    "os.listdir(\".\")"
   ]
  },
  {
   "cell_type": "code",
   "execution_count": 66,
   "metadata": {},
   "outputs": [],
   "source": [
    "os.makedirs(\"First/second/third\")"
   ]
  },
  {
   "cell_type": "code",
   "execution_count": 67,
   "metadata": {},
   "outputs": [],
   "source": [
    "# creating a file\n",
    "f = open(\"myfile.txt\", \"w\")\n",
    "f.write(\"my data\")\n",
    "f.close()"
   ]
  },
  {
   "cell_type": "code",
   "execution_count": 68,
   "metadata": {},
   "outputs": [
    {
     "data": {
      "text/plain": [
       "['.ipynb_checkpoints',\n",
       " '01_os_module.py',\n",
       " '02_file_ops.py',\n",
       " '03_clear_screen.py',\n",
       " '03_StopAppsShutdown.py',\n",
       " '04_scan_files.py',\n",
       " '04_scan_python_files.py',\n",
       " '05_glob_module.ipynb',\n",
       " '06_text_size.py',\n",
       " 'delete_pyc_files.py',\n",
       " 'display_tree_of_dirs.py',\n",
       " 'First',\n",
       " 'get_text_files.py',\n",
       " 'myfile.txt',\n",
       " 'myFolder',\n",
       " 'os_module_discussion.ipynb',\n",
       " 'psutil_module_usage.ipynb',\n",
       " 'scan_pdf.py',\n",
       " 'sysandos.py',\n",
       " 'txtmd5.py',\n",
       " 'workingWithFilesAndFolders.py']"
      ]
     },
     "execution_count": 68,
     "metadata": {},
     "output_type": "execute_result"
    }
   ],
   "source": [
    "os.listdir(\".\")"
   ]
  },
  {
   "cell_type": "code",
   "execution_count": 69,
   "metadata": {},
   "outputs": [],
   "source": [
    "os.rename(\"myfile.txt\", \"otherfile.tsf\")"
   ]
  },
  {
   "cell_type": "code",
   "execution_count": 70,
   "metadata": {},
   "outputs": [
    {
     "data": {
      "text/plain": [
       "['.ipynb_checkpoints',\n",
       " '01_os_module.py',\n",
       " '02_file_ops.py',\n",
       " '03_clear_screen.py',\n",
       " '03_StopAppsShutdown.py',\n",
       " '04_scan_files.py',\n",
       " '04_scan_python_files.py',\n",
       " '05_glob_module.ipynb',\n",
       " '06_text_size.py',\n",
       " 'delete_pyc_files.py',\n",
       " 'display_tree_of_dirs.py',\n",
       " 'First',\n",
       " 'get_text_files.py',\n",
       " 'myFolder',\n",
       " 'os_module_discussion.ipynb',\n",
       " 'otherfile.tsf',\n",
       " 'psutil_module_usage.ipynb',\n",
       " 'scan_pdf.py',\n",
       " 'sysandos.py',\n",
       " 'txtmd5.py',\n",
       " 'workingWithFilesAndFolders.py']"
      ]
     },
     "execution_count": 70,
     "metadata": {},
     "output_type": "execute_result"
    }
   ],
   "source": [
    "os.listdir(\".\")"
   ]
  },
  {
   "cell_type": "code",
   "execution_count": 71,
   "metadata": {},
   "outputs": [],
   "source": [
    "os.rename(\"First\", \"PythonFolder\")"
   ]
  },
  {
   "cell_type": "code",
   "execution_count": 72,
   "metadata": {},
   "outputs": [
    {
     "name": "stdout",
     "output_type": "stream",
     "text": [
      "\u001b[1;31mSignature:\u001b[0m \u001b[0mos\u001b[0m\u001b[1;33m.\u001b[0m\u001b[0mrenames\u001b[0m\u001b[1;33m(\u001b[0m\u001b[0mold\u001b[0m\u001b[1;33m,\u001b[0m \u001b[0mnew\u001b[0m\u001b[1;33m)\u001b[0m\u001b[1;33m\u001b[0m\u001b[1;33m\u001b[0m\u001b[0m\n",
      "\u001b[1;31mDocstring:\u001b[0m\n",
      "renames(old, new)\n",
      "\n",
      "Super-rename; create directories as necessary and delete any left\n",
      "empty.  Works like rename, except creation of any intermediate\n",
      "directories needed to make the new pathname good is attempted\n",
      "first.  After the rename, directories corresponding to rightmost\n",
      "path segments of the old name will be pruned until either the\n",
      "whole path is consumed or a nonempty directory is found.\n",
      "\n",
      "Note: this function can fail with the new directory structure made\n",
      "if you lack permissions needed to unlink the leaf directory or\n",
      "file.\n",
      "\u001b[1;31mFile:\u001b[0m      d:\\megasync\\python-related\\pythonmaterial\\python3\\10_modules\\04_os_module\\<frozen os>\n",
      "\u001b[1;31mType:\u001b[0m      function"
     ]
    }
   ],
   "source": [
    "?os.renames"
   ]
  },
  {
   "cell_type": "code",
   "execution_count": 73,
   "metadata": {},
   "outputs": [
    {
     "data": {
      "text/plain": [
       "['.ipynb_checkpoints',\n",
       " '01_os_module.py',\n",
       " '02_file_ops.py',\n",
       " '03_clear_screen.py',\n",
       " '03_StopAppsShutdown.py',\n",
       " '04_scan_files.py',\n",
       " '04_scan_python_files.py',\n",
       " '05_glob_module.ipynb',\n",
       " '06_text_size.py',\n",
       " 'delete_pyc_files.py',\n",
       " 'display_tree_of_dirs.py',\n",
       " 'get_text_files.py',\n",
       " 'myFolder',\n",
       " 'os_module_discussion.ipynb',\n",
       " 'otherfile.tsf',\n",
       " 'psutil_module_usage.ipynb',\n",
       " 'PythonFolder',\n",
       " 'scan_pdf.py',\n",
       " 'sysandos.py',\n",
       " 'txtmd5.py',\n",
       " 'workingWithFilesAndFolders.py']"
      ]
     },
     "execution_count": 73,
     "metadata": {},
     "output_type": "execute_result"
    }
   ],
   "source": [
    "os.listdir(\".\")"
   ]
  },
  {
   "cell_type": "code",
   "execution_count": 74,
   "metadata": {},
   "outputs": [],
   "source": [
    "os.remove(\"otherfile.tsf\")"
   ]
  },
  {
   "cell_type": "code",
   "execution_count": 75,
   "metadata": {},
   "outputs": [
    {
     "name": "stdout",
     "output_type": "stream",
     "text": [
      "PermissionError(13, 'Access is denied')\n"
     ]
    }
   ],
   "source": [
    "try:\n",
    "    os.remove(\"myFolder\")\n",
    "except PermissionError as ex:\n",
    "    print(repr(ex))"
   ]
  },
  {
   "cell_type": "code",
   "execution_count": 76,
   "metadata": {},
   "outputs": [],
   "source": [
    "os.rmdir(\"myFolder\")"
   ]
  },
  {
   "cell_type": "code",
   "execution_count": 77,
   "metadata": {},
   "outputs": [],
   "source": [
    "os.removedirs(\"PythonFolder/second/third\")\n",
    "# first removes 'PythonFolder/second/third', then 'PythonFolder/second' and then 'PythonFolder'"
   ]
  },
  {
   "cell_type": "code",
   "execution_count": 78,
   "metadata": {},
   "outputs": [
    {
     "data": {
      "text/plain": [
       "['.ipynb_checkpoints',\n",
       " '01_os_module.py',\n",
       " '02_file_ops.py',\n",
       " '03_clear_screen.py',\n",
       " '03_StopAppsShutdown.py',\n",
       " '04_scan_files.py',\n",
       " '04_scan_python_files.py',\n",
       " '05_glob_module.ipynb',\n",
       " '06_text_size.py',\n",
       " 'delete_pyc_files.py',\n",
       " 'display_tree_of_dirs.py',\n",
       " 'get_text_files.py',\n",
       " 'os_module_discussion.ipynb',\n",
       " 'psutil_module_usage.ipynb',\n",
       " 'scan_pdf.py',\n",
       " 'sysandos.py',\n",
       " 'txtmd5.py',\n",
       " 'workingWithFilesAndFolders.py']"
      ]
     },
     "execution_count": 78,
     "metadata": {},
     "output_type": "execute_result"
    }
   ],
   "source": [
    "os.listdir(\".\")"
   ]
  },
  {
   "cell_type": "markdown",
   "metadata": {},
   "source": [
    "### Executing commands"
   ]
  },
  {
   "cell_type": "code",
   "execution_count": 79,
   "metadata": {},
   "outputs": [
    {
     "data": {
      "text/plain": [
       "0"
      ]
     },
     "execution_count": 79,
     "metadata": {},
     "output_type": "execute_result"
    }
   ],
   "source": [
    "os.system(\"ipconfig\")  # 0 - successfully executed command"
   ]
  },
  {
   "cell_type": "code",
   "execution_count": 80,
   "metadata": {},
   "outputs": [
    {
     "data": {
      "text/plain": [
       "1"
      ]
     },
     "execution_count": 80,
     "metadata": {},
     "output_type": "execute_result"
    }
   ],
   "source": [
    "os.system(\"ipconfig111\")  # 1 - unsuccessful execution"
   ]
  },
  {
   "cell_type": "code",
   "execution_count": 81,
   "metadata": {},
   "outputs": [
    {
     "data": {
      "text/plain": [
       "0"
      ]
     },
     "execution_count": 81,
     "metadata": {},
     "output_type": "execute_result"
    }
   ],
   "source": [
    "os.system(\"ping google.com\")"
   ]
  },
  {
   "cell_type": "code",
   "execution_count": 82,
   "metadata": {},
   "outputs": [
    {
     "data": {
      "text/plain": [
       "1"
      ]
     },
     "execution_count": 82,
     "metadata": {},
     "output_type": "execute_result"
    }
   ],
   "source": [
    "os.system(\"pong google.com\")"
   ]
  },
  {
   "cell_type": "markdown",
   "metadata": {},
   "source": [
    "#### Get all the python files in our material "
   ]
  },
  {
   "cell_type": "code",
   "execution_count": 83,
   "metadata": {},
   "outputs": [
    {
     "data": {
      "text/plain": [
       "'D:\\\\MEGAsync\\\\Python-related\\\\PythonMaterial\\\\python3\\\\10_Modules\\\\04_os_module'"
      ]
     },
     "execution_count": 83,
     "metadata": {},
     "output_type": "execute_result"
    }
   ],
   "source": [
    "os.getcwd()"
   ]
  },
  {
   "cell_type": "code",
   "execution_count": 84,
   "metadata": {},
   "outputs": [],
   "source": [
    "os.chdir(\"D:\\\\MEGAsync\\\\Python-related\\\\PythonMaterial\\\\python3\")"
   ]
  },
  {
   "cell_type": "code",
   "execution_count": 85,
   "metadata": {},
   "outputs": [
    {
     "data": {
      "text/plain": [
       "'D:\\\\MEGAsync\\\\Python-related\\\\PythonMaterial\\\\python3'"
      ]
     },
     "execution_count": 85,
     "metadata": {},
     "output_type": "execute_result"
    }
   ],
   "source": [
    "os.getcwd()"
   ]
  },
  {
   "cell_type": "code",
   "execution_count": 86,
   "metadata": {},
   "outputs": [
    {
     "data": {
      "text/plain": [
       "['00_Demo',\n",
       " '01_Introduction',\n",
       " '02_Basics',\n",
       " '03_Language_Components',\n",
       " '04_Exceptions',\n",
       " '05_Debugging',\n",
       " '06_Collections',\n",
       " '07_Functions',\n",
       " '08_Decorators',\n",
       " '09_Iterators_generators_coroutines',\n",
       " '10_Modules',\n",
       " '11_File_Operations',\n",
       " '12_Logging',\n",
       " '13_OOP',\n",
       " '14_Code_Quality',\n",
       " '15_Regular_Expressions',\n",
       " '16_Web_Services',\n",
       " '17_Packaging',\n",
       " '18_aws_cloud',\n",
       " '19_Concurrency_and_Parallel_Programming',\n",
       " 'CELERY_WORK',\n",
       " 'css',\n",
       " 'interview_questions.txt',\n",
       " 'jinja_templating',\n",
       " 'Projects',\n",
       " 'Python Assessment Tests',\n",
       " 'Python-Internals',\n",
       " 'python_assessment_test.docx',\n",
       " 'Python_MCQ_interview_questions.docx',\n",
       " 'Python_Open Queries.docx',\n",
       " 'Python_Recommended_Material.txt',\n",
       " 'Serializers',\n",
       " 'SOLID-design-principles',\n",
       " 'sqlalchemyORM',\n",
       " 'TODO.txt']"
      ]
     },
     "execution_count": 86,
     "metadata": {},
     "output_type": "execute_result"
    }
   ],
   "source": [
    "os.listdir(\".\")"
   ]
  },
  {
   "cell_type": "markdown",
   "metadata": {},
   "source": [
    "__os.walk(top, topdown=True, onerror=None, followlinks=False)__"
   ]
  },
  {
   "cell_type": "code",
   "execution_count": 87,
   "metadata": {},
   "outputs": [
    {
     "data": {
      "text/plain": [
       "<generator object _walk at 0x0000016E8F968600>"
      ]
     },
     "execution_count": 87,
     "metadata": {},
     "output_type": "execute_result"
    }
   ],
   "source": [
    "os.walk(\".\")"
   ]
  },
  {
   "cell_type": "code",
   "execution_count": 88,
   "metadata": {},
   "outputs": [
    {
     "name": "stdout",
     "output_type": "stream",
     "text": [
      "3 ('.', ['00_Demo', '01_Introduction', '02_Basics', '03_Language_Components', '04_Exceptions', '05_Debugging', '06_Collections', '07_Functions', '08_Decorators', '09_Iterators_generators_coroutines', '10_Modules', '11_File_Operations', '12_Logging', '13_OOP', '14_Code_Quality', '15_Regular_Expressions', '16_Web_Services', '17_Packaging', '18_aws_cloud', '19_Concurrency_and_Parallel_Programming', 'CELERY_WORK', 'css', 'jinja_templating', 'Projects', 'Python Assessment Tests', 'Python-Internals', 'Serializers', 'SOLID-design-principles', 'sqlalchemyORM'], ['interview_questions.txt', 'python_assessment_test.docx', 'Python_MCQ_interview_questions.docx', 'Python_Open Queries.docx', 'Python_Recommended_Material.txt', 'TODO.txt'])\n"
     ]
    }
   ],
   "source": [
    "for each in os.walk(\".\"):\n",
    "    print(len(each), each)\n",
    "    break"
   ]
  },
  {
   "cell_type": "code",
   "execution_count": 89,
   "metadata": {},
   "outputs": [
    {
     "name": "stdout",
     "output_type": "stream",
     "text": [
      ".\n",
      ".\\00_Demo\n",
      ".\\01_Introduction\n",
      ".\\02_Basics\n",
      ".\\02_Basics\\01_Arithmetic_Operations\n",
      ".\\02_Basics\\02_String_Operations\n",
      ".\\02_Basics\\02_String_Operations\\Assignments\n",
      ".\\03_Language_Components\n",
      ".\\03_Language_Components\\01_Relational_Operations\n",
      ".\\03_Language_Components\\02_Logical_Operations\n",
      ".\\03_Language_Components\\03_Boolean_Operations\n",
      ".\\03_Language_Components\\04_Bitwise_Operations\n",
      ".\\03_Language_Components\\05_Identity_Operations\n",
      ".\\03_Language_Components\\06_Range_Function\n",
      ".\\03_Language_Components\\07_Conditional_Operations\n",
      ".\\03_Language_Components\\08_structural_Pattern_Matching\n",
      ".\\03_Language_Components\\09_Loops\n",
      ".\\03_Language_Components\\10_Walrus_operator\n",
      ".\\04_Exceptions\n",
      ".\\05_Debugging\n",
      ".\\06_Collections\n",
      ".\\06_Collections\\01_Lists\n",
      ".\\06_Collections\\02_Tuples\n",
      ".\\06_Collections\\03_Sets\n",
      ".\\06_Collections\\04_Dictionaries\n",
      ".\\07_Functions\n",
      ".\\07_Functions\\practical\n",
      ".\\08_Decorators\n",
      ".\\08_Decorators\\decorators\n",
      ".\\09_Iterators_generators_coroutines\n",
      ".\\09_Iterators_generators_coroutines\\01_Iterables\n",
      ".\\09_Iterators_generators_coroutines\\02_iterators\n",
      ".\\09_Iterators_generators_coroutines\\02_iterators\\.ipynb_checkpoints\n",
      ".\\09_Iterators_generators_coroutines\\03_generators\n",
      ".\\09_Iterators_generators_coroutines\\04_coroutines\n",
      ".\\10_Modules\n",
      ".\\10_Modules\\01_math\n",
      ".\\10_Modules\\02_sys\n",
      ".\\10_Modules\\02_sys\\myfolder\n",
      ".\\10_Modules\\03_argparse\n",
      ".\\10_Modules\\04a_pathlib_module\n",
      ".\\10_Modules\\04a_pathlib_module\\.ipynb_checkpoints\n",
      ".\\10_Modules\\04_os_module\n",
      ".\\10_Modules\\04_os_module\\.ipynb_checkpoints\n",
      ".\\10_Modules\\05_shutil\n",
      ".\\10_Modules\\05_shutil\\test_dir_1\n",
      ".\\10_Modules\\05_shutil\\test_dir_2\n",
      ".\\10_Modules\\06_subprocess\n",
      ".\\10_Modules\\07_getpass\n",
      ".\\10_Modules\\07_getpass\\.ipynb_checkpoints\n",
      ".\\10_Modules\\08_time_related\n",
      ".\\10_Modules\\08_time_related\\a_time_module\n",
      ".\\10_Modules\\08_time_related\\b_timeit_module\n",
      ".\\10_Modules\\08_time_related\\b_timeit_module\\.ipynb_checkpoints\n",
      ".\\10_Modules\\08_time_related\\c_datetime_module\n",
      ".\\10_Modules\\08_time_related\\c_datetime_module\\.ipynb_checkpoints\n",
      ".\\10_Modules\\08_time_related\\d_calendar_module\n",
      ".\\10_Modules\\08_time_related\\d_calendar_module\\.ipynb_checkpoints\n",
      ".\\10_Modules\\08_time_related\\e_pendulum_module\n",
      ".\\10_Modules\\08_time_related\\e_pendulum_module\\.ipynb_checkpoints\n",
      ".\\10_Modules\\09_random\n",
      ".\\10_Modules\\10_collections_module\n",
      ".\\10_Modules\\11_atexit_module\n",
      ".\\10_Modules\\12_contextlib_module\n",
      ".\\10_Modules\\13_console_coloring\n",
      ".\\10_Modules\\13_pydotenv_module\n",
      ".\\10_Modules\\14_base64_module\n",
      ".\\10_Modules\\15_turtle_module\n",
      ".\\10_Modules\\16_reportlab\n",
      ".\\10_Modules\\17_pyttsx3\n",
      ".\\10_Modules\\18_signal_module\n",
      ".\\10_Modules\\20_qr_code_generation\n",
      ".\\10_Modules\\21_click\n",
      ".\\10_Modules\\22_ctypes\n",
      ".\\10_Modules\\23_faker\n",
      ".\\10_Modules\\24_Tkinter\n",
      ".\\10_Modules\\25_signal\n",
      ".\\10_Modules\\26_bisect_module\n",
      ".\\10_Modules\\26_bisect_module\\.ipynb_checkpoints\n",
      ".\\10_Modules\\27_socket_programming\n",
      ".\\10_Modules\\27_socket_programming\\chat_examples\n",
      ".\\10_Modules\\28_MiscellaneousModules\n",
      ".\\10_Modules\\user_defined_modules\n",
      ".\\10_Modules\\user_defined_modules\\docs\n",
      ".\\10_Modules\\user_defined_modules\\my_package\n",
      ".\\10_Modules\\user_defined_modules\\package\n",
      ".\\11_File_Operations\n",
      ".\\11_File_Operations\\01_unstructured_file\n",
      ".\\11_File_Operations\\01_unstructured_file\\remove_lines_of_one_file_if_present_in_another\n",
      ".\\11_File_Operations\\02_structured_files\n",
      ".\\11_File_Operations\\02_structured_files\\01_pickle\n",
      ".\\11_File_Operations\\02_structured_files\\02_shelve\n",
      ".\\11_File_Operations\\02_structured_files\\03_xml\n",
      ".\\11_File_Operations\\02_structured_files\\04_csv\n",
      ".\\11_File_Operations\\02_structured_files\\04_html_files\n",
      ".\\11_File_Operations\\02_structured_files\\05_xls_files\n",
      ".\\11_File_Operations\\02_structured_files\\05_xls_files\\openpyxl_module\n",
      ".\\11_File_Operations\\02_structured_files\\05_xls_files\\xlrd_module\n",
      ".\\11_File_Operations\\02_structured_files\\05_xls_files\\xlsxwriter\n",
      ".\\11_File_Operations\\02_structured_files\\05_xls_files\\xlsxwriter\\excels\n",
      ".\\11_File_Operations\\02_structured_files\\06_json_files\n",
      ".\\11_File_Operations\\02_structured_files\\07_yml_files\n",
      ".\\11_File_Operations\\02_structured_files\\08_toml\n",
      ".\\11_File_Operations\\02_structured_files\\09_HDF5\n",
      ".\\11_File_Operations\\03_multimedia\n",
      ".\\11_File_Operations\\03_multimedia\\a_image_files\n",
      ".\\11_File_Operations\\03_multimedia\\a_image_files\\image2BinaryData\n",
      ".\\11_File_Operations\\03_multimedia\\a_image_files\\images\n",
      ".\\11_File_Operations\\03_multimedia\\b_sound_files\n",
      ".\\11_File_Operations\\03_multimedia\\c_video_files\n",
      ".\\11_File_Operations\\04_zipping_files\n",
      ".\\11_File_Operations\\04_zipping_files\\gzip_files\n",
      ".\\11_File_Operations\\04_zipping_files\\tar_files\n",
      ".\\11_File_Operations\\04_zipping_files\\zip_files\n",
      ".\\11_File_Operations\\05_pdf_files\n",
      ".\\11_File_Operations\\06_config_files\n",
      ".\\11_File_Operations\\06_config_files\\a_cfg_files\n",
      ".\\11_File_Operations\\06_config_files\\b_ini_files\n",
      ".\\11_File_Operations\\07_db_files\n",
      ".\\11_File_Operations\\07_db_files\\.ipynb_checkpoints\n",
      ".\\11_File_Operations\\07_db_files\\sqlachemy_module\n",
      ".\\11_File_Operations\\07_db_files\\sqlachemy_module\\a_example\n",
      ".\\11_File_Operations\\07_db_files\\sqlite3\n",
      ".\\11_File_Operations\\08_pyw files\n",
      ".\\11_File_Operations\\09_temp_files\n",
      ".\\11_File_Operations\\10_in_memory_streams\n",
      ".\\11_File_Operations\\10_in_memory_streams\\.ipynb_checkpoints\n",
      ".\\12_Logging\n",
      ".\\12_Logging\\a_builtin_logging\n",
      ".\\12_Logging\\a_builtin_logging\\logs\n",
      ".\\12_Logging\\b_structlog\n",
      ".\\12_Logging\\c_loguru\n",
      ".\\13_OOP\n",
      ".\\13_OOP\\a_OOP\n",
      ".\\13_OOP\\b_MRO_inheritance\n",
      ".\\13_OOP\\c_Descriptors\n",
      ".\\13_OOP\\d_magicmethods\n",
      ".\\13_OOP\\e_DataClasses\n",
      ".\\13_OOP\\f_Advanced\n",
      ".\\13_OOP\\Practical\n",
      ".\\13_OOP\\Practical\\word_count\n",
      ".\\14_Code_Quality\n",
      ".\\14_Code_Quality\\00_static_code_analyzers\n",
      ".\\14_Code_Quality\\01_static_typing\n",
      ".\\14_Code_Quality\\01_static_typing\\.ipynb_checkpoints\n",
      ".\\14_Code_Quality\\01_static_typing\\.mypy_cache\n",
      ".\\14_Code_Quality\\01_static_typing\\.mypy_cache\\3.11\n",
      ".\\14_Code_Quality\\01_static_typing\\.mypy_cache\\3.11\\collections\n",
      ".\\14_Code_Quality\\01_static_typing\\.mypy_cache\\3.11\\ctypes\n",
      ".\\14_Code_Quality\\01_static_typing\\.mypy_cache\\3.11\\email\n",
      ".\\14_Code_Quality\\01_static_typing\\.mypy_cache\\3.11\\importlib\n",
      ".\\14_Code_Quality\\01_static_typing\\.mypy_cache\\3.11\\importlib\\metadata\n",
      ".\\14_Code_Quality\\01_static_typing\\.mypy_cache\\3.11\\os\n",
      ".\\14_Code_Quality\\01_static_typing\\.mypy_cache\\3.11\\_typeshed\n",
      ".\\14_Code_Quality\\01_static_typing\\.mypy_cache\\3.9\n",
      ".\\14_Code_Quality\\01_static_typing\\.mypy_cache\\3.9\\collections\n",
      ".\\14_Code_Quality\\01_static_typing\\.mypy_cache\\3.9\\importlib\n",
      ".\\14_Code_Quality\\01_static_typing\\.mypy_cache\\3.9\\os\n",
      ".\\14_Code_Quality\\01_static_typing\\.mypy_cache\\3.9\\_typeshed\n",
      ".\\14_Code_Quality\\02_doctests\n",
      ".\\14_Code_Quality\\03_unit_tests\n",
      ".\\14_Code_Quality\\03_unit_tests\\a_using_asserts\n",
      ".\\14_Code_Quality\\03_unit_tests\\b_using_unittest_module\n",
      ".\\14_Code_Quality\\03_unit_tests\\b_using_unittest_module\\a_unittests\n",
      ".\\14_Code_Quality\\03_unit_tests\\b_using_unittest_module\\b_SeparateTestScript_ex\n",
      ".\\14_Code_Quality\\03_unit_tests\\b_using_unittest_module\\c_SeparateTestScript_ex\n",
      ".\\14_Code_Quality\\03_unit_tests\\b_using_unittest_module\\d_MultipleTestScripts_ex\n",
      ".\\14_Code_Quality\\03_unit_tests\\b_using_unittest_module\\e_Calculator\n",
      ".\\14_Code_Quality\\03_unit_tests\\b_using_unittest_module\\e_Calculator\\tests\n",
      ".\\14_Code_Quality\\03_unit_tests\\b_using_unittest_module\\e_Calculator2\n",
      ".\\14_Code_Quality\\03_unit_tests\\b_using_unittest_module\\e_Calculator2\\test\n",
      ".\\14_Code_Quality\\03_unit_tests\\b_using_unittest_module\\f_Calculator\n",
      ".\\14_Code_Quality\\03_unit_tests\\b_using_unittest_module\\f_Calculator\\htmlcov\n",
      ".\\14_Code_Quality\\03_unit_tests\\b_using_unittest_module\\g_OnlineShopping\n",
      ".\\14_Code_Quality\\03_unit_tests\\b_using_unittest_module\\h_MultiThreading\n",
      ".\\14_Code_Quality\\03_unit_tests\\b_using_unittest_module\\h_MultiThreading\\0_multithreading_in_unittest\n",
      ".\\14_Code_Quality\\03_unit_tests\\b_using_unittest_module\\h_MultiThreading\\a_Counting\n",
      ".\\14_Code_Quality\\03_unit_tests\\b_using_unittest_module\\h_MultiThreading\\b_Printing\n",
      ".\\14_Code_Quality\\03_unit_tests\\b_using_unittest_module\\i_Multiprocessing\n",
      ".\\14_Code_Quality\\03_unit_tests\\c_using_pytest_module\n",
      ".\\14_Code_Quality\\03_unit_tests\\c_using_pytest_module\\.pytest_cache\n",
      ".\\14_Code_Quality\\03_unit_tests\\c_using_pytest_module\\.pytest_cache\\v\n",
      ".\\14_Code_Quality\\03_unit_tests\\c_using_pytest_module\\.pytest_cache\\v\\cache\n",
      ".\\14_Code_Quality\\03_unit_tests\\c_using_pytest_module\\exampleA\n",
      ".\\14_Code_Quality\\03_unit_tests\\c_using_pytest_module\\exampleA\\__pycache__\n",
      ".\\14_Code_Quality\\03_unit_tests\\c_using_pytest_module\\__pycache__\n",
      ".\\14_Code_Quality\\03_unit_tests\\d_using_nose2_module\n",
      ".\\14_Code_Quality\\03_unit_tests\\d_using_nose2_module\\a_Example\n",
      ".\\14_Code_Quality\\03_unit_tests\\d_using_nose2_module\\b_Example\n",
      ".\\14_Code_Quality\\04_mocking\n",
      ".\\14_Code_Quality\\04_mocking\\example_0\n",
      ".\\14_Code_Quality\\04_mocking\\example_1\n",
      ".\\14_Code_Quality\\04_mocking\\example_2\n",
      ".\\14_Code_Quality\\04_mocking\\example_3\n",
      ".\\14_Code_Quality\\04_mocking\\example_4\n",
      ".\\14_Code_Quality\\04_mocking\\example_5\n",
      ".\\14_Code_Quality\\04_mocking\\example_6\n",
      ".\\14_Code_Quality\\04_mocking\\example_7\n",
      ".\\14_Code_Quality\\04_mocking\\example_8\n",
      ".\\14_Code_Quality\\04_mocking\\example_9\n",
      ".\\14_Code_Quality\\04_mocking\\mocking_input\n",
      ".\\14_Code_Quality\\05_pytest\n",
      ".\\14_Code_Quality\\05_pytest\\fixtures\n",
      ".\\14_Code_Quality\\05_pytest\\fixtures\\a_simple_fixture\n",
      ".\\14_Code_Quality\\05_pytest\\fixtures\\b_sharing_fixtures_with_multiple_tests\n",
      ".\\14_Code_Quality\\05_pytest\\fixtures\\c_using_multiple_fixtures\n",
      ".\\14_Code_Quality\\05_pytest\\fixtures\\d_scoped_fixtures\n",
      ".\\14_Code_Quality\\05_pytest\\fixtures\\e_parametrized_fixtures\n",
      ".\\14_Code_Quality\\05_pytest\\fixtures\\f_example\n",
      ".\\14_Code_Quality\\06_BDD\n",
      ".\\14_Code_Quality\\07_selenium_testing\n",
      ".\\14_Code_Quality\\08_autopy_module\n",
      ".\\14_Code_Quality\\09_pywinauto\n",
      ".\\14_Code_Quality\\10_static_code_analyses\n",
      ".\\14_Code_Quality\\11_profiling\n",
      ".\\14_Code_Quality\\12_objgraph\n",
      ".\\14_Code_Quality\\Pylint for Pycharm\n",
      ".\\15_Regular_Expressions\n",
      ".\\15_Regular_Expressions\\PracticalProblems\n",
      ".\\16_Web_Services\n",
      ".\\16_Web_Services\\a_web_scraping\n",
      ".\\16_Web_Services\\a_web_scraping\\a_get_webpage\n",
      ".\\16_Web_Services\\a_web_scraping\\b_get_my_public_ip\n",
      ".\\16_Web_Services\\a_web_scraping\\c_gazpacho\n",
      ".\\16_Web_Services\\b_RPC\n",
      ".\\16_Web_Services\\b_RPC\\xml_rpc\n",
      ".\\16_Web_Services\\c_SOAP\n",
      ".\\16_Web_Services\\d_consuming_APIs\n",
      ".\\16_Web_Services\\d_consuming_APIs\\01_urllib.request\n",
      ".\\16_Web_Services\\d_consuming_APIs\\01_urllib.request\\.ipynb_checkpoints\n",
      ".\\16_Web_Services\\d_consuming_APIs\\02_requests\n",
      ".\\16_Web_Services\\d_consuming_APIs\\02_requests\\NASA\n",
      ".\\16_Web_Services\\d_consuming_APIs\\02_requests\\requests-workshop-master\n",
      ".\\16_Web_Services\\d_consuming_APIs\\02_requests\\requests-workshop-master\\answers\n",
      ".\\16_Web_Services\\d_consuming_APIs\\02_requests\\requests-workshop-master\\examples\n",
      ".\\16_Web_Services\\d_consuming_APIs\\02_requests\\requests-workshop-master\\exercises\n",
      ".\\16_Web_Services\\d_consuming_APIs\\a_get_ip_and_details\n",
      ".\\16_Web_Services\\d_consuming_APIs\\a_query_params\n",
      ".\\16_Web_Services\\d_consuming_APIs\\b_ISS\n",
      ".\\16_Web_Services\\d_consuming_APIs\\c_managing_headers\n",
      ".\\16_Web_Services\\d_consuming_APIs\\d_pagination\n",
      ".\\16_Web_Services\\d_consuming_APIs\\e_http_status_codes\n",
      ".\\16_Web_Services\\d_consuming_APIs\\f_request_methods\n",
      ".\\16_Web_Services\\d_consuming_APIs\\g_downloading_files\n",
      ".\\16_Web_Services\\d_consuming_APIs\\h_uploading_files\n",
      ".\\16_Web_Services\\d_consuming_APIs\\i_api_authentication\n",
      ".\\16_Web_Services\\d_consuming_APIs\\j_using_urllib3\n",
      ".\\16_Web_Services\\d_consuming_APIs\\k-httpx-module\n",
      ".\\16_Web_Services\\d_consuming_APIs\\tortilla\n",
      ".\\16_Web_Services\\e_async_consuming_APIs\n",
      ".\\16_Web_Services\\f_web_application\n",
      ".\\16_Web_Services\\f_web_application\\a_static_web_pages\n",
      ".\\16_Web_Services\\f_web_application\\b_CGI_dynamic_pages\n",
      ".\\16_Web_Services\\f_web_application\\b_CGI_dynamic_pages\\cgi-bin\n",
      ".\\16_Web_Services\\f_web_application\\b_CGI_dynamic_pages\\htbin\n",
      ".\\16_Web_Services\\f_web_application\\c_WSGI\n",
      ".\\16_Web_Services\\f_web_application\\d_using_flask\n",
      ".\\16_Web_Services\\f_web_application\\d_using_flask\\.vscode\n",
      ".\\16_Web_Services\\f_web_application\\d_using_flask\\a_hello_world\n",
      ".\\16_Web_Services\\f_web_application\\d_using_flask\\b_app_with_login\n",
      ".\\16_Web_Services\\f_web_application\\d_using_flask\\b_app_with_login\\templates\n",
      ".\\16_Web_Services\\f_web_application\\d_using_flask\\c_calculator\n",
      ".\\16_Web_Services\\f_web_application\\d_using_flask\\c_calculator\\templates\n",
      ".\\16_Web_Services\\f_web_application\\d_using_flask\\d_flask-Views\n",
      ".\\16_Web_Services\\f_web_application\\d_using_flask\\d_flask-Views\\part 1 - hello world\n",
      ".\\16_Web_Services\\f_web_application\\d_using_flask\\d_flask-Views\\part 2 - dangerous stuff\n",
      ".\\16_Web_Services\\f_web_application\\d_using_flask\\d_flask-Views\\part 2 - dangerous stuff\\templates\n",
      ".\\16_Web_Services\\f_web_application\\d_using_flask\\d_flask-Views\\part 3 - login\n",
      ".\\16_Web_Services\\f_web_application\\d_using_flask\\d_flask-Views\\part 3 - login\\static\n",
      ".\\16_Web_Services\\f_web_application\\d_using_flask\\d_flask-Views\\part 3 - login\\templates\n",
      ".\\16_Web_Services\\f_web_application\\d_using_flask\\d_flask-Views\\part 4 - music\n",
      ".\\16_Web_Services\\f_web_application\\d_using_flask\\d_flask-Views\\part 4 - music\\static\n",
      ".\\16_Web_Services\\f_web_application\\d_using_flask\\d_flask-Views\\part 4 - music\\templates\n",
      ".\\16_Web_Services\\f_web_application\\d_using_flask\\d_flask-Views\\part 5 - static pages\n",
      ".\\16_Web_Services\\f_web_application\\d_using_flask\\d_flask-Views\\part 5 - static pages\\final\n",
      ".\\16_Web_Services\\f_web_application\\d_using_flask\\d_flask-Views\\part 5 - static pages\\final\\static\n",
      ".\\16_Web_Services\\f_web_application\\d_using_flask\\d_flask-Views\\part 5 - static pages\\final\\templates\n",
      ".\\16_Web_Services\\f_web_application\\d_using_flask\\d_flask-Views\\part 5 - static pages\\refactored\n",
      ".\\16_Web_Services\\f_web_application\\d_using_flask\\d_flask-Views\\part 5 - static pages\\refactored\\static\n",
      ".\\16_Web_Services\\f_web_application\\d_using_flask\\d_flask-Views\\part 5 - static pages\\refactored\\templates\n",
      ".\\16_Web_Services\\f_web_application\\d_using_flask\\d_flask-Views\\part 6 - databases\n",
      ".\\16_Web_Services\\f_web_application\\d_using_flask\\d_flask-Views\\part 6 - databases\\static\n",
      ".\\16_Web_Services\\f_web_application\\d_using_flask\\d_flask-Views\\part 6 - databases\\templates\n",
      ".\\16_Web_Services\\f_web_application\\d_using_flask\\e_flask_API\n",
      ".\\16_Web_Services\\f_web_application\\d_using_flask\\f_book_api\n",
      ".\\16_Web_Services\\f_web_application\\d_using_flask\\g_app_with_orm\n",
      ".\\16_Web_Services\\f_web_application\\d_using_flask\\g_app_with_orm\\instance\n",
      ".\\16_Web_Services\\f_web_application\\d_using_flask\\g_app_with_orm\\tests\n",
      ".\\16_Web_Services\\f_web_application\\d_using_flask\\g_app_with_orm\\tests\\__pycache__\n",
      ".\\16_Web_Services\\f_web_application\\d_using_flask\\new\n",
      ".\\16_Web_Services\\f_web_application\\d_using_flask\\QuizApp\n",
      ".\\16_Web_Services\\f_web_application\\d_using_flask\\QuizApp\\templates\n",
      ".\\16_Web_Services\\f_web_application\\d_using_flask\\sphinx_project\n",
      ".\\16_Web_Services\\f_web_application\\d_using_flask\\sphinx_project\\docs\n",
      ".\\16_Web_Services\\f_web_application\\d_using_flask\\sphinx_project\\myproject\n",
      ".\\16_Web_Services\\f_web_application\\d_using_flask\\sphinx_project\\myproject\\_build\n",
      ".\\16_Web_Services\\f_web_application\\d_using_flask\\sphinx_project\\myproject\\_build\\doctrees\n",
      ".\\16_Web_Services\\f_web_application\\d_using_flask\\sphinx_project\\myproject\\_build\\html\n",
      ".\\16_Web_Services\\f_web_application\\d_using_flask\\sphinx_project\\myproject\\_build\\html\\_sources\n",
      ".\\16_Web_Services\\f_web_application\\d_using_flask\\sphinx_project\\myproject\\_build\\html\\_static\n",
      ".\\16_Web_Services\\f_web_application\\d_using_flask\\sphinx_project\\myproject\\_static\n",
      ".\\16_Web_Services\\f_web_application\\d_using_flask\\sphinx_project\\myproject\\_templates\n",
      ".\\16_Web_Services\\f_web_application\\d_using_flask\\sphinx_project\\myproject\\__pycache__\n",
      ".\\16_Web_Services\\f_web_application\\d_using_flask\\z_static_websites\n",
      ".\\16_Web_Services\\f_web_application\\using_bottle\n",
      ".\\16_Web_Services\\f_web_application\\using_fastapi\n",
      ".\\16_Web_Services\\g_GraphQL\n",
      ".\\16_Web_Services\\h_feedparsing\n",
      ".\\16_Web_Services\\i_ftp\n",
      ".\\16_Web_Services\\i_ftp\\.ipynb_checkpoints\n",
      ".\\16_Web_Services\\j_pyselenium\n",
      ".\\16_Web_Services\\k_Projects\n",
      ".\\16_Web_Services\\k_Projects\\a_weather\n",
      ".\\16_Web_Services\\k_Projects\\b_twitter\n",
      ".\\17_Packaging\n",
      ".\\17_Packaging\\Project1\n",
      ".\\17_Packaging\\Project1\\scripts\n",
      ".\\17_Packaging\\Project2\n",
      ".\\17_Packaging\\Project2\\hello_world\n",
      ".\\17_Packaging\\Project2\\hello_world\\commands\n",
      ".\\17_Packaging\\Project2\\hello_world.egg-info\n",
      ".\\18_aws_cloud\n",
      ".\\18_aws_cloud\\a_AWS_Lambdas\n",
      ".\\18_aws_cloud\\a_AWS_Lambdas\\a_Basic\n",
      ".\\18_aws_cloud\\a_AWS_Lambdas\\b_zipping_lambdas\n",
      ".\\18_aws_cloud\\a_AWS_Lambdas\\b_zipping_lambdas\\a_all_timezones_current_time\n",
      ".\\18_aws_cloud\\a_AWS_Lambdas\\b_zipping_lambdas\\b_requests_layer_usage\n",
      ".\\18_aws_cloud\\a_AWS_Lambdas\\c_using_lambda_layers\n",
      ".\\18_aws_cloud\\a_AWS_Lambdas\\d_practical_utility_functions\n",
      ".\\18_aws_cloud\\a_AWS_Lambdas\\e_boto3_usage\n",
      ".\\18_aws_cloud\\a_AWS_Lambdas\\e_boto3_usage\\lambda\n",
      ".\\18_aws_cloud\\a_AWS_Lambdas\\e_boto3_usage\\s3\n",
      ".\\18_aws_cloud\\a_AWS_Lambdas\\e_time_triggered\n",
      ".\\18_aws_cloud\\a_AWS_Lambdas\\f_event_triggered\n",
      ".\\18_aws_cloud\\a_AWS_Lambdas\\f_http_triggered\n",
      ".\\18_aws_cloud\\a_AWS_Lambdas\\g_http_triggered\n",
      ".\\19_Concurrency_and_Parallel_Programming\n",
      ".\\19_Concurrency_and_Parallel_Programming\\01_MultiThreading\n",
      ".\\19_Concurrency_and_Parallel_Programming\\01_MultiThreading\\a_function_based\n",
      ".\\19_Concurrency_and_Parallel_Programming\\01_MultiThreading\\b_class_based\n",
      ".\\19_Concurrency_and_Parallel_Programming\\01_MultiThreading\\c_locks\n",
      ".\\19_Concurrency_and_Parallel_Programming\\01_MultiThreading\\d_conditions\n",
      ".\\19_Concurrency_and_Parallel_Programming\\01_MultiThreading\\d_semaphores\n",
      ".\\19_Concurrency_and_Parallel_Programming\\01_MultiThreading\\e_events\n",
      ".\\19_Concurrency_and_Parallel_Programming\\01_MultiThreading\\g_barriers\n",
      ".\\19_Concurrency_and_Parallel_Programming\\01_MultiThreading\\h_performance\n",
      ".\\19_Concurrency_and_Parallel_Programming\\01_MultiThreading\\i_concurrent_futures\n",
      ".\\19_Concurrency_and_Parallel_Programming\\01_MultiThreading\\threading\n",
      ".\\19_Concurrency_and_Parallel_Programming\\02_multiprocessing\n",
      ".\\19_Concurrency_and_Parallel_Programming\\02_Parallel_Processing\n",
      ".\\19_Concurrency_and_Parallel_Programming\\03_asyncio_module\n",
      ".\\CELERY_WORK\n",
      ".\\css\n",
      ".\\css\\america\n",
      ".\\css\\america\\asdas\n",
      ".\\css\\america\\asdas\\sad\n",
      ".\\css\\america\\asdas\\sad\\dfgd\n",
      ".\\jinja_templating\n",
      ".\\jinja_templating\\templates\n",
      ".\\Projects\n",
      ".\\Projects\\ArticlesProject\n",
      ".\\Projects\\backend-GPT-Project\n",
      ".\\Projects\\ChipsProject\n",
      ".\\Projects\\eCommerce\n",
      ".\\Projects\\flask_mongo\n",
      ".\\Projects\\flask_mongo\\docs\n",
      ".\\Projects\\flask_mongo\\src\n",
      ".\\Projects\\ISS\n",
      ".\\Projects\\ISS\\.vscode\n",
      ".\\Projects\\openAIProject\n",
      ".\\Projects\\rsyncDirs\n",
      ".\\Projects\\rsyncDirs\\dst\n",
      ".\\Projects\\rsyncDirs\\src\n",
      ".\\Projects\\Tax-Calculator\n",
      ".\\Python Assessment Tests\n",
      ".\\Python-Internals\n",
      ".\\Serializers\n",
      ".\\Serializers\\a_jsonschema\n",
      ".\\Serializers\\b_MarshMallow\n",
      ".\\Serializers\\c_Pydantic\n",
      ".\\SOLID-design-principles\n",
      ".\\sqlalchemyORM\n",
      ".\\sqlalchemyORM\\alembic\n",
      ".\\sqlalchemyORM\\alembic\\versions\n",
      ".\\sqlalchemyORM\\alembic\\__pycache__\n",
      ".\\sqlalchemyORM\\instance\n"
     ]
    }
   ],
   "source": [
    "for each_dir, each_2, each_3 in os.walk(\".\"):\n",
    "    print(each_dir)"
   ]
  },
  {
   "cell_type": "code",
   "execution_count": 90,
   "metadata": {},
   "outputs": [
    {
     "name": "stdout",
     "output_type": "stream",
     "text": [
      "['00_Demo', '01_Introduction', '02_Basics', '03_Language_Components', '04_Exceptions', '05_Debugging', '06_Collections', '07_Functions', '08_Decorators', '09_Iterators_generators_coroutines', '10_Modules', '11_File_Operations', '12_Logging', '13_OOP', '14_Code_Quality', '15_Regular_Expressions', '16_Web_Services', '17_Packaging', '18_aws_cloud', '19_Concurrency_and_Parallel_Programming', 'CELERY_WORK', 'css', 'jinja_templating', 'Projects', 'Python Assessment Tests', 'Python-Internals', 'Serializers', 'SOLID-design-principles', 'sqlalchemyORM']\n",
      "['01_Arithmetic_Operations', '02_String_Operations']\n",
      "['Assignments']\n",
      "['01_Relational_Operations', '02_Logical_Operations', '03_Boolean_Operations', '04_Bitwise_Operations', '05_Identity_Operations', '06_Range_Function', '07_Conditional_Operations', '08_structural_Pattern_Matching', '09_Loops', '10_Walrus_operator']\n",
      "['01_Lists', '02_Tuples', '03_Sets', '04_Dictionaries']\n",
      "['practical']\n",
      "['decorators']\n",
      "['01_Iterables', '02_iterators', '03_generators', '04_coroutines']\n",
      "['.ipynb_checkpoints']\n",
      "['01_math', '02_sys', '03_argparse', '04a_pathlib_module', '04_os_module', '05_shutil', '06_subprocess', '07_getpass', '08_time_related', '09_random', '10_collections_module', '11_atexit_module', '12_contextlib_module', '13_console_coloring', '13_pydotenv_module', '14_base64_module', '15_turtle_module', '16_reportlab', '17_pyttsx3', '18_signal_module', '20_qr_code_generation', '21_click', '22_ctypes', '23_faker', '24_Tkinter', '25_signal', '26_bisect_module', '27_socket_programming', '28_MiscellaneousModules', 'user_defined_modules']\n",
      "['myfolder']\n",
      "['.ipynb_checkpoints']\n",
      "['.ipynb_checkpoints']\n",
      "['test_dir_1', 'test_dir_2']\n",
      "['.ipynb_checkpoints']\n",
      "['a_time_module', 'b_timeit_module', 'c_datetime_module', 'd_calendar_module', 'e_pendulum_module']\n",
      "['.ipynb_checkpoints']\n",
      "['.ipynb_checkpoints']\n",
      "['.ipynb_checkpoints']\n",
      "['.ipynb_checkpoints']\n",
      "['.ipynb_checkpoints']\n",
      "['chat_examples']\n",
      "['docs', 'my_package', 'package']\n",
      "['01_unstructured_file', '02_structured_files', '03_multimedia', '04_zipping_files', '05_pdf_files', '06_config_files', '07_db_files', '08_pyw files', '09_temp_files', '10_in_memory_streams']\n",
      "['remove_lines_of_one_file_if_present_in_another']\n",
      "['01_pickle', '02_shelve', '03_xml', '04_csv', '04_html_files', '05_xls_files', '06_json_files', '07_yml_files', '08_toml', '09_HDF5']\n",
      "['openpyxl_module', 'xlrd_module', 'xlsxwriter']\n",
      "['excels']\n",
      "['a_image_files', 'b_sound_files', 'c_video_files']\n",
      "['image2BinaryData', 'images']\n",
      "['gzip_files', 'tar_files', 'zip_files']\n",
      "['a_cfg_files', 'b_ini_files']\n",
      "['.ipynb_checkpoints', 'sqlachemy_module', 'sqlite3']\n",
      "['a_example']\n",
      "['.ipynb_checkpoints']\n",
      "['a_builtin_logging', 'b_structlog', 'c_loguru']\n",
      "['logs']\n",
      "['a_OOP', 'b_MRO_inheritance', 'c_Descriptors', 'd_magicmethods', 'e_DataClasses', 'f_Advanced', 'Practical']\n",
      "['word_count']\n",
      "['00_static_code_analyzers', '01_static_typing', '02_doctests', '03_unit_tests', '04_mocking', '05_pytest', '06_BDD', '07_selenium_testing', '08_autopy_module', '09_pywinauto', '10_static_code_analyses', '11_profiling', '12_objgraph', 'Pylint for Pycharm']\n",
      "['.ipynb_checkpoints', '.mypy_cache']\n",
      "['3.11', '3.9']\n",
      "['collections', 'ctypes', 'email', 'importlib', 'os', '_typeshed']\n",
      "['metadata']\n",
      "['collections', 'importlib', 'os', '_typeshed']\n",
      "['a_using_asserts', 'b_using_unittest_module', 'c_using_pytest_module', 'd_using_nose2_module']\n",
      "['a_unittests', 'b_SeparateTestScript_ex', 'c_SeparateTestScript_ex', 'd_MultipleTestScripts_ex', 'e_Calculator', 'e_Calculator2', 'f_Calculator', 'g_OnlineShopping', 'h_MultiThreading', 'i_Multiprocessing']\n",
      "['tests']\n",
      "['test']\n",
      "['htmlcov']\n",
      "['0_multithreading_in_unittest', 'a_Counting', 'b_Printing']\n",
      "['.pytest_cache', 'exampleA', '__pycache__']\n",
      "['v']\n",
      "['cache']\n",
      "['__pycache__']\n",
      "['a_Example', 'b_Example']\n",
      "['example_0', 'example_1', 'example_2', 'example_3', 'example_4', 'example_5', 'example_6', 'example_7', 'example_8', 'example_9', 'mocking_input']\n",
      "['fixtures']\n",
      "['a_simple_fixture', 'b_sharing_fixtures_with_multiple_tests', 'c_using_multiple_fixtures', 'd_scoped_fixtures', 'e_parametrized_fixtures', 'f_example']\n",
      "['PracticalProblems']\n",
      "['a_web_scraping', 'b_RPC', 'c_SOAP', 'd_consuming_APIs', 'e_async_consuming_APIs', 'f_web_application', 'g_GraphQL', 'h_feedparsing', 'i_ftp', 'j_pyselenium', 'k_Projects']\n",
      "['a_get_webpage', 'b_get_my_public_ip', 'c_gazpacho']\n",
      "['xml_rpc']\n",
      "['01_urllib.request', '02_requests', 'a_get_ip_and_details', 'a_query_params', 'b_ISS', 'c_managing_headers', 'd_pagination', 'e_http_status_codes', 'f_request_methods', 'g_downloading_files', 'h_uploading_files', 'i_api_authentication', 'j_using_urllib3', 'k-httpx-module', 'tortilla']\n",
      "['.ipynb_checkpoints']\n",
      "['NASA', 'requests-workshop-master']\n",
      "['answers', 'examples', 'exercises']\n",
      "['a_static_web_pages', 'b_CGI_dynamic_pages', 'c_WSGI', 'd_using_flask', 'using_bottle', 'using_fastapi']\n",
      "['cgi-bin', 'htbin']\n",
      "['.vscode', 'a_hello_world', 'b_app_with_login', 'c_calculator', 'd_flask-Views', 'e_flask_API', 'f_book_api', 'g_app_with_orm', 'new', 'QuizApp', 'sphinx_project', 'z_static_websites']\n",
      "['templates']\n",
      "['templates']\n",
      "['part 1 - hello world', 'part 2 - dangerous stuff', 'part 3 - login', 'part 4 - music', 'part 5 - static pages', 'part 6 - databases']\n",
      "['templates']\n",
      "['static', 'templates']\n",
      "['static', 'templates']\n",
      "['final', 'refactored']\n",
      "['static', 'templates']\n",
      "['static', 'templates']\n",
      "['static', 'templates']\n",
      "['instance', 'tests']\n",
      "['__pycache__']\n",
      "['templates']\n",
      "['docs', 'myproject']\n",
      "['_build', '_static', '_templates', '__pycache__']\n",
      "['doctrees', 'html']\n",
      "['_sources', '_static']\n",
      "['.ipynb_checkpoints']\n",
      "['a_weather', 'b_twitter']\n",
      "['Project1', 'Project2']\n",
      "['scripts']\n",
      "['hello_world', 'hello_world.egg-info']\n",
      "['commands']\n",
      "['a_AWS_Lambdas']\n",
      "['a_Basic', 'b_zipping_lambdas', 'c_using_lambda_layers', 'd_practical_utility_functions', 'e_boto3_usage', 'e_time_triggered', 'f_event_triggered', 'f_http_triggered', 'g_http_triggered']\n",
      "['a_all_timezones_current_time', 'b_requests_layer_usage']\n",
      "['lambda', 's3']\n",
      "['01_MultiThreading', '02_multiprocessing', '02_Parallel_Processing', '03_asyncio_module']\n",
      "['a_function_based', 'b_class_based', 'c_locks', 'd_conditions', 'd_semaphores', 'e_events', 'g_barriers', 'h_performance', 'i_concurrent_futures', 'threading']\n",
      "['america']\n",
      "['asdas']\n",
      "['sad']\n",
      "['dfgd']\n",
      "['templates']\n",
      "['ArticlesProject', 'backend-GPT-Project', 'ChipsProject', 'eCommerce', 'flask_mongo', 'ISS', 'openAIProject', 'rsyncDirs', 'Tax-Calculator']\n",
      "['docs', 'src']\n",
      "['.vscode']\n",
      "['dst', 'src']\n",
      "['a_jsonschema', 'b_MarshMallow', 'c_Pydantic']\n",
      "['alembic', 'instance']\n",
      "['versions', '__pycache__']\n"
     ]
    }
   ],
   "source": [
    "for each_dir, dirs, each_3 in os.walk(\".\"):\n",
    "    if dirs:\n",
    "        # if that directory has sub-directories\n",
    "        print(dirs)"
   ]
  },
  {
   "cell_type": "code",
   "execution_count": 91,
   "metadata": {},
   "outputs": [
    {
     "name": "stdout",
     "output_type": "stream",
     "text": [
      "['interview_questions.txt', 'python_assessment_test.docx', 'Python_MCQ_interview_questions.docx', 'Python_Open Queries.docx', 'Python_Recommended_Material.txt', 'TODO.txt']\n",
      "['a_IEEE_Spectrum_ranking_2022.png', 'b_language_trends.jpg', 'course_content.txt', 'course_content_py_AWS.txt', 'c_ranking_history.JPG', 'demo.py', 'discussion.txt', 'django_course.txt', 'e_Python_vs_other_languages_2020.jpg', 'f_comparision of languages-analogy.jpg', 'g_programming paradigm.png', 'h_python_philosophy.py', 'i_best-python-cheatsheet.png', 'j_python trends.txt', 'pep_20.py', 'popularity_in_last_5_years.JPG', 'PYPL_top_10_languages.png', 'python (core and Advanced) syllabus.docx', 'python_cheatsheet.png', 'python_package_trends.jpg', 'Python_two_days_bootcamp.docx']\n",
      "['0_Python(Anaconda)_Installation_procedure.txt', '0_Python_ important_links.txt', '0_python_installation_in_redhat_linux.sh', 'a_first.py', 'b_hello_world.py', 'c_dynamic_typing.py', 'd_indentation_issue.py', 'e_bulit_in_functions.txt', 'f_print_syntax.py', 'g_print_syntax.py', 'h_comments.py', 'i_keywords.txt', 'j_identifiers.py', 'k_identifier_casing.py', 'l_multiline_statements.py', 'm_semicoln_operator.py']\n",
      "['usage_of_help.html', 'usage_of_help.py', 'usage_of_pydoc.txt']\n",
      "['arithmetic_operations.ipynb', 'a_arithmetic_operations.py', 'b_arithmetic_operations.py', 'c_compound_operations.py', 'd_number_format.py', 'e_ration_store.py', 'f_fruit_store.py', 'g_grocery_store.py', 'h_savings_bank.py', 'i_bank_loan.py', 'j_type_conversions.py', 'k_feet_to_cms_conversion.py', 'l_complex_numbers.py', 'l_complex_numbers2.py', 'l_complex_numbers_ops.ipynb', 'm_abs_function.py', 'n_divmod.py', 'o_operator_precedence.py', 'o_operator_precedence.txt', 'type-casting.txt']\n",
      "['a_string_operations.py', 'b_importance_of_quotes.py', 'c_string_indexing.py', 'd_string_slicing.py', 'e_string_slicing.py', 'f_palindrome_check.py', 'g_string_attributes.py', 'h_string_attributes.py', 'i_string_attributes.py', 'j_old_style_string_formatting.py', 'k_new_style_formatting.py', 'k_string_formatting.txt', 'l_f_strings.py', 'm_f_string_assignments.py', 'n_unicode_characters.py', 'o_unicode_ex.py', 'p_bytearray_string.py', 'q_bytearray_strings.py', 'r_byte_strings.py', 's_byte_strings.py', 't_string_module.py']\n",
      "['assignment1.txt', 'Supermarket_bill.py']\n",
      "['a_relational_operations.py']\n",
      "['a_logical_operations.py', 'b_logical_operations.py', 'c_short_circuit.py']\n",
      "['a_boolean_operations.py', 'b_boolean_operations.py', 'c_bool_function.py', 'd_bool_function_usage.py', 'e_bool_love.py']\n",
      "['a_bitwise_operations.py']\n",
      "['a_identity_operations.py']\n",
      "['a_range_function.py', 'b_range_function.py']\n",
      "['a_even_or_odd.py', 'b_number_guessing_game.py', 'c_office_schedule.py', 'd_vowels_n_consonants.py', 'e_celsius_to_fahrenheit_conversion.py', 'f_temperature_conversion.py', 'g_electricity_bill_generation.py', 'h_leap_years_calculation.py', 'i_prime_number_check.py', 'j_grocery_store.py', 'l_ternary_operations.py']\n",
      "['a_check_number.ipynb', 'b_vowel_char_check.py', 'c_office_schedule.py', 'd_pattern_matching.ipynb', 'e_simple_pattern_match.py']\n",
      "['a_for_loop.py', 'b_progress_bar_implementation.py', 'c_progress_bar.py', 'd_while_loop.py', 'e_multiplication_table.py', 'f_pronic_numbers.py', 'g_number_guessing_game.py', 'h_half_diamond.py', 'i_loops.py', 'j_loops.py', 'k_average.py', 'l_prime_numbers_btwn_interval.py', 'm_calculator.py', 'n_binary_to_decimal.py', 'o_palindrome_string_check.py', 'p_hcf.py']\n",
      "['Assignment_Expression_OR_Walrus_Operator.ipynb', 'a_simple_usage.py']\n",
      "['00_explanation.txt', '01_exceptions_hierarchy.txt', '02_exceptions_handling.py', '03_exception_blocks.py', '04_else_block_importance.py', '05_multiple_exception_lines.py', '06_handling_multiple_exceptions.py', '07_exception_handling_order.py', '08_handling_multiple_exceptions.py', '09_exception_precendence.py', '10_assertions.py', '11_raising_exception.py', '12_get_traceback.py', '13_custom_exceptions.py', '14_exception_groups.py', '15_exception_hooks.py', '16_warnings.py', 'custom_exception.py']\n",
      "['0_explanation.txt', 'a_using_pdb.py', 'b_breakpoint_function.py', 'c_using_ipdb.py', 'd_example.py', 'e_using_pudb.py', 'Python Debugger Cheatsheet.pdf']\n",
      "['Collections___sets_n_Dictionaries.ipynb', 'comprehensions.py', 'comprehensions_ex.py', 'iterable_operations.py']\n",
      "['a_lists.py', 'b_mutability_of_lists.py', 'b_slice_function.py', 'c_list_attributes.py', 'c_slice_function.py', 'd_list_attributes.py', 'e_list_attributes.py', 'f_list_attributes.py', 'g_copy_problem.py', 'h_referencing_problem.py']\n",
      "['01_tuples.py', '02_tuple_attributes.py', '03_tuple_operations.py', '04_immutability.py', '05_named_tuples.py', '06_cartesian_coordinate_system.py', '07_named_tuple_ops.py', '08_unpacking.py']\n",
      "['a_sets_usage.py', 'b_sets.py', 'c_set_atrributes.py', 'd_set_operations.py', 'e_mutability.py', 'f_frozenset.py', 'g_hashables.py', 'h_sets_faqs.py', 'i_get_uncommon_words.py']\n",
      "['a_creating_dict.py', 'b_working_with_dicts.py', 'c_iterating_dicts.py', 'd_dict_operations.py', 'e_dict_operations.py', 'f_copy_problem.py', 'g_dict_operations.py', 'h_using_zip_function.py', 'i_frequency_analyses.py', 'j_progress_bar.py', 'k_switch_case_equivalent.py', 'l_using_format_map.py', 'm_dict_deepcopy.py']\n",
      "['001_necessity_of_functions.py', '002_simple_function.py', '003_function_with_args.py', '004_function_with_two_args.py', '005_function_with_return_value.py', '006_return_values_unpacking.py', '007_sum_function.py', '008_function_overwriting.py', '009_default_args.py', '010_default_args_leakage_issue.py', '011_function_with_variable_args.py', '012_function_with_variable_n_keyword_args.py', '013_postion_only_args.py', '014_keyword_only_args.py', '015_global_vs_local_scope.py', '016_scope_resolution.py', '017_partial_function_ex.py', '018_partical_euclidean_distance.py', '019_lambda_functions.py', '020_higher_order_functions.py', '021_higher_order_functions.py', '022_higher_order_functions.py', '023_recursions.py', '024_recursions.py', '025_fibonacci_series.py', '026_infinite_recursions.py', '027_inner_functions.py', '028_non_local_usage.py', '029_closures_ex.py', '030_closures_ex.py', 'assignment.txt', 'Functional_Programming_in_Python.ipynb', 'Functional_Programming_in_Python.pdf', 'README.md']\n",
      "['001_string_range_n_jump_index.py', '002_price_format.py', 'addition6.py', 'args_and_kwargs.py', 'args_kargs.py', 'calculator1.py', 'crazy_numbers.py', 'display_number_pattern.py', 'divisibility_test.py', 'door_mat.py', 'flatten-list.py', 'leapYear.py', 'pascal_triangle.py', 'pyramid_pattern.py', 'rangoli_string.py', 'tic_tic_toe.py']\n",
      "['00_without_decorators.py', '01_with_decorators.py', '02_with_decorators.py', '03_decorator_syntax_sugar.py', '04b_retry_decorator.py', '04c_retry_on_failure.py', '04_decorator_for_prints.py', '05_time_taken_decorator.py', '06a_multiple_decorators.py', '06_multiple_decorators.py', '07a_decorator_class_with_args.py', '07_decorator_func_with_args.py', '08b_count_call_wraps.py', '08_functools_wrap.py', '09_class_as_decorator.py', '10a_class_as_decorator_wraps.py', '10_class_as_decorator.py', '11_method_as_decorator.py', '12_consumed_coroutine.py', '13_phone_number_formatter.py', '14_tracing_functions_decorator.py', '15_debugging_decorator.py', '16_decorator_with_args.py', '17_functools_lru_cache.py', '18_functools_lru_cache.py', '19b_functools_single_dispatcher.py', '19_functools_single_dispatch.py', '20_functools_multiple_dispatch.py', '21_late_binding.py', 'Decorators.ipynb']\n",
      "['anandology_com_nb_2014_decorators_demystified.pdf', 'decorator1.py', 'Decorators in Python.pdf', 'decorators4.py', 'decorators_Introducing_functools_wraps.py', 'decorators_real_world_example.py', 'decorators_the_basics.py']\n",
      "['a_iterables.py', 'b_enumerate_function.py', 'c_all_and_any_functions.py', 'd_sorting.py', 'explanation.txt', 'e_sorting.py']\n",
      "['a_range.py', 'b_zip_map_filter.py', 'c_user_defined_iterators.py', 'd_user_defined_iterators.py', 'explanation.txt', 'e_user_defined_iterators.png', 'e_user_defined_iterators.py', 'f_Itertools_module.ipynb']\n",
      "['f_Itertools_module-checkpoint.ipynb']\n",
      "['01_generators.py', '02_generators.py', '03_fibonacci_generator.py', '04_generators.py', '05_yield_from.py', '06_generator_pipeline_ex.py', '07_chained_generator_expressions.py', 'assignments.txt', 'generators.py']\n",
      "['assignment', 'a_basic_coroutine.py', 'b_coroutine.py', 'c_coroutines.py', 'd_coroutines_with_count_limit.py', 'e_chained_coroutines_ex.py', 'f_coroutine_based_asyncio.py']\n",
      "['01_math_module.ipynb', '01_math_module.pdf', 'specialnumbers.py']\n",
      "['a_sys_module.ipynb', 'a_sys_module.py', 'b_sys_module.py', 'c_sys_module.py', 'd_sys_get_size_of.py', 'e_sys_get_refcount.py', 'f_stdout_stderr.py', 'g_sys_module.py', 'h_sys_platform.py', 'i_platform_module.py', 'j_calculator.py', 'j_sys_path.py', 'k_sysconfig_module.py', 'l_command_line_args.py', 'm_loterry_ticket_check.py']\n",
      "['myops.py']\n",
      "['a_arg_parse.py', 'b_calculator.py', 'c_arg_parse.py', 'd_nargs_example.py', 'e_parse_date.py']\n",
      "['Pathlib-Cheatsheet.pdf', 'pathlib_module.ipynb']\n",
      "['pathlib_module-checkpoint.ipynb']\n",
      "['01_os_module.py', '02_file_ops.py', '03_clear_screen.py', '03_StopAppsShutdown.py', '04_scan_files.py', '04_scan_python_files.py', '05_glob_module.ipynb', '06_text_size.py', 'delete_pyc_files.py', 'display_tree_of_dirs.py', 'get_text_files.py', 'os_module_discussion.ipynb', 'psutil_module_usage.ipynb', 'scan_pdf.py', 'sysandos.py', 'txtmd5.py', 'workingWithFilesAndFolders.py']\n",
      "['01_copy_file.py', 'explanation', 'shutil-example-1.py', 'shutil-example-2.py', 'shutil_copy2.py', 'shutil_copyfile.py', 'shutil_copyfile1.py', 'shutil_copyfileobj.py', 'shutil_copymode.py', 'shutil_copystat.py', 'shutil_ex.py']\n",
      "['test_file_1.txt']\n",
      "['test_file_1.txt', 'test_file_2.txt']\n",
      "['00_subprocess_ex.py', '01_subprocess_ex.py', '02_subprocess_ex.py', '03_ping_site.py', '04_install_python_packages.py', 'cleanup_pid.py', 'explanation.txt', 'to_save_commandline_output.py']\n",
      "['a_getpass_module.ipynb', 'a_get_pass.py']\n",
      "['a_getpass_module-checkpoint.ipynb']\n",
      "['a_time_module.py', 'b_time_perf_counter.py', 'c_time_sleep.py']\n",
      "['a_timeit_commandline.py', 'b_timeit_module.py', 'c_timeit_with_setup.py', 'd_timeit_module.ipynb']\n",
      "['c_timeit_module-checkpoint.ipynb', 'd_timeit_module-checkpoint.ipynb']\n",
      "['a_datetime_module.ipynb', 'b_datetime_module.py', 'c_Dates and Times.htm']\n",
      "['a_datetime_module-checkpoint.ipynb']\n",
      "['a_calendar_module.ipynb', 'b_display_second_thursday.py', 'c_get_prev_month_last_date.py', 'd_generate_dates.py']\n",
      "['a_calendar_module-checkpoint.ipynb']\n",
      "['pendulum_module_tutorial.ipynb']\n",
      "['pendulum_module_tutorial-checkpoint.ipynb']\n",
      "['01_random_numbers.py', '02_random_numbers.py', '03_tossing_coin.py', '04_random_name_generator.py', '05_cards_game.py', '06_password_generator.py', '07_password_generator.py', '08_random_gaussion_numbers.py', 'cipherwheel.py', 'random_module.ipynb', 'secrets_module.ipynb']\n",
      "['0_collections_module.ipynb', 'a_collections_Counter.py', 'b_collections_Counter.py', 'c_collections_Counter.py', 'd_collections_defaultdict.py', 'e_collections_defaultdict.py', 'f_collections_defaultdict.py', 'g_collections_deque.py', 'h_collections_namedtuple.py', 'i_collections_chainmap.py', 'j_collections_iterable.py', 'k-mutable-mapping.py', 'l_collections_OrderedDict.py', 'l_ordereddict_LRUcache.py']\n",
      "['01_atexit_module.py', '02_atexit_module.py', '03_atexit_module.py']\n",
      "['a_importance_of_context_manager.py', 'b_using_contextlib_contextmanager.py', 'c_contextmanager_decorator.py', 'd_logging_context_manager.py', 'e_redirect_stdout_ex.py', 'f_delayed_function_calls.py', 'g_timeout_context_manager.py', 'h_suppress_context_manager.py', 'i_nullcontext.py', 'j_chidir.py']\n",
      "['bankConsoleUI.py', 'colorama_ex.py', 'coloroma_ex2.py', 'coloroma_ex3.py', 'consoleColor.py', 'consoleDisplayBeautifer.py', 'test_color_console_py30.py']\n",
      "['.env', 'dotenv_usage.py']\n",
      "['base64_ex.py', 'base64_module.ipynb', 'decoded_image.png', 'python_logo.png']\n",
      "['00_turtle_example.py', '01_square.py', '02_star.py', '03_hexagon.py', '04_drawSpiral.py', '05_spiral_square_outside_in.py', '06_spiral_square_inside_out.py', '07_spirals.py', '08_spirals.py', '09_circular_patterns_with_squares.py', '10_drawTriangle.py', '11_Pythagoras_tree.pyw', '12_christmas_tree.py', '13_user_input_pattern.py', '14_rainbow_benzene.py', '15_spiral_helix_pattern.py', '16_spiral_fractal.py', '17_Indian_Flag.py', '18_USA_flag.py', 'chap13.pdf', 'circlefill.py', 'new.py', 'new2.py', 'paramcurve.py', 'polygon.py', 'polysub.py', 'rough.py', 'SevenWaysToUseTurtle-PyCon2009.pdf', 'state_change.py', 'traffic_light.py', 'traffic_light2.py', 'turtle graphocs.pdf', 'turtleGraphics.py', 'turtle_draw_triangle.py', 'turtle_module.py', 'Untitled.ipynb']\n",
      "['a_create_pdf.py', 'b_canvas_form.py', 'c_drawing_polygons.py', 'd_image_on_canvas.py', 'e_simple_table.py', 'form_letter.py', 'f_simple_table_with_style.py', 'g_pdf_from_template.py', 'h_multi_page_pdf.py', 'python_logo.png']\n",
      "['a_num2lettrs.py', 'b_speaking_text.py', 'c_listening_for_events.py', 'd_Interrupting_utterance.py', 'e_changing_voices.py', 'f_changing_speech_rate.py', 'g_changing_volume.py']\n",
      "['a_signal_ex.py']\n",
      "['qrcode_generation.py', 'QR_CODE.png']\n",
      "['a_simple.py', 'b_arguments.py', 'c_argument_type.py', 'd_variable_args.py', 'e_dots.py', 'f_option_names.py', 'g_prompt.py', 'h_coloured.py', 'i_flags.py', 'i_flags2.py', 'i_real_example.py', 'j_env_var.py', 'k_multi_val.py', 'l_multiples.py', 'm_head.py', 'n_groups.py', 'n_groups2.py', 'words.txt']\n",
      "['a_get_value_at_address.py', 'b_get_value_at_address.py', 'c_dereferencing.py', 'd_example.py']\n",
      "['a_example.py', 'b_fake_python_data.py', 'c_fake_international_data.py', 'd_fake_personal_data.py', 'e_psedoradom_fake_data.py']\n",
      "['analogClock.py', 'A_Text_Widget_with_Line_Numbers.py', 'fractualImage.py', 'jitterplot.py', 'ReusableShapes.py', 'textEditor.pyw', 'tkForImage.py', 'tkinterExample.py', 'tkinterExample1.py', 'tkinterExample10password.py', 'tkinterExample2.py', 'tkinterExample3.py', 'tkinterExample4.pyw', 'tkinterExample5buttons.pyw', 'tkinterExample6.pyw', 'tkinterExample7.pyw', 'tkinterExample8.pyw', 'tkinterExample9.pyw', 'tkinterGridManagement.py', 'towersOfHanoi.py', 'using_tkinter.py']\n",
      "['a_signal_based.py']\n",
      "['a_example.py', 'bisect_module.ipynb']\n",
      "['bisect_module-checkpoint.ipynb']\n",
      "['01_sockets.py', '02_sockets.py', '03_sockets.py', '04_sockets.py', '05_sockets.py', '06_sockets.py', 'creating_http_server.py', 'first.py', 'ftp_server.py', 'HClive_server.py', 'live_server.py', 'port_scanner.py', 'send.py', 'server.py', 'Socket Programming in Python.pdf', 'socket1.py', 'socket2.py', 'socket7.py', 'soket8.py', 'start_http_server_in_cmd_line.txt', 'threaded_simple_httpserver.py']\n",
      "['chat_client.py', 'chat_server.py', 'notes.txt']\n",
      "['ast_module_ex.py', 'difflib_module.ipynb', 'hashlib_module.py', 'heap_module.py', 'memcach_ex.py', 'parse_ex.py', 'psutil_module.ipynb', 'sched_basic.py', 'shlex_module.py', 'tqdm_ex.py', 'uuid_module.py', 'zlib_compression.py']\n",
      "['module_usage1.py', 'module_usage2.py', 'README.md', 'saving_pydoc_output.py']\n",
      "['calculator.txt', 'math.txt', '__name__.txt']\n",
      "['calculator.html', 'calculator.py', 'operations.py', 'usage.py', 'usage_calculator.py', 'usage_operations.py', '__init__.py']\n",
      "['module1.py', 'module2.py', 'module3.py', '__init__.py']\n",
      "['tablib___file_format_conversion.png']\n",
      "['0_file_ops.md', 'a_create_file.py', 'a_create_file.txt', 'b_create_file.py', 'b_create_file.txt', 'c_read_file.py', 'd_hybrid_modes.py', 'd_hybrid_modes.txt', 'e_write_multiple_lines.py', 'e_write_multiple_lines.tsf', 'f_read_operations.py', 'g_read_multiple_lines.py', 'h_context_manager.py', 'h_context_manager.txt', 'i_reading_large_file.py', 'smallDistrictsAnalysesProjectCreator.pyw']\n",
      "['dir_scan.py', 'file1.txt', 'file2.txt', 'file2_formatted.txt', 'README.md', 'RemoveLines_of_file2_if_present_in_file1.py']\n",
      "['airports.dat', 'docx_files_ex.py', 'explanation.txt', 'result.docx']\n",
      "['a_write_pickle.py', 'b_dumps_loads.py', 'c_dump_load.py', 'd_pickle_example.py', 'favorite_color.pickle', 'serialized_data.pkl']\n",
      "['a_using_shelve.py']\n",
      "['a_write_xml.py', 'a_write_xml.xml', 'a_write_xml2.xml', 'books.xml', 'b_write_xml.py', 'c_parse_xml.py', 'd_parse_xml_string.py', 'e_parse_xml_string.py', 'f_parse_xml.py', 'g_xml_to_dict.py']\n",
      "['a_write_csv.py', 'b_read_cv.py', 'c_read_csv_using_module.py', 'd_read_csv_using_module.py', 'e_read_csv_using_pandas.py', 'f_writing_csv_DictWriter.py', 'g_writing_csv_using_module.py', 'h_writing_csv_with_different_delimiter.py', 'i_writing_non_english_characters.py', 'j_read_csv_numeric_data.py', 'k_quoting_chars.py', 'l_writing_lineterminator.py', 'my_file.csv', 'm_creating_own_dialect.py', 'non_english.csv', 'other_file.csv', 'other_file2.csv', 'other_file3.csv', 'quote_all.csv', 'quote_minimal.csv', 'quote_none.csv', 'quote_nonnumeric.csv']\n",
      "['a_creating_html_elements.py', 'b_adding_attributes.py', 'c_sub_elements.py', 'd_parsing_html.py', 'e_parse_html.py', 'html cheatsheet.jpg']\n",
      "['01_excel_files.py', '01_read_excelsheet.py', '02_read_excelsheets.py', 'bench_excel_writers.py', 'explanation.txt', 'movies.xls', 'openpyxl_opt.xlsx', 'pandas_excel.py', 'pyexcelerate.xlsx', 'test.xlsx', 'workingWithXLS.py', 'xlsxwriter.xlsx', 'xlsxwriter_opt.xlsx', 'xlwt.xls']\n",
      "['a_writing_excel.py', 'b_creating_sheets.py', 'c_delete_sheets.py', 'd_remove_sheets.py', 'e_insert_cols_rows.py', 'f_delete_cols_rows.py', 'g_iterating_over_cell_values.py', 'h_wrap_text.py', 'i_charts.py', 'j_csv_to_excel.py', 'k_excel_to_csv.py', 'my_file.xlsx', 'my_file1.csv']\n",
      "['my_read.py', 'new.xls']\n",
      "['01_excel.py', '02_excel.py', '03_excel.py', '04_excel.py', '05_excel.py', '06_excel.py', '07_excel.py', '08_excel.py', '09_excel.py', '10_excel.py', '11_excel.py', '12_excel.py', '13_excel.py', 'create_xlsx.py', 'date_examples.xlsx', 'Expenses01.xlsx', 'Expenses02.xlsx', 'hello.xlsx', 'pandas_example.xlsx', 'three.xlsx']\n",
      "['chart_line.xlsx', 'datetimes.xlsx', 'date_examples.xlsx', 'Expenses01.xlsx', 'Expenses02.xlsx', 'Expenses03.xlsx', 'hello.xlsx', 'memory_ex.xlsx', 'mybook.xlsx', 'pandas_example.xlsx', 'three.xlsx']\n",
      "['countries.json', 'countries.py', 'country_code.py', 'country_codes.csv', 'country_codes.json', 'ebook.json', 'json_ex.py', 'mountains.json', 'mountains.py', 'test.json', 'workingWithJson.py', 'workingWithJson1.py', 'workingWithJson_geocoding.py']\n",
      "['a_read_yaml.py', 'b_read_multiple_yaml_docs.py', 'c_write_yaml_string.py', 'data.yaml', 'd_write_yaml_file.py', 'e_sort_keys.py', 'f_json_to_yaml.py', 'items.yaml', 'json_test.json', 'users.yaml', 'yaml-test.yml']\n",
      "['a_create_toml.py', 'a_parse_toml_string.py', 'b_parse_toml.py', 'c_parse_toml.py', 'new_file.toml', 'sample.toml']\n",
      "['a_example.hdf5', 'a_example.py', 'b_file.hdf5', 'b_writing_multiple_datasets.py']\n",
      "['00_show_image.py', '01_create_image.py', '02_create_image.py', '03_image_with_text.py', '04_image_with_text_font.py', '05_resize_image.py', '06_crop_image.py', '06_scaling_image.py', '07_rotate_image.py', '08_edge_detection.py', '09_pixel_management.py', '10_change_desktop_background.py', '11_modify_exif_data.py', '12_applying_filters.py', '13_applying_borders.py', '14_draw_shapes.py', '15_OCR.py', 'ariali.ttf', 'imageExample1.py', 'image_Steganography_ex.py', 'z_optimize_images_with_wand.py']\n",
      "['A.png', 'test.py']\n",
      "['butterfly.png', 'butterfly_blurred.png', 'butterfly_border.png', 'butterfly_color_border.png', 'butterfly_sharper.png', 'cameraman.jpg', 'MotivationalQuote.png', 'python.jpg', 'strawberries.png']\n",
      "['sounddemo.py']\n",
      "['a_download_youtube_video.py', 'b_trim_video.py', 'c_video_processing.py']\n",
      "['a_gzip_files.py', 'b_gzip_files.py', 'test.txt.gz']\n",
      "['a_tar_files.py', 'b_tar_files.py', 'fileOne.txt', 'fileThree.txt', 'fileTwo.txt', 'some.txt', 'tarFileOne.tar']\n",
      "['unzipping_file_example.py', 'zipFiles.txt', 'zipper_ex_1.py', 'zipper_ex_2.py', 'zipping_files_example.py']\n",
      "['01_create_barcode_pdf.py', 'canvas_coords.py', 'canvas_coords2.py', 'creating_pdf_file.py', 'drawing_lines.py', 'drawing_polygons.py', 'font_demo.py', 'free3of9.ttf', 'hello.pdf', 'hello2.pdf', 'report_generation_in_required_format.py', 'rotating_demo.py', 'sample_form_letter.py', 'string_alignment.py']\n",
      "['a_create_config_files.py', 'b_read_config_files.py', 'c_read_config_files.py', 'd_config_files.py', 'example.cfg']\n",
      "['a_read_ini_file.py', 'b_has_section.py', 'c_has_option.py', 'd_read_many.py', 'e_structure.py', 'f_interpolation_defaults.py', 'g_parse_unicode.py', 'h_parse_value_types.py', 'interpolation_defaults.ini', 'multisection.ini', 'simple.ini', 'types.ini', 'unicode.ini']\n",
      "['0_explanation.txt', '0_raw_queries.txt', 'a_create_db_in_memory.py', 'books.db', 'b_create_database.py', 'createdb2.py', 'c_add_data.py', 'db1.py', 'db2.py', 'd_queries.py', 'emaildb.py', 'e_update_record.py', 'f_delete_record.py', 'population.db', 'pymongo_tutorial.ipynb', 'pythonsqlite.db', 'working_sqlite_db.ipynb', 'working_sqlite_db.pdf', 'working_with_MS_SQL.py', 'working_with_sqlite3.txt']\n",
      "['pymongo_tutorial-checkpoint.ipynb']\n",
      "['a_example.py']\n",
      "['core.py', 'models.py', 'tests.py']\n",
      "['music.sqlite', 'workingWithSqlite.py', 'workingWithSqlite3.py']\n",
      "['create_file.py', 'create_file.pyw', 'myfile.pyw']\n",
      "['a_temp_files.py', 'b_tempfile_ops.py', 'c_temp_dir_ops.py', 'd_secure_tempfiles.py']\n",
      "['a_IO_module.py', 'b_io_module.ipynb']\n",
      "['io_module-checkpoint.ipynb']\n",
      "['README.md']\n",
      "['00_logging.png', '00_logging.py', '01_logging.png', '01_logging.py', '02_logging_configuration.py', '03_disabling_logging.py', '04_logging_to_file.py', '05_logging_configuration.py', '06_custom_logging_configuration.py', '07_logging_exceptions.py', '08_disk_space_management.py', '09_pformat_in_logging.py', '10_using_dictconfig.py', '11_logging.conf', '11_using_log_config_file.py', '12_streamhandler_logging.py', '13a_filehandler_logging.py', '13b_filehandler_logging.py', '13_custom_logger.py', '14_multiple_handlers.py', '15_advancedLogging.py', '16_logging_in_json_format.py', '16_logging_json.py', '17_rotational_handler.py', '18_TimedRotatingFileHandler.py', '19_using_memory_handler.py', '20_using_SMTP_handler.py', '21_buffering_logs.py', '22_adding_context_in_logs.py', '23_color_log_in_terminal.py', 'loggingPractice.py']\n",
      "['00_print_log.log', '04_logging.log', '05_logging.log', '07_logging.log', '08_logging.log', '09_logging.log', '13_logging.log', '14_logging.log', '14_multiple_handlers.log']\n",
      "['a_structlog_message.py', 'b_log_rendering_formats.py', 'c_log_config_processors.py', 'c_stack_renderer.py', 'd_example.py', 'e_example.py', 'f_example.py', 'g_example.py', 'logging.conf']\n",
      "['a_log_levels.py', 'b_logging_to_file.py', 'c_logging_to_multiple.py', 'd_different_log_levels_for_each_sink.py', 'e_log_formatting.py', 'file.log', 'f_add_contextual_info_to_log.py', 'g_log_exceptions.py', 'h_loggging_func_entry_exit.py', 'i_custom_logger.py', 'j_rotating_handler.py', 'todo']\n",
      "['python_classes_objects.pdf', 'README.md']\n",
      "['00_without_classes.py', '01_without_classes.py', '02_Instantiation.py', '03_Instantiation.py', '04_constructor.py', '05_constructor_with_args.py', '06_importance_of_self.py', '07_with_classes.py', '08_class_variables.py', '09_Encapsulation.py', '0_explanation.txt', '10_class_method_n_variables.py', '11_static_n_class_methods.py']\n",
      "['01_single_inheritance.py', '02a_mro.png', '02b_mro.png', '03b_single_inheritance.py', '03_single_inheritance.py', '04_custom_exception.py', '05a_multiple_inheritance.py', '05b_multiple_inheritance.py', '06_multi_level_inheritance.py', '07_Composition.py', '08_Method_Overwriting.py', '09_Operator_Overloading.py']\n",
      "['00_controlliing_variable_lifecycle.py', '01_using_property_decorator.py', '02_accessing_method_as_variable.py', '03_property_decoraror.py', '04_property_decorator.py', '05_property_decorator.py', '06_partial_method.py', '07_descriptors.py', '08_descriptors.ipynb', '09_example.py']\n",
      "['00_Dunder_methods.txt', '00_magicmethods.pdf', '01_add_dunder_method.py', '02_Dunder_methods.py', '03_Dunder_methods.py', '04_call_dunder_method.py', '05_repr_dunder_method.py', '06_context_manager.py', '07_custom_iterator.py', '08_slots.py', '09_Dunder_methods.py', '10_functools_total_ordering.py', '11_new_dunder_method.py', '12_singleton_design_pattern.py', '13_singleton_design_pattern.py', '14_singleton_design_pattern.py']\n",
      "['01_data_classes.py', '02_data_classes.py', '03_data_classes.py', '04_data_classes.py', '05_data_classes.py', '06_keyword_only_dataclasses.py', '07_data_class_inheritance.py', '08_namedtuple_with_defaults.py']\n",
      "['01_abc_classes.py', '02_abc_classes.py', '03_abstract_classes.py', '04_shapes1.py', '04_shapes2.py', '05_Stack_Implementation.py', '06_Stack_Implementation.py', '07_Linked_List_creation.py', '08_Linked_List_creation2.py', '09_Double_Linked_list.py', '10_circular_linkedlist.py', '11_Memento_pattern.py', '12_metaclasses.py', '13_Metaclasses_inheritance.py', '14_Enum.ipynb', '15_MetaProgramming In Python.ipynb', 'example.log']\n",
      "['binarySearchTree.py', 'Execution_Time.py', 'get_top_k_cities.py', 'temperature.py', 'web_crawler_threading.py']\n",
      "['input.txt', 'input2.txt', 'word_count.py']\n",
      "['disassembler.py', 'inspecting_code.py', 'precommit_pipeline.png', 'python_2to3_ex.py', 'weak_reference.py']\n",
      "['README.md']\n",
      "['0_explanation.txt', 'a_typing.py', 'b_example.py', 'c_example.py', 'd_example.py', 'e_example.py', 'f_iterator.py', 'g_example.py', 'h_type_aliases.py', 'i_new_types.py', 'j_literals.py', 'k_Union_type.py', 'l_type_annotations.ipynb', 'm_practical_usages.py', 'z_duck_typing.py']\n",
      "['type_annotations-checkpoint.ipynb']\n",
      "['.gitignore', 'CACHEDIR.TAG']\n",
      "['@plugins_snapshot.json', 'abc.data.json', 'abc.meta.json', 'array.data.json', 'array.meta.json', 'builtins.data.json', 'builtins.meta.json', 'codecs.data.json', 'codecs.meta.json', 'contextlib.data.json', 'contextlib.meta.json', 'dataclasses.data.json', 'dataclasses.meta.json', 'enum.data.json', 'enum.meta.json', 'genericpath.data.json', 'genericpath.meta.json', 'io.data.json', 'io.meta.json', 'mmap.data.json', 'mmap.meta.json', 'm_practical_usages.data.json', 'm_practical_usages.meta.json', 'ntpath.data.json', 'ntpath.meta.json', 'pathlib.data.json', 'pathlib.meta.json', 'pickle.data.json', 'pickle.meta.json', 'posixpath.data.json', 'posixpath.meta.json', 're.data.json', 're.meta.json', 'sre_compile.data.json', 'sre_compile.meta.json', 'sre_constants.data.json', 'sre_constants.meta.json', 'sre_parse.data.json', 'sre_parse.meta.json', 'subprocess.data.json', 'subprocess.meta.json', 'sys.data.json', 'sys.meta.json', 'types.data.json', 'types.meta.json', 'typing.data.json', 'typing.meta.json', 'typing_extensions.data.json', 'typing_extensions.meta.json', '_ast.data.json', '_ast.meta.json', '_codecs.data.json', '_codecs.meta.json', '_collections_abc.data.json', '_collections_abc.meta.json', '_ctypes.data.json', '_ctypes.meta.json', '_winapi.data.json', '_winapi.meta.json']\n",
      "['abc.data.json', 'abc.meta.json', '__init__.data.json', '__init__.meta.json']\n",
      "['__init__.data.json', '__init__.meta.json']\n",
      "['charset.data.json', 'charset.meta.json', 'contentmanager.data.json', 'contentmanager.meta.json', 'errors.data.json', 'errors.meta.json', 'header.data.json', 'header.meta.json', 'message.data.json', 'message.meta.json', 'policy.data.json', 'policy.meta.json', '__init__.data.json', '__init__.meta.json']\n",
      "['abc.data.json', 'abc.meta.json', 'machinery.data.json', 'machinery.meta.json', '__init__.data.json', '__init__.meta.json']\n",
      "['_meta.data.json', '_meta.meta.json', '__init__.data.json', '__init__.meta.json']\n",
      "['path.data.json', 'path.meta.json', '__init__.data.json', '__init__.meta.json']\n",
      "['__init__.data.json', '__init__.meta.json']\n",
      "['@plugins_snapshot.json', 'abc.data.json', 'abc.meta.json', 'array.data.json', 'array.meta.json', 'ast.data.json', 'ast.meta.json', 'builtins.data.json', 'builtins.meta.json', 'codecs.data.json', 'codecs.meta.json', 'dataclasses.data.json', 'dataclasses.meta.json', 'genericpath.data.json', 'genericpath.meta.json', 'h_type_aliases.data.json', 'h_type_aliases.meta.json', 'io.data.json', 'io.meta.json', 'k_Union_type.data.json', 'k_Union_type.meta.json', 'mmap.data.json', 'mmap.meta.json', 'ntpath.data.json', 'ntpath.meta.json', 'posix.data.json', 'posix.meta.json', 'posixpath.data.json', 'posixpath.meta.json', 'subprocess.data.json', 'subprocess.meta.json', 'sys.data.json', 'sys.meta.json', 'types.data.json', 'types.meta.json', 'typing.data.json', 'typing.meta.json', 'typing_extensions.data.json', 'typing_extensions.meta.json', '_ast.data.json', '_ast.meta.json', '_collections_abc.data.json', '_collections_abc.meta.json']\n",
      "['__init__.data.json', '__init__.meta.json']\n",
      "['abc.data.json', 'abc.meta.json', 'machinery.data.json', 'machinery.meta.json', '__init__.data.json', '__init__.meta.json']\n",
      "['path.data.json', 'path.meta.json', '__init__.data.json', '__init__.meta.json']\n",
      "['__init__.data.json', '__init__.meta.json']\n",
      "['0_example.txt', 'a_example.py', 'b_example.py', 'c_example.py', 'd_example.py', 'e_example.py']\n",
      "['capco_test.txt', 'explanation.txt', 'PyUnit.txt']\n",
      "['a_example.py', 'b_example.py', 'c_example.py', 'd_example.py']\n",
      "['testing_concurrency.py']\n",
      "['a_unittest_testcases.py', 'b_execution_order_of_testcases.py', 'c_multiple_test_cases.py', 'd_testing_with_multiple_values_on_single_test.py', 'e_testcases_for_a_function.py', 'f_skipping_test_cases.py', 'g_skip_conditions.py', 'h_test_console_output.py', 'i_verify_logging.py', 'j_testing_timeout.py', 'k_test_setup_tearDown_instance_methods.py', 'l_test__setup_tearDown_class_methods.py', 'm_multiple_test_suites.py']\n",
      "['script.py', 'test_script.py']\n",
      "['person.py', 'test_person.py']\n",
      "['.coverage', 'explanation.txt', 'mymod.py', 'test_mymod.py', 'test_mymod2.py']\n",
      "['.coverage', 'calculator.py', 'explanation.txt']\n",
      "['test_addition.py', 'test_division.py', 'test_multiplication.py', 'test_subtraction.py']\n",
      "['calculator.py', 'test_calculator.py', 'test_calculator2.py', 'test_calculator3.py', 'test_calculator4.py']\n",
      "['test_calculator2.py']\n",
      "['.coverage', 'calculate.py', 'test_calculate.py']\n",
      "['.gitignore', 'calculate_py.html', 'coverage_html.js', 'favicon_32.png', 'index.html', 'keybd_closed.png', 'keybd_open.png', 'status.json', 'style.css', 'test_calculate_py.html']\n",
      "['online_shopping.py', 'test_online_shopping.py']\n",
      "['test_multithreading.py']\n",
      "['script.py', 'test_script.py']\n",
      "['printing.py', 'test_printing.py']\n",
      "['calculate_area.py', 'factorial.py', 'test_calculate_area.py', 'test_sumation.py']\n",
      "['a_simple_test.py', 'b_sysexit_test.py', 'c_exception_test.py', 'd_class_test.py', 'd_warnings_test.py', 'e_fixture_test.py', 'f_example.py', 'README.md']\n",
      "['.gitignore', 'CACHEDIR.TAG', 'README.md']\n",
      "['lastfailed', 'nodeids', 'stepwise']\n",
      "['test_sample.py']\n",
      "['test_sample.cpython-311-pytest-7.2.2.pyc']\n",
      "['a_simple_test.cpython-311-pytest-7.2.2.pyc', 'b_sysexit_test.cpython-311-pytest-7.2.2.pyc', 'c_exception_test.cpython-311-pytest-7.2.2.pyc', 'd_class_test.cpython-311-pytest-7.2.2.pyc', 'd_warnings_test.cpython-311-pytest-7.2.2.pyc', 'e_fixture_test.cpython-311-pytest-7.2.2.pyc']\n",
      "['a_function_test.py', 'b_class_test.py', 'c_exception_test.py']\n",
      "['mymath.py', 'test_mymath.py']\n",
      "['example_2.py', 'mockey_patching.md', 'README.md', 'simpleMock.py', 'simpleMocking.py']\n",
      "['exampleA.py', 'exampleB.py', 'exampleC.py', 'exampleD_patching.py', 'exampleE.py']\n",
      "['pricing.py', 'test_pricing.py']\n",
      "['myscript.py', 'test_calculator.py', 'test_mocking.py', 'test_mock_sideeffect.py']\n",
      "['api_access.py', 'test_api_access.py', 'test_api_access_mock.py']\n",
      "['blog_script.py', 'test_blog_script.py', 'test_blog_script2.py']\n",
      "['mymodule.py', 'test_mymodule.py', 'test_mymodule2.py']\n",
      "['fs.py', 'test_fs.py']\n",
      "['0_patching_styles.txt', '1_magic_mock.py', '2_spec_importance.py', '3_autospec.py', '4_autospec_limitation.py', '5_specset.py', '6_newCallable.py', '7_new.py', '8_create.py', '9_kwargs.py']\n",
      "['new.py']\n",
      "['dir_creation.py', 'test_dir_creation.py']\n",
      "['main.py']\n",
      "['0_example_test.py', 'a_pytest_mark.py', 'b_raises_test.py', 'b_test_grouping.py', 'combining_tests.py', 'conftest.py', 'c_fixtures.py', 'd_fixtures.py', 'e2_parametrized_fixtures.py', 'e3_parametrized_fixtures.py', 'e_fixtures.py', 'f_api_test.py', 'mocking_dates.py', 'monkey_patching_test.py', 'pytest.ini', 'pytest.md', 'test_example.py']\n",
      "['fixtures.md']\n",
      "['a_simple_fixture_test.py']\n",
      "['conftest.py', 'test_file1.py', 'test_file2.py']\n",
      "['example_test.py']\n",
      "['a_scopes_test.py', 'b_function_based_scope.py', 'c_class_scope_fixture.py', 'd_session_scope_fixture.py', 'e_module_scope_fixture.py', 'f_autouse_test.py']\n",
      "['a_parametrized_test.py']\n",
      "['conftest.py', 'customer.py', 'test_customer1.py', 'test_customer2.py', 'test_customer3.py', 'test_customer4.py', 'test_customer5.py']\n",
      "['a_online_petition.py', 'facebookLogin.py', 'OU_results.py', 'ou_results1.py', 'quoraBot.py']\n",
      "['capture_screenshot.py', 'move_cursor.py', 'screenshot.png']\n",
      "['a_notepad.py', 'b_calc.py']\n",
      "['a1_example_unformatted.py', 'a2_example_formatted.py', 'b1_example_unformatted.py', 'c_ast_example.py', 'd_ast_module.py', 'README.md']\n",
      "['a_example.py', 'b_example.py', 'c_example.py', 'd_example.py', 'e_example.py', 'f_with_memory_profiler.py', 'g_code_profiling.py', 'h_membership_check.py']\n",
      "['a_example.py']\n",
      "['calculator.py', 'custom_pylintnrc', 'pylint_integration_into_pycharm.JPG', 'README.md', 'runningPylint.JPG']\n",
      "['0_Python+-+Advanced+-+Regular+Expressions.pdf', 'a_re_match.py', 'b_re_match.py', 'c_re_match_IgnoreCase.py', 'd_re_search.py', 'e_re_search.py', 'f_two_ways_of_regex.py', 'g_search_at_start_or_end.py', 'h_search_at_start_or_end.py', 'i_limit_pattern_characters.py', 'ja_greedy_patterns.py', 'jb_non_greedy_patterns.py', 'jc_greedy_n_non_greedy_patterns.py', 'ka_re_findall.py', 'kb_re_findall.py', 'kc_re_findall.py', 'kd_email_validation.py', 'l_pattern_repetition.py', 'm_DOTALL_flag.py', 'n_ASCII_UNICODE_flags.py', 'oa_search_groups.py', 'ob_search_groupdicts.py', 'pa_re_split.py', 'qb_re_sub_perl_regex.py', 'q_re_sub.py', 're_Multiline_flag.py', 'r_log_analyses.py', 's_re_unicode.py', 't_regex_module.py', 'y_re.txt', 'z_reg todo.txt', 'z_regex_online_resoures.txt', 'z_summary.txt']\n",
      "['aa_web_crawler.py', 'ab_web_crawler.py', 'books.xml', 'b_parsing_xml.py', 'c_example1.py', 'c_parsng_json.py', 'd_string_validation.py', 'ip_addresses_info.txt']\n",
      "['explanation.txt', 'TODO']\n",
      "['a_download_files.py', 'b_scrapper.py', 'career_pages.txt', 'covid_cases.py', 'crawling_all_emails_from_a_website.py', 'find_emails_on_a_web_page.py', 'gaana.py', 'geoipy.py', 'get_top10_google_searches.py', 'image_extractor.py', 'introduction.txt', 'Learning Scrapy.pdf', 'linkedin_scraper.py', 'one_million_websites.py', 'saving_a_webPage.py', 'stackoverflow_tags.py', 'stock_scraper.py', 'stock_scraper1.py', 'TODO', 'tweets_scrapper.py', 'Untitled.ipynb', 'webScraping.py', 'webScraping1.py', 'webScraping2.py', 'webScraping3.py', 'webScraping4.py', 'webScraping5.py', 'youtubeSentiment.py']\n",
      "['a1_get_hrefs_in_webpage.py', 'a_get_webpage.py', 'b_encode_url.py', 'google.html', 'rediff_hrefs.txt', 'scrap_billboards.py']\n",
      "['0_urllib_module.py', 'a_get_my_public_ip.py']\n",
      "['a_bs4_vs_gazpacho.py', 'b_get_data.py', 'c_get_data.py']\n",
      "['client.py', 'server.py', 'server2.py', 'server3.py']\n",
      "['soap_ex.py']\n",
      "['APIs.md', 'consume_SOAP_api.py', 'Rest_and_Http_1650765085.pdf']\n",
      "['0_parse_url.py', 'a_parse_url.py', 'b_robot_parser.py', 'get_python_peps.py', 'urllib_request_module.ipynb', 'weather.ini', 'weather.json', 'weather.py', 'workingWithJson_geocoding.py']\n",
      "['urllib_request_module-checkpoint.ipynb']\n",
      "['01weatherWithOutAuthentication.py', 'access_sharepoint.py', 'all_request_methods.py', 'a_requests_session.py', 'b_streaming_request.py', 'currency_ex.py', 'downloadWebPage.py', 'duckduckgo_ex.py', 'duckduckgo_ex2.py', 'example.py', 'example2.py', 'example_1.py', 'financial_status.py', 'flight_schedules.py', 'google_search.py', 'ip2geolocation.py', 'new.py', 'openstreetmap.py', 'openstreetmap2.py', 'twitter_bot.py', 'twython_ex.py', 'world_bank.py', 'xml-vs-json-api.png', 'z_bitcoin_status.py']\n",
      "['nasa_client.py', 'nasa_search_response.json']\n",
      "['python-requests-workshop.odp', 'python-requests-workshop.pdf', 'python-requests-workshop.pptx', 'README.md', 'requirements.txt']\n",
      "['answers_01.py', 'answers_02.py', 'answers_03.py', 'answers_04.py', 'answers_05.py', 'answers_06.py', 'test_data_zip.csv']\n",
      "['examples_01.py', 'examples_02.py', 'examples_03.py', 'examples_04.py', 'examples_05.py', 'examples_06.py', 'test_data_users.csv']\n",
      "['exercises_01.py', 'exercises_02.py', 'exercises_03.py', 'exercises_04.py', 'exercises_05.py', 'exercises_06.py']\n",
      "['a_get_my_ip_details.py', 'b_get_my_ip_details.py', 'c_get_my_ip_details.py', 'd_get_specific_ip_details.py']\n",
      "['a_query_params.py']\n",
      "['a_iss_now.py', 'b_astros_on_ISS_now.py', 'c_iss_passage_info.py']\n",
      "['a_get_ip.py', 'b_get_user_agent.py', 'c_changed_user_agent.py']\n",
      "['a_example.py']\n",
      "['a_cats.py', 'b_dogs.py']\n",
      "['a_example.py', 'b_json_test_api.py']\n",
      "['get_xml_data.py', 'large_file_download.py']\n",
      "['a_single_file_upload.py', 'b_multi_file_upload.py']\n",
      "['basic_auth.py']\n",
      "['a_GET_requests.py', 'b_POST_requests.py', 'c_secure_requests.py', 'd_sending_files.py', 'file_name.txt']\n",
      "['example.py']\n",
      "['todo']\n",
      "['a_client_side.py', 'a_example.py', 'batch_Ex.py', 'b_server_side.py', 'data.csv', 'example1.py', 'from_file.py', 'from_file_2.py']\n",
      "['todo', 'todo.txt', 'web_page_creation.py']\n",
      "['a_helloPython.html', 'a_hello_web.py', 'b_helloPython2.html', 'b_hello_web.py', 'c_helloPython3.html', 'c_helloTemplate.html', 'c_using_template_file.py', 'd_addition_operation.html', 'd_addition_operation.py', 'helloPython3.html']\n",
      "['a_example.py']\n",
      "['a_hello.py', 'b_hellohtml.py', 'c_now.py', 'd_adder.py', 'd_addition_operation.html', 'e_example.py']\n",
      "['d_addition_operation.html']\n",
      "['dynamic_website_with_WSGI.py', 'dynamic_website_with_WSGI2.py']\n",
      "['c_redirections.py', 'd_OpenTelemetry.py', 'e2_flask_JWT.py', 'example.py', 'e_flask_JWT.py', 'f_blueprints.py', 'g_flask_ngrok_example.py', 'myflaskapp.py']\n",
      "['settings.json']\n",
      "['a_simple_app.py', 'b_app_routing.py', 'c_html_reponse.py', 'd_set_cookies.py', 'd_url_for_usage.py', 'e_url_for_usage.py']\n",
      "['a_app.py', 'b_app.py']\n",
      "['login.html']\n",
      "['app.py']\n",
      "['index.html', 'result.html']\n",
      "['README.md']\n",
      "['demo.py']\n",
      "['demo.py']\n",
      "['index.html']\n",
      "['demo.py']\n",
      "['style.css']\n",
      "['base.html', 'index.html', 'remote.html']\n",
      "['demo.py']\n",
      "['jquery-1.7.1.min.js', 'style.css']\n",
      "['base.html', 'index.html', 'music.html', 'remote.html']\n",
      "['app.py', 'login.py', 'main.py', 'music.py', 'remote.py', 'settings.py', 'utils.py']\n",
      "['favicon.ico', 'jquery-1.7.1.min.js', 'style.css']\n",
      "['404.html', 'about.html', 'base.html', 'contact.html', 'index.html', 'login.html', 'music.html', 'remote.html']\n",
      "['app.py', 'login.py', 'music.py', 'remote.py', 'settings.py', 'utils.py']\n",
      "['favicon.ico', 'jquery-1.7.1.min.js', 'style.css']\n",
      "['base.html', 'login.html', 'music.html', 'remote.html']\n",
      "['flaskr.py', 'flaskr_tests.py', 'schema.sql']\n",
      "['style.css']\n",
      "['layout.html', 'login.html', 'show_entries.html']\n",
      "['app.py']\n",
      "['app.py', 'books.json', 'utils.py']\n",
      "['app.py', 'gunicorn.conf.py', 'READMEmd', 'wsgi.py']\n",
      "['books.db']\n",
      "['books.csv', 'jmeter_loadtest.txt', 'locustfile.py', 'test_app.py']\n",
      "['locustfile.cpython-311.pyc']\n",
      "['app.py', 'requirements.txt']\n",
      "['a.py', 'b.py', 'c.py', 'd.py']\n",
      "['main.html']\n",
      "['README.md']\n",
      "['app.py', 'conf.py', 'index.rst', 'make.bat', 'Makefile']\n",
      "['environment.pickle', 'index.doctree']\n",
      "['.buildinfo', 'genindex.html', 'index.html', 'objects.inv', 'search.html', 'searchindex.js']\n",
      "['index.rst.txt']\n",
      "['alabaster.css', 'basic.css', 'custom.css', 'doctools.js', 'documentation_options.js', 'file.png', 'language_data.js', 'minus.png', 'plus.png', 'pygments.css', 'searchtools.js', 'sphinx_highlight.js']\n",
      "['app.cpython-311.pyc']\n",
      "['todo']\n",
      "['01_example.py']\n",
      "['main1.py', 'project1.py', 'project2.py', 'project3a.py', 'project3b.py', 'project4.py', 'project5_fileDownload.py']\n",
      "['app.py', 'a_example.py', 'grpc.png']\n",
      "['a-feedparsing.py', 'feed_parsing_ex.py', 'parse_RSS_feed.py', 'rdflib_sparql_access.py', 'reddit_api_usage.py', 'reddit_python_feed.rss']\n",
      "['example.txt', 'ftplib_module.ipynb', 'README.nluug', 'WhereToFindWhat.txt']\n",
      "['ftplib_module-checkpoint.ipynb']\n",
      "['dummy_data.csv', 'new.py', 'petition.py', 'petition_fake_data_generator.py', 'scraper_tripadvisor.py', 'temp.py']\n",
      "['download_files.py', 'steak-credit-cards.py', 'youtubeVideosDownloading.py']\n",
      "['weather_info.py']\n",
      "['twiiter_scrapping.py', 'twitter_bot.py', 'twitter_scrapping.py']\n",
      "['README.md', 'setup.py']\n",
      "['hello_world.py']\n",
      "['README.md', 'setup.py']\n",
      "['app.py', '__init__py']\n",
      "['say_hi.py', '__init__.py']\n",
      "['dependency_links.txt', 'entry_points.txt', 'PKG-INFO', 'SOURCES.txt', 'top_level.txt']\n",
      "['TODO']\n",
      "['a0_func_return_types.py', 'a1_simple_lambda.py', 'a2_using_event_data.py', 'a3_using_event_data.py', 'a4_calculator_addition.py', 'a5_timezone_function.py', 'a6_temperature_converter.py', 'a7_factorial_func.py', 'a8_fibonacci_series_n_factorial.py', 'a9_palindrome_string_check.py', 'b1_event_object_usage.py', 'b2_function_metadata.py', 'b3_context_object.py', 'c2_log_level_from_env_variable.py', 'c_using_environment_variables.py', 'd1_return_binary_file.py', 'd2_return_csv_data.py', 'd3_return_html.py', 'd4_return_redirect.py', 'e_return_custom_error.py']\n",
      "['a_all_timezones_current_time.py']\n",
      "['b_requests_layer_usage.py']\n",
      "['a1_get_random_person.py', 'a2_get_zodiac_sign.py', 'b_pandas_layer_usage.py', 'c_numpy_usage.py', 'd_matplotlib_usage.py', 'e2_return_image_data.py', 'e_pillow_usage.py', 'f_return_pdf_file.py']\n",
      "['a_generate_UUID.py', 'a_random_password_generator.py', 'b_encode_decode_urls.py', 'c_generate_hash_strings.py', 'd_generate_QR_code.py', 'e_convert_between_diff_image_formats.py']\n",
      "['a_get_session.py', 'boto3Practice.py', 'b_aws_config.py', 'c_aws_resources.py', 'd_unsigned_access.py']\n",
      "['a_get_all_lambdas_info.py']\n",
      "['a_s3_create_bucket.py', 'b_s3_upload_file.py', 'c_s3_retrieve_file_from_bucket.py', 'd_s3_delete_file_obj_from_bucket.py', 'e_list_objs_in_bucket.py']\n",
      "['a_s3_object_creation_event_trigger.py']\n",
      "['a_API_GATEWAY_get_request.py', 'b_return_error_with_CORS.py']\n",
      "['a_API_GATEWAY_get_request.py', 'b_return_error_with_CORS.py']\n",
      "['0_multithreading.md', 'example.py']\n",
      "['a2_worker_threads.py', 'a3_threads.py', 'a_simple_thread.py', 'b1_thread_information.py', 'b2_print_thread_name.py', 'b3_append_threads.py', 'b3__join_get_primes.py', 'b3__join_threads.py', 'b3__join_threads2.py', 'b4_get_active_threads.py', 'b5_daemon_threads.py', 'b6_daemon_threads.py', 'b7_join_daemon_threads.py', 'b8_daemon_join_timeout.py', 'c1_without_threading.py', 'c2_with_multithreading.py', 'c3_squares_cubes.py', 'd2_passing_keywrd_args.py', 'd_pass_two_args_to_threads.py', 'e2_timed_threads.py', 'e_timed_threads.py', 'f_custom_thread_class.py', 'f_thread_local_data.py', 'f_thread_local_data2.py', 'g_start_thread.py', 'h_catching_keyboard_interrupt.py', 'i2_get_thread_return_val.py', 'i_get_thread_return_value.py']\n",
      "['a1_custom_thread_class.py', 'a2_custom_thread_class.py.py', 'a3_custom_thread_class.py', 'a4_fibonacci_series.py', 'a5_write_async.py', 'a_writing_thread.py', 'b1_ping_status_with_threads.py', 'c_thread_class_with_args.py', 'c_worker_thread_subclass.py']\n",
      "['0_locks.md', 'a1_race_condition.py', 'b1a_class_based_solution.py', 'b1_race_condition_solution.py', 'b2b_sleep_threads_with_locks.py', 'b2_sync_with_locks.py', 'b3a_primes_without_locks.py', 'b3b_with_locks_check_prime.py', 'b4_locks_access_to_resources.py', 'b5_with_locks.py', 'b6_with_locks_daemon_process.py', 'b7_timer_threads_with_locks.py', 'b8a_context_manager_locks.py', 'b8b_context_manager_locks.py', 'b9_safe_counter.py', 'c1_problem_with_locks.py', 'c_rlock.py']\n",
      "['0-conditions.md', 'a_condition.py']\n",
      "['a_semaphores.py', 'b_limit_concurrent_access.py']\n",
      "['a_event.py', 'a_signal_betwn_threads.py']\n",
      "['a_barriers.py']\n",
      "['a_traditonal_solution.py', 'b_threading_based_solution.py', 'c_generic_implementation.py']\n",
      "['a_get_return_value_from_thread.py', 'b_process_pool.py', 'c_process_pool_usage.py', 'd_thread_pool.py', 'e_thread_pool.py', 'f_thread_pool.py', 'g_thread_pool_usage.py', 'h_thread_pool_usage.py']\n",
      "['Ch9.py', 'thread_sample.py']\n",
      "['a_multiprocessing.py', 'a_sleep_process.py', 'b1_process_pool.py', 'b_process_pool.py', 'c_worker_processes.py', 'd_worker_process_subclass.py', 'example.py', 'example2.py', 'kill_prcess.py', 'multiprocessing_queue.py', 'mutiprocessing_pool.py', 'mutiprocessing_queue.py', 'zip_codes_based_scrapping.py']\n",
      "['0_parallel_processng.txt', 'a_get_cpu_count.py', 'a_mutliprocessing_ex.py', 'b_concurrent_futures_ex.py', 'b_without_multiprocessing.py', 'concurrent_ex.py', 'c_pool_apply.py', 'd_pool_map.py', 'e_pool_starmap.py', 'multi_threading_download.py', 'multi_threading_ex1.py']\n",
      "['a1_asynchronous_function.py', 'a2_asynchronous_function.py', 'a3_async_function.py', 'b_asynchronous_sleep.py', 'c_asynchronous_sleep.py', 'd_async_tasks.py', 'e1_cancel_task.py', 'e_callback_for_tasks.py', 'f_asyncio_ex.py', 'g2_asyncio_task_group.py', 'g_asyncio_gather.py', 'h_asyncio_wait.py', 'i_asyncio_wait_for.py', 'j_asyncio_as_completed.py', 'k_asyncio_ex.py', 'l_asyncio_ex.py', 'm_asyncio_ex.py', 'n_asyncio_ex.py', 'o_async_requests.py', 'p_semaphore.py', 'q_file_reads.py', 'README.md']\n",
      "['celeryconfig.py', 'client.py']\n",
      "['a_simple.py', 'b_example.py', 'c_jinja_object.py', 'd_jinja_dictionaries.py', 'e_jinja_rawdata.py', 'f_escape_data.py', 'g_expresssion_from_template.py', 'h_sum_filter.py', 'i_template_inheritance.py', 'j_jinja_flask.py', 'README.md']\n",
      "['about.html', 'base.html', 'index.html', 'showpersons.txt', 'sumprices.txt']\n",
      "['Arc_Listener.py', 'icc_cricket-notifications.py', 'IMG_20190213_223837.jpg', 'news_notifier.py', 'python_email_sending_script_using_ssl.py', 'todo']\n",
      "['app.py', 'db.py', 'db_design.md', 'db_schema.sql', 'usage.py']\n",
      "['db.json', 'README.md', 'requirements.txt', 'server.py']\n",
      "['app.py', 'dbDesign.md', 'fake_data_generator.py']\n",
      "['schema.txt']\n",
      "['README.md', 'requirements.txt']\n",
      "['SilkStart Dev Test [9449].pdf', 'users.json']\n",
      "['app.py', 'test_api.py', 'usage_client.py']\n",
      "['.coverage', 'main.py', 'README.md', 'test_main.py']\n",
      "['settings.json']\n",
      "['.env', 'app.py']\n",
      "['.coverage', 'git_file_compare.py', 'README.md', 'rsync.py', 'test_rsync.py']\n",
      "['bar', 'baz', 'foo']\n",
      "['bar', 'baz', 'foo']\n",
      "['README.md', 'tax_calculator.py', 'test_tax_calculator.py']\n",
      "['Final Assessment Test -1.ipynb', 'Final Assessment Test -1.pdf', 'Final Assessment Test -2.ipynb', 'Final Assessment Test -2.pdf', 'Interview Question paper Set-1.ipynb', 'Interview Question paper Set-1.pdf', 'Interview Question paper Set-2.ipynb', 'Interview Question paper Set-2.pdf', 'Interview Question paper Set-3.ipynb', 'Interview Question paper Set-3.pdf', 'Interview Question paper Set-4.ipynb', 'Interview Question paper Set-4.pdf', 'parse_logs.txt', 'Post-Assessment Answers.ipynb', 'Post-Assessment Answers.pdf', 'Post-Assessment.ipynb', 'Post-Assessment.pdf', 'Pre-Assessment Test Answers.ipynb', 'Pre-Assessment Test Answers.pdf', 'Pre-Assessment Test.ipynb', 'Pre-Assessment Test.pdf']\n",
      "['anti_pattern1.ipynb', 'gotchas_n_hiddenFeatures.txt', 'memory_management.ipynb', 'one_liners.py', 'weak_reference.py']\n",
      "['a_example.ipynb']\n",
      "['a_simple.py', 'b_validation.py', 'c_example.py', 'd_example.py', 'e_example.py', 'f_example.py', 'g_nested_schema.py', 'h_nested_schema.py', 'i_nested_schema.py', 'j_nested_schema.py', 'k_all_types.py', 'k_all_types_test.py', 'z_app.py']\n",
      "['a_Single_Responsibility_Principle.py', 'b_Open_Closed_Principle.py', 'c_Liskov_Substitution_Principle.py', 'd_Interface_Segregation_Principle.py', 'e_Dependency_Inversion_Principle.py']\n",
      "['a1_single_table.ipynb', 'a2_single_table.ipynb', 'alembic.ini', 'b1_two_tables.ipynb', 'b2_two_tables.ipynb', 'b_two_tables.db', 'c_three_tables.db', 'c_three_tables.ipynb', 'example.db', 'e_modify_schema.ipynb', 's2_single_table.db']\n",
      "['env.py', 'README', 'script.py.mako']\n",
      "['env.cpython-311.pyc']\n"
     ]
    }
   ],
   "source": [
    "for each_dir, dirs, files in os.walk(\".\"):\n",
    "    if files:\n",
    "        # If that directory has files\n",
    "        print(files)"
   ]
  },
  {
   "cell_type": "code",
   "execution_count": 92,
   "metadata": {},
   "outputs": [
    {
     "name": "stdout",
     "output_type": "stream",
     "text": [
      "In this course, there are 1450 python files & 71 jupyter notebook files\n"
     ]
    }
   ],
   "source": [
    "py_files = []\n",
    "juypter_notebook_files = []\n",
    "for each_dir, dirs, files in os.walk(\".\"):\n",
    "    for each_file in files:\n",
    "        file_name, file_extn = os.path.splitext(each_file)\n",
    "        if file_extn == \".py\":\n",
    "            py_files.append(each_file)\n",
    "        elif file_extn == \".ipynb\":\n",
    "            juypter_notebook_files.append(each_file)\n",
    "\n",
    "print(\n",
    "    f\"In this course, there are {len(py_files)} python files & {len(juypter_notebook_files)} jupyter notebook files\"\n",
    ")"
   ]
  },
  {
   "cell_type": "markdown",
   "metadata": {},
   "source": [
    "### Working with paths"
   ]
  },
  {
   "cell_type": "code",
   "execution_count": 93,
   "metadata": {},
   "outputs": [
    {
     "data": {
      "text/plain": [
       "'temp.txt'"
      ]
     },
     "execution_count": 93,
     "metadata": {},
     "output_type": "execute_result"
    }
   ],
   "source": [
    "os.path.basename(\"/home/user/temp.txt\")  # doesnt check for presence of file"
   ]
  },
  {
   "cell_type": "code",
   "execution_count": 94,
   "metadata": {},
   "outputs": [
    {
     "data": {
      "text/plain": [
       "'/home/user'"
      ]
     },
     "execution_count": 94,
     "metadata": {},
     "output_type": "execute_result"
    }
   ],
   "source": [
    "os.path.dirname(\"/home/user/temp.txt\")"
   ]
  },
  {
   "cell_type": "code",
   "execution_count": 95,
   "metadata": {},
   "outputs": [
    {
     "data": {
      "text/plain": [
       "'D:\\\\MEGAsync\\\\Python-related\\\\PythonMaterial\\\\python3\\\\temp.txt'"
      ]
     },
     "execution_count": 95,
     "metadata": {},
     "output_type": "execute_result"
    }
   ],
   "source": [
    "os.path.abspath(\"temp.txt\")"
   ]
  },
  {
   "cell_type": "code",
   "execution_count": 96,
   "metadata": {},
   "outputs": [
    {
     "data": {
      "text/plain": [
       "'D:\\\\MEGAsync\\\\Python-related\\\\PythonMaterial\\\\python3\\\\temp.txt'"
      ]
     },
     "execution_count": 96,
     "metadata": {},
     "output_type": "execute_result"
    }
   ],
   "source": [
    "assert os.path.abspath(\"temp.txt\") == os.getcwd() + os.sep + \"temp.txt\"\n",
    "\n",
    "os.getcwd() + os.sep + \"temp.txt\""
   ]
  },
  {
   "cell_type": "code",
   "execution_count": 97,
   "metadata": {},
   "outputs": [
    {
     "data": {
      "text/plain": [
       "'D:\\\\home\\\\user\\\\temp.txt'"
      ]
     },
     "execution_count": 97,
     "metadata": {},
     "output_type": "execute_result"
    }
   ],
   "source": [
    "os.path.realpath(\"/home/user/temp.txt\")  # no validation for presence of file"
   ]
  },
  {
   "cell_type": "code",
   "execution_count": 98,
   "metadata": {},
   "outputs": [
    {
     "data": {
      "text/plain": [
       "('/home/user/temp', '.log')"
      ]
     },
     "execution_count": 98,
     "metadata": {},
     "output_type": "execute_result"
    }
   ],
   "source": [
    "os.path.splitext(\"/home/user/temp.log\")"
   ]
  },
  {
   "cell_type": "code",
   "execution_count": 99,
   "metadata": {},
   "outputs": [
    {
     "data": {
      "text/plain": [
       "('temp', '.log')"
      ]
     },
     "execution_count": 99,
     "metadata": {},
     "output_type": "execute_result"
    }
   ],
   "source": [
    "os.path.splitext(\"temp.log\")"
   ]
  },
  {
   "cell_type": "code",
   "execution_count": 100,
   "metadata": {},
   "outputs": [
    {
     "data": {
      "text/plain": [
       "('', '/home/user/temp.txt')"
      ]
     },
     "execution_count": 100,
     "metadata": {},
     "output_type": "execute_result"
    }
   ],
   "source": [
    "os.path.splitdrive(\"/home/user/temp.txt\")"
   ]
  },
  {
   "cell_type": "code",
   "execution_count": 101,
   "metadata": {},
   "outputs": [
    {
     "data": {
      "text/plain": [
       "('c:', '/home/user/temp.txt')"
      ]
     },
     "execution_count": 101,
     "metadata": {},
     "output_type": "execute_result"
    }
   ],
   "source": [
    "os.path.splitdrive(\"c:/home/user/temp.txt\")"
   ]
  },
  {
   "cell_type": "code",
   "execution_count": 102,
   "metadata": {},
   "outputs": [
    {
     "data": {
      "text/plain": [
       "'.'"
      ]
     },
     "execution_count": 102,
     "metadata": {},
     "output_type": "execute_result"
    }
   ],
   "source": [
    "os.path.extsep"
   ]
  },
  {
   "cell_type": "code",
   "execution_count": 103,
   "metadata": {},
   "outputs": [
    {
     "name": "stdout",
     "output_type": "stream",
     "text": [
      "\\ \\\n"
     ]
    }
   ],
   "source": [
    "import sys\n",
    "\n",
    "if sys.platform == \"win32\":\n",
    "    path_joiner = \"\\\\\"\n",
    "else:\n",
    "    path_joiner = \"/\"\n",
    "\n",
    "print(path_joiner, os.sep)"
   ]
  },
  {
   "cell_type": "code",
   "execution_count": 104,
   "metadata": {},
   "outputs": [],
   "source": [
    "assert path_joiner == os.sep"
   ]
  },
  {
   "cell_type": "code",
   "execution_count": 105,
   "metadata": {},
   "outputs": [
    {
     "data": {
      "text/plain": [
       "'css\\\\america'"
      ]
     },
     "execution_count": 105,
     "metadata": {},
     "output_type": "execute_result"
    }
   ],
   "source": [
    "os.path.join(\"css\", \"america\")"
   ]
  },
  {
   "cell_type": "code",
   "execution_count": 106,
   "metadata": {},
   "outputs": [
    {
     "data": {
      "text/plain": [
       "'css\\\\america\\\\asdas\\\\sad\\\\dfgd'"
      ]
     },
     "execution_count": 106,
     "metadata": {},
     "output_type": "execute_result"
    }
   ],
   "source": [
    "os.path.join(\"css\", \"america\", \"asdas\", \"sad\", \"dfgd\")"
   ]
  },
  {
   "cell_type": "code",
   "execution_count": 107,
   "metadata": {},
   "outputs": [
    {
     "data": {
      "text/plain": [
       "'css\\\\america\\\\asdas\\\\sad\\\\dfgd'"
      ]
     },
     "execution_count": 107,
     "metadata": {},
     "output_type": "execute_result"
    }
   ],
   "source": [
    "\"\\\\\".join((\"css\", \"america\", \"asdas\", \"sad\", \"dfgd\"))"
   ]
  },
  {
   "cell_type": "code",
   "execution_count": 108,
   "metadata": {},
   "outputs": [
    {
     "data": {
      "text/plain": [
       "'css\\\\america\\\\asdas\\\\sad\\\\dfgd'"
      ]
     },
     "execution_count": 108,
     "metadata": {},
     "output_type": "execute_result"
    }
   ],
   "source": [
    "(os.sep).join((\"css\", \"america\", \"asdas\", \"sad\", \"dfgd\"))"
   ]
  },
  {
   "cell_type": "code",
   "execution_count": 109,
   "metadata": {},
   "outputs": [],
   "source": [
    "assert os.path.join(\"css\", \"america\", \"asdas\", \"sad\", \"dfgd\") == (os.sep).join(\n",
    "    (\"css\", \"america\", \"asdas\", \"sad\", \"dfgd\")\n",
    ")"
   ]
  },
  {
   "cell_type": "code",
   "execution_count": 110,
   "metadata": {},
   "outputs": [
    {
     "data": {
      "text/plain": [
       "'css\\\\america\\\\asdas\\\\sad\\\\dfgd'"
      ]
     },
     "execution_count": 110,
     "metadata": {},
     "output_type": "execute_result"
    }
   ],
   "source": [
    "new_path = os.path.join(\"css\", \"america\", \"asdas\", \"sad\", \"dfgd\")\n",
    "new_path"
   ]
  },
  {
   "cell_type": "code",
   "execution_count": 111,
   "metadata": {},
   "outputs": [
    {
     "data": {
      "text/plain": [
       "True"
      ]
     },
     "execution_count": 111,
     "metadata": {},
     "output_type": "execute_result"
    }
   ],
   "source": [
    "os.path.exists(new_path)"
   ]
  },
  {
   "cell_type": "code",
   "execution_count": 112,
   "metadata": {},
   "outputs": [
    {
     "data": {
      "text/plain": [
       "['00_Demo',\n",
       " '01_Introduction',\n",
       " '02_Basics',\n",
       " '03_Language_Components',\n",
       " '04_Exceptions',\n",
       " '05_Debugging',\n",
       " '06_Collections',\n",
       " '07_Functions',\n",
       " '08_Decorators',\n",
       " '09_Iterators_generators_coroutines',\n",
       " '10_Modules',\n",
       " '11_File_Operations',\n",
       " '12_Logging',\n",
       " '13_OOP',\n",
       " '14_Code_Quality',\n",
       " '15_Regular_Expressions',\n",
       " '16_Web_Services',\n",
       " '17_Packaging',\n",
       " '18_aws_cloud',\n",
       " '19_Concurrency_and_Parallel_Programming',\n",
       " 'CELERY_WORK',\n",
       " 'css',\n",
       " 'interview_questions.txt',\n",
       " 'jinja_templating',\n",
       " 'Projects',\n",
       " 'Python Assessment Tests',\n",
       " 'Python-Internals',\n",
       " 'python_assessment_test.docx',\n",
       " 'Python_MCQ_interview_questions.docx',\n",
       " 'Python_Open Queries.docx',\n",
       " 'Python_Recommended_Material.txt',\n",
       " 'Serializers',\n",
       " 'SOLID-design-principles',\n",
       " 'sqlalchemyORM',\n",
       " 'TODO.txt']"
      ]
     },
     "execution_count": 112,
     "metadata": {},
     "output_type": "execute_result"
    }
   ],
   "source": [
    "os.listdir(\".\")"
   ]
  },
  {
   "cell_type": "code",
   "execution_count": 113,
   "metadata": {},
   "outputs": [],
   "source": [
    "if not os.path.exists(new_path):\n",
    "    os.makedirs(new_path)"
   ]
  },
  {
   "cell_type": "code",
   "execution_count": 114,
   "metadata": {},
   "outputs": [
    {
     "data": {
      "text/plain": [
       "['00_Demo',\n",
       " '01_Introduction',\n",
       " '02_Basics',\n",
       " '03_Language_Components',\n",
       " '04_Exceptions',\n",
       " '05_Debugging',\n",
       " '06_Collections',\n",
       " '07_Functions',\n",
       " '08_Decorators',\n",
       " '09_Iterators_generators_coroutines',\n",
       " '10_Modules',\n",
       " '11_File_Operations',\n",
       " '12_Logging',\n",
       " '13_OOP',\n",
       " '14_Code_Quality',\n",
       " '15_Regular_Expressions',\n",
       " '16_Web_Services',\n",
       " '17_Packaging',\n",
       " '18_aws_cloud',\n",
       " '19_Concurrency_and_Parallel_Programming',\n",
       " 'CELERY_WORK',\n",
       " 'css',\n",
       " 'interview_questions.txt',\n",
       " 'jinja_templating',\n",
       " 'Projects',\n",
       " 'Python Assessment Tests',\n",
       " 'Python-Internals',\n",
       " 'python_assessment_test.docx',\n",
       " 'Python_MCQ_interview_questions.docx',\n",
       " 'Python_Open Queries.docx',\n",
       " 'Python_Recommended_Material.txt',\n",
       " 'Serializers',\n",
       " 'SOLID-design-principles',\n",
       " 'sqlalchemyORM',\n",
       " 'TODO.txt']"
      ]
     },
     "execution_count": 114,
     "metadata": {},
     "output_type": "execute_result"
    }
   ],
   "source": [
    "os.listdir()"
   ]
  },
  {
   "cell_type": "code",
   "execution_count": 115,
   "metadata": {},
   "outputs": [
    {
     "data": {
      "text/plain": [
       "4096"
      ]
     },
     "execution_count": 115,
     "metadata": {},
     "output_type": "execute_result"
    }
   ],
   "source": [
    "os.path.getsize(\"01_Introduction\")"
   ]
  },
  {
   "cell_type": "code",
   "execution_count": 116,
   "metadata": {},
   "outputs": [
    {
     "data": {
      "text/plain": [
       "os.stat_result(st_mode=16895, st_ino=844424930378503, st_dev=2631168316, st_nlink=1, st_uid=0, st_gid=0, st_size=4096, st_atime=1683278639, st_mtime=1681639739, st_ctime=1622916118)"
      ]
     },
     "execution_count": 116,
     "metadata": {},
     "output_type": "execute_result"
    }
   ],
   "source": [
    "os.stat(\"01_Introduction\")"
   ]
  },
  {
   "cell_type": "code",
   "execution_count": 117,
   "metadata": {},
   "outputs": [
    {
     "data": {
      "text/plain": [
       "1681639739.164843"
      ]
     },
     "execution_count": 117,
     "metadata": {},
     "output_type": "execute_result"
    }
   ],
   "source": [
    "os.stat(\"01_Introduction\").st_mtime"
   ]
  },
  {
   "cell_type": "code",
   "execution_count": 118,
   "metadata": {},
   "outputs": [
    {
     "data": {
      "text/plain": [
       "<nt.ScandirIterator at 0x16e8dbc4080>"
      ]
     },
     "execution_count": 118,
     "metadata": {},
     "output_type": "execute_result"
    }
   ],
   "source": [
    "os.scandir()  # Using scandir() instead of listdir() can significantly increase the performance of code"
   ]
  },
  {
   "cell_type": "code",
   "execution_count": 119,
   "metadata": {},
   "outputs": [
    {
     "data": {
      "text/plain": [
       "[<DirEntry '00_Demo'>,\n",
       " <DirEntry '01_Introduction'>,\n",
       " <DirEntry '02_Basics'>,\n",
       " <DirEntry '03_Language_Components'>,\n",
       " <DirEntry '04_Exceptions'>,\n",
       " <DirEntry '05_Debugging'>,\n",
       " <DirEntry '06_Collections'>,\n",
       " <DirEntry '07_Functions'>,\n",
       " <DirEntry '08_Decorators'>,\n",
       " <DirEntry '09_Iterators_generators_coroutines'>,\n",
       " <DirEntry '10_Modules'>,\n",
       " <DirEntry '11_File_Operations'>,\n",
       " <DirEntry '12_Logging'>,\n",
       " <DirEntry '13_OOP'>,\n",
       " <DirEntry '14_Code_Quality'>,\n",
       " <DirEntry '15_Regular_Expressions'>,\n",
       " <DirEntry '16_Web_Services'>,\n",
       " <DirEntry '17_Packaging'>,\n",
       " <DirEntry '18_aws_cloud'>,\n",
       " <DirEntry '19_Concurrency_and_Parallel_Programming'>,\n",
       " <DirEntry 'CELERY_WORK'>,\n",
       " <DirEntry 'css'>,\n",
       " <DirEntry 'interview_questions.txt'>,\n",
       " <DirEntry 'jinja_templating'>,\n",
       " <DirEntry 'Projects'>,\n",
       " <DirEntry 'Python Assessment Tests'>,\n",
       " <DirEntry 'Python-Internals'>,\n",
       " <DirEntry 'python_assessment_test.docx'>,\n",
       " <DirEntry 'Python_MCQ_interview_questions.docx'>,\n",
       " <DirEntry 'Python_Open Queries.docx'>,\n",
       " <DirEntry 'Python_Recommended_Material.txt'>,\n",
       " <DirEntry 'Serializers'>,\n",
       " <DirEntry 'SOLID-design-principles'>,\n",
       " <DirEntry 'sqlalchemyORM'>,\n",
       " <DirEntry 'TODO.txt'>]"
      ]
     },
     "execution_count": 119,
     "metadata": {},
     "output_type": "execute_result"
    }
   ],
   "source": [
    "list(os.scandir())"
   ]
  },
  {
   "cell_type": "code",
   "execution_count": 120,
   "metadata": {},
   "outputs": [
    {
     "data": {
      "text/plain": [
       "nt.DirEntry"
      ]
     },
     "execution_count": 120,
     "metadata": {},
     "output_type": "execute_result"
    }
   ],
   "source": [
    "os.DirEntry"
   ]
  },
  {
   "cell_type": "code",
   "execution_count": 121,
   "metadata": {},
   "outputs": [
    {
     "data": {
      "text/plain": [
       "<member 'name' of 'nt.DirEntry' objects>"
      ]
     },
     "execution_count": 121,
     "metadata": {},
     "output_type": "execute_result"
    }
   ],
   "source": [
    "os.DirEntry.name"
   ]
  },
  {
   "attachments": {},
   "cell_type": "markdown",
   "metadata": {},
   "source": [
    "Attributes which work only on Linux\n",
    "====================================\n",
    "\n",
    "    os.getloadavg(): This function returns the system load average over the last 1, 5, and 15 minutes as a tuple. This function is not available on Windows.\n",
    "\n",
    "    os.statvfs(): This function returns information about a file system such as the total size, free space, and file system block size. This function is not available on Windows.\n",
    "\n",
    "    os.pipe(): This function creates a pair of connected file descriptors, which can be used for interprocess communication. This function is not available on Windows.\n",
    "\n",
    "    os.chroot(): This function changes the root directory of the current process to the specified directory. This function is not available on Windows.\n",
    "\n",
    "    os.fchown(): This function changes the owner and group of a file, given the file descriptor. This function is not available on Windows.\n",
    "\n",
    "    os.setresuid(): This function sets the real, effective, and saved user IDs of the current process. This function is not available on Windows.\n",
    "\n",
    "    os.setresgid(): This function sets the real, effective, and saved group IDs of the current process. This function is not available on Windows."
   ]
  },
  {
   "cell_type": "markdown",
   "metadata": {},
   "source": []
  }
 ],
 "metadata": {
  "kernelspec": {
   "display_name": "Python 3",
   "language": "python",
   "name": "python3"
  },
  "language_info": {
   "codemirror_mode": {
    "name": "ipython",
    "version": 3
   },
   "file_extension": ".py",
   "mimetype": "text/x-python",
   "name": "python",
   "nbconvert_exporter": "python",
   "pygments_lexer": "ipython3",
   "version": "3.11.3"
  }
 },
 "nbformat": 4,
 "nbformat_minor": 2
}
